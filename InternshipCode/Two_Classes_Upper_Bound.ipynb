{
 "cells": [
  {
   "cell_type": "code",
   "execution_count": 1,
   "metadata": {},
   "outputs": [],
   "source": [
    "import numpy as np\n",
    "import matplotlib.pyplot as plt\n",
    "%matplotlib inline\n",
    "\n",
    "\n",
    "def Belief(State,p,r):\n",
    "    \n",
    "    equilibrium = r/(1-p+r);\n",
    "    \n",
    "    if State[0]== 0 and State[1]> 0:\n",
    "            Belief = (r-r*(p-r)**(State[1]))/(1+r-p);\n",
    "    elif State[0]== 1 and State[1]> 0:\n",
    "            Belief = (r+(1-p)*(p-r)**(State[1]))/(1+r-p);\n",
    "            \n",
    "    else:\n",
    "        \n",
    "        Belief = equilibrium;\n",
    "\n",
    "    return Belief;\n",
    "\n",
    "\n",
    "def TransitionMatrix(t,rho,p,r):\n",
    "    M = np.zeros((t+2,t+2));\n",
    "    for i in range (t-1):\n",
    "        M[i,i+1]=1;\n",
    "    M[t-1,0]= rho*(1-Belief([0,t],p,r));\n",
    "    M[t-1,t]= 1-rho;\n",
    "    M[t-1,t+1]= rho*Belief([0,t],p,r);\n",
    "    M[t,0]= 1-Belief([0,t+1],p,r);\n",
    "    M[t,t+1]= Belief([0,t+1],p,r);\n",
    "    M[t+1,0]= 1-Belief([1,1],p,r);\n",
    "    M[t+1,t+1]= Belief([1,1],p,r);\n",
    "    return M;\n",
    "\n",
    "\n"
   ]
  },
  {
   "cell_type": "code",
   "execution_count": 2,
   "metadata": {},
   "outputs": [
    {
     "name": "stdout",
     "output_type": "stream",
     "text": [
      "[[0.      1.      0.      0.      0.      0.     ]\n",
      " [0.      0.      1.      0.      0.      0.     ]\n",
      " [0.      0.      0.      1.      0.      0.     ]\n",
      " [0.17328 0.      0.      0.      0.6     0.22672]\n",
      " [0.42996 0.      0.      0.      0.      0.57004]\n",
      " [0.3     0.      0.      0.      0.      0.7    ]]\n"
     ]
    }
   ],
   "source": [
    "print(TransitionMatrix(4,0.4,0.7,0.4));"
   ]
  },
  {
   "cell_type": "code",
   "execution_count": 2,
   "metadata": {
    "scrolled": true
   },
   "outputs": [],
   "source": [
    "def steady_state_prop(p):\n",
    "    dim = p.shape[0]\n",
    "    q = (p-np.eye(dim))\n",
    "    ones = np.ones(dim)\n",
    "    q = np.c_[q,ones]\n",
    "    QTQ = np.dot(q, q.T)\n",
    "    bQT = np.ones(dim)\n",
    "    return np.linalg.solve(QTQ,bQT)\n",
    "\n"
   ]
  },
  {
   "cell_type": "code",
   "execution_count": null,
   "metadata": {},
   "outputs": [],
   "source": []
  },
  {
   "cell_type": "code",
   "execution_count": 3,
   "metadata": {},
   "outputs": [
    {
     "name": "stdout",
     "output_type": "stream",
     "text": [
      "5\n"
     ]
    }
   ],
   "source": [
    "def find_threshold(alpha,p,r):\n",
    "    threshold=0;\n",
    "    while threshold >=0:\n",
    "        steadystate= steady_state_prop(TransitionMatrix(threshold,0.01,p,r));\n",
    "        active= steadystate[threshold-1]*0.01+steadystate[threshold]+steadystate[threshold+1];\n",
    "        if active< alpha:\n",
    "            break\n",
    "        threshold += 1;\n",
    "    return threshold;\n",
    "\n",
    "\n",
    "t=find_threshold(0.4,0.7,0.4);\n",
    "print(t);\n",
    "\n",
    "\n"
   ]
  },
  {
   "cell_type": "code",
   "execution_count": 6,
   "metadata": {},
   "outputs": [
    {
     "name": "stdout",
     "output_type": "stream",
     "text": [
      "[0.13329641 0.13329641 0.13329641 0.13329641 0.13329641 0.07997785\n",
      " 0.25354009]\n",
      "[0.15394531 0.15394531 0.15394531 0.15394531 0.09236719 0.29185157]\n"
     ]
    }
   ],
   "source": [
    "steadystate= steady_state_prop(TransitionMatrix(5,0.4,0.7,0.4));\n",
    "print(steadystate);\n",
    "steadystate= steady_state_prop(TransitionMatrix(4,0.4,0.7,0.4));\n",
    "print(steadystate);"
   ]
  },
  {
   "cell_type": "code",
   "execution_count": 4,
   "metadata": {},
   "outputs": [],
   "source": [
    "def find_rho(alpha,p,r):\n",
    "    t= find_threshold(alpha,p,r);\n",
    "    h=1;\n",
    "    ind=1;\n",
    "    \n",
    "    for i in range(1000):\n",
    "        M = TransitionMatrix(t,i*0.001,p,r);\n",
    "        steadystate= steady_state_prop(M);\n",
    "        active= steadystate[t-1]*i*0.001+steadystate[t]+steadystate[t+1];\n",
    "        if abs(active-alpha)<h:\n",
    "            h= abs(active-alpha);\n",
    "            ind= i;\n",
    "            \n",
    "    return ind*0.001;\n",
    "        \n",
    "    "
   ]
  },
  {
   "cell_type": "code",
   "execution_count": 7,
   "metadata": {},
   "outputs": [
    {
     "name": "stdout",
     "output_type": "stream",
     "text": [
      "0.327\n"
     ]
    }
   ],
   "source": [
    "print(find_rho(0.4,0.85,0.25));"
   ]
  },
  {
   "cell_type": "code",
   "execution_count": 8,
   "metadata": {},
   "outputs": [
    {
     "name": "stdout",
     "output_type": "stream",
     "text": [
      "0.381\n"
     ]
    }
   ],
   "source": [
    "print(find_rho(0.2,0.7,0.4));"
   ]
  },
  {
   "cell_type": "code",
   "execution_count": 5,
   "metadata": {},
   "outputs": [],
   "source": [
    "def upperbound(alpha,p,r):\n",
    "    t = find_threshold(alpha,p,r);\n",
    "    rho = find_rho(alpha,p,r);\n",
    "    steadystate= steady_state_prop(TransitionMatrix(t,rho,p,r));\n",
    "    upperbound= steadystate[t-1]*Belief([0,t],p,r)*rho+steadystate[t]*Belief([0,t+1],p,r)+steadystate[t+1]*p;\n",
    "    return upperbound*100;\n",
    "\n",
    "\n",
    "\n"
   ]
  },
  {
   "cell_type": "code",
   "execution_count": 6,
   "metadata": {},
   "outputs": [],
   "source": [
    "def upperbound_twoclasses(alpha,p,r,q,s,gamma):\n",
    " \n",
    "    value=0;\n",
    "    \n",
    "    for i in range(99):\n",
    "        v= gamma*upperbound(alpha*((i+1)/100)/gamma,p,r)+ (1-gamma)*upperbound(alpha*(1-(i+1)/100)/(1-gamma),q,s);\n",
    "        if v >= value:\n",
    "            value=v;\n",
    "    \n",
    "    return value;\n",
    "        "
   ]
  },
  {
   "cell_type": "code",
   "execution_count": 25,
   "metadata": {},
   "outputs": [
    {
     "name": "stdout",
     "output_type": "stream",
     "text": [
      "19.338493662837617\n"
     ]
    }
   ],
   "source": [
    "print(upperbound_twoclasses(0.5,0.4,0.3,0.6,0.2,0.6));"
   ]
  },
  {
   "cell_type": "code",
   "execution_count": 26,
   "metadata": {},
   "outputs": [
    {
     "name": "stdout",
     "output_type": "stream",
     "text": [
      "35.28804941910694\n"
     ]
    }
   ],
   "source": [
    "print(upperbound_twoclasses(0.7,0.9,1/15,0.5,1/3,0.5));"
   ]
  },
  {
   "cell_type": "code",
   "execution_count": 27,
   "metadata": {},
   "outputs": [
    {
     "name": "stdout",
     "output_type": "stream",
     "text": [
      "8.801996449415093\n"
     ]
    }
   ],
   "source": [
    "print(upperbound_twoclasses(0.2,0.65,0.15,0.44,0.24,0.5));"
   ]
  },
  {
   "cell_type": "code",
   "execution_count": 28,
   "metadata": {},
   "outputs": [
    {
     "name": "stdout",
     "output_type": "stream",
     "text": [
      "14.756517434545643\n"
     ]
    }
   ],
   "source": [
    "print(upperbound_twoclasses(0.2,0.9,1/15,0.5,1/3,0.5));"
   ]
  },
  {
   "cell_type": "code",
   "execution_count": 10,
   "metadata": {},
   "outputs": [
    {
     "name": "stdout",
     "output_type": "stream",
     "text": [
      "21.387242178866277\n"
     ]
    }
   ],
   "source": [
    "print(upperbound_twoclasses(0.3,0.75,0.2,0.8,0.3,0.6));"
   ]
  },
  {
   "cell_type": "code",
   "execution_count": 7,
   "metadata": {},
   "outputs": [
    {
     "name": "stdout",
     "output_type": "stream",
     "text": [
      "19.316201802430832\n"
     ]
    }
   ],
   "source": [
    "print(upperbound_twoclasses(0.3,0.9,1/15,0.5,1/3,0.5));"
   ]
  },
  {
   "cell_type": "code",
   "execution_count": null,
   "metadata": {},
   "outputs": [],
   "source": []
  }
 ],
 "metadata": {
  "kernelspec": {
   "display_name": "Python 3",
   "language": "python",
   "name": "python3"
  },
  "language_info": {
   "codemirror_mode": {
    "name": "ipython",
    "version": 3
   },
   "file_extension": ".py",
   "mimetype": "text/x-python",
   "name": "python",
   "nbconvert_exporter": "python",
   "pygments_lexer": "ipython3",
   "version": "3.7.4"
  }
 },
 "nbformat": 4,
 "nbformat_minor": 2
}
