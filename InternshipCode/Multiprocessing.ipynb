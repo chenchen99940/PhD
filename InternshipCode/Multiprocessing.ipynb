{
 "cells": [
  {
   "cell_type": "code",
   "execution_count": 1,
   "metadata": {},
   "outputs": [
    {
     "data": {
      "text/plain": [
       "[[7, 3, 7, 3, 2],\n",
       " [0, 4, 9, 2, 5],\n",
       " [3, 2, 2, 3, 8],\n",
       " [0, 6, 7, 8, 8],\n",
       " [7, 1, 4, 8, 0]]"
      ]
     },
     "execution_count": 1,
     "metadata": {},
     "output_type": "execute_result"
    }
   ],
   "source": [
    "import numpy as np\n",
    "from time import time\n",
    "\n",
    "# Prepare data\n",
    "np.random.RandomState(100)\n",
    "arr = np.random.randint(0, 10, size=[200000, 5])\n",
    "data = arr.tolist()\n",
    "data[:5]"
   ]
  },
  {
   "cell_type": "code",
   "execution_count": 3,
   "metadata": {},
   "outputs": [
    {
     "name": "stdout",
     "output_type": "stream",
     "text": [
      "[2, 2, 1, 4, 3, 3, 2, 3, 2, 2]\n"
     ]
    }
   ],
   "source": [
    "def howmany_within_range(row, minimum, maximum):\n",
    "    \"\"\"Returns how many numbers lie within `maximum` and `minimum` in a given `row`\"\"\"\n",
    "    count = 0\n",
    "    for n in row:\n",
    "        if minimum <= n <= maximum:\n",
    "            count = count + 1\n",
    "    return count\n",
    "\n",
    "\n",
    "\n",
    "import multiprocessing as mp\n",
    "\n",
    "pool = mp.Pool(mp.cpu_count())\n",
    "\n",
    "results = pool.starmap(howmany_within_range, [(row, 4, 8) for row in data])\n",
    "\n",
    "pool.close()\n",
    "\n",
    "print(results[:10])"
   ]
  },
  {
   "cell_type": "code",
   "execution_count": 9,
   "metadata": {},
   "outputs": [],
   "source": [
    "import random\n",
    "import time\n",
    "\n",
    "from multiprocessing import Pool\n",
    "random.seed()\n",
    "def genList (size):\n",
    "    randomList = []\n",
    "     \n",
    "    #initialize random list with values between 0 and 100\n",
    "    for i in range(size):\n",
    "        randomList.append(random.randint(0,10))\n",
    "         \n",
    "    return randomList\n",
    "#return the sum of all elements in the list\n",
    "#This is the same as \"return sum(inList)\" but in long form for readability and emphasis\n",
    "def sumList(inList):\n",
    "    finalSum = 0\n",
    "     \n",
    "    #iterate over all values in the list, and calculate the cummulative sum\n",
    "    for value in inList:\n",
    "        finalSum = finalSum + value\n",
    "    return finalSum\n",
    "def doWork(N):\n",
    "    #create a random list of N integers\n",
    "    myList = genList (N)\n",
    "    finalSum = sumList(myList)\n",
    "    return finalSum\n",
    "\n",
    "\n",
    "def work(N):\n",
    "    #mark the start time\n",
    "    startTime = time.time()\n",
    "         \n",
    "    #create a process Pool with 4 processes\n",
    "    pool = Pool(processes=4)\n",
    "         \n",
    "    #map doWork to availble Pool processes\n",
    "    results = pool.map(doWork, (N/4,N/4,N/4,N/4))\n",
    "         \n",
    "    #sum the partial results to get the final result\n",
    "    finalSum = sumList(results)\n",
    "                 \n",
    "    #mark the end time\n",
    "    endTime = time.time()\n",
    "    #calculate the total time it took to complete the work\n",
    "    workTime =  endTime - startTime\n",
    "         \n",
    "    #print results\n",
    "    print(\"The job took \" + str(workTime) + \" seconds to complete\")\n",
    "    print (\"The final sum was: \" + str(finalSum))\n",
    "   "
   ]
  },
  {
   "cell_type": "code",
   "execution_count": 5,
   "metadata": {},
   "outputs": [
    {
     "name": "stdout",
     "output_type": "stream",
     "text": [
      "[1, 4, 9]\n"
     ]
    }
   ],
   "source": [
    "from multiprocessing import Pool\n",
    "\n",
    "def f(x):\n",
    "    return x*x\n",
    "\n",
    "if __name__ == '__main__':\n",
    "    with Pool(5) as p:\n",
    "        print(p.map(f, [1, 2, 3]))"
   ]
  },
  {
   "cell_type": "code",
   "execution_count": 6,
   "metadata": {},
   "outputs": [
    {
     "data": {
      "text/plain": [
       "18446744073709551616"
      ]
     },
     "execution_count": 6,
     "metadata": {},
     "output_type": "execute_result"
    }
   ],
   "source": [
    "2**64"
   ]
  },
  {
   "cell_type": "code",
   "execution_count": null,
   "metadata": {},
   "outputs": [],
   "source": []
  }
 ],
 "metadata": {
  "kernelspec": {
   "display_name": "Python 3",
   "language": "python",
   "name": "python3"
  },
  "language_info": {
   "codemirror_mode": {
    "name": "ipython",
    "version": 3
   },
   "file_extension": ".py",
   "mimetype": "text/x-python",
   "name": "python",
   "nbconvert_exporter": "python",
   "pygments_lexer": "ipython3",
   "version": "3.6.8"
  }
 },
 "nbformat": 4,
 "nbformat_minor": 2
}
