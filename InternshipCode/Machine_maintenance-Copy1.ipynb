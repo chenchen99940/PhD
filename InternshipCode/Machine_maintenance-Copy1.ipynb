{
 "cells": [
  {
   "cell_type": "code",
   "execution_count": 21,
   "metadata": {},
   "outputs": [],
   "source": [
    "import numpy as np\n",
    "import matplotlib.pyplot as plt\n",
    "%matplotlib inline\n",
    "from math import exp;\n",
    "\n",
    "def C(j,J,x):\n",
    "    cost = (2+10*j/J)*x*x;\n",
    "    \n",
    "    return cost;\n",
    "\n",
    "def R(j,J,x):\n",
    "    resource = 1-exp(-((x+20*j/J)/10));\n",
    "\n",
    "    return resource;\n",
    "    \n",
    "\n",
    "def CD(j,J,x):\n",
    "    if x > 0:\n",
    "        c=0;\n",
    "        for i in range(x):\n",
    "            c += C(j,J,i);\n",
    "    \n",
    "        return c/x;\n",
    "    elif x == 0:\n",
    "        return 0;\n",
    "\n",
    "def RD(j,J,x,p):\n",
    "    if x > 0:\n",
    "        return p*R(j,J,x)/x;\n",
    "    \n",
    "    elif x == 0:\n",
    "        return R(j,J,0);\n",
    "\n",
    "def W(j,J,x,p):\n",
    "        \n",
    "    WhittleIndex = (CD(j,J,x+1)-CD(j,J,x))/(RD(j,J,x,p)-RD(j,J,x+1,p)); \n",
    "        \n",
    "    \n",
    "    return WhittleIndex;\n"
   ]
  },
  {
   "cell_type": "code",
   "execution_count": 25,
   "metadata": {},
   "outputs": [
    {
     "name": "stdout",
     "output_type": "stream",
     "text": [
      "245.38897835906417\n",
      "26.875639289846195\n",
      "17.666258491956786\n",
      "14.62590013397692\n",
      "13.237349970481755\n",
      "12.532520901565237\n",
      "12.179006426108447\n",
      "12.031836896126197\n",
      "12.01763926206369\n",
      "12.095251454970773\n",
      "12.239755690299635\n",
      "12.435150023437481\n",
      "12.670657119454546\n",
      "12.93872536664665\n",
      "13.233881635722454\n",
      "13.552040649257526\n",
      "13.890072321034546\n",
      "14.245521399848352\n",
      "14.616420474018266\n",
      "15.001162089118692\n"
     ]
    }
   ],
   "source": [
    "J=20;\n",
    "for j in range(20):\n",
    "    print(W(j,20,1,0.9));"
   ]
  },
  {
   "cell_type": "code",
   "execution_count": 14,
   "metadata": {},
   "outputs": [
    {
     "name": "stdout",
     "output_type": "stream",
     "text": [
      "10\n"
     ]
    }
   ],
   "source": [
    "def permutation_indices(data):\n",
    "     return sorted(range(len(data)), key = lambda k:data[k])\n",
    "\n",
    "N = [2,3,1,4,5,7,9,0,6,8,14,13,7];\n",
    "M = permutation_indices(N);\n",
    "print(M[len(N)-1]);"
   ]
  },
  {
   "cell_type": "code",
   "execution_count": 45,
   "metadata": {},
   "outputs": [],
   "source": [
    "def update(J,Resource,S,p):\n",
    "    WL = [0.]*J;\n",
    "    Y = [0.]*J;\n",
    "    Cost_vector = [0.]*J;\n",
    "    Resource_vector = [0.]*J;\n",
    "    Action = [0]*J;\n",
    "    Threshold = Resource;\n",
    "    Seed = np.random.rand(J);\n",
    "    total_cost = 0;\n",
    "    \n",
    "    for j in range(J):\n",
    "        WL[j]= W(j,J,S[j],p);\n",
    "        Cost_vector[j]= C(j,J,S[j]);\n",
    "        Resource_vector[j]= R(j,J,S[j]);\n",
    "        \n",
    "    print(\"Whittle Index list is \" + str(WL));\n",
    "    print(\"Cost vector is \" + str(Cost_vector));\n",
    "    print(\"Resource vector is \" + str(Resource_vector));\n",
    "\n",
    "\n",
    "    print(\"State: \" + str(S));    \n",
    "  \n",
    "    Y = permutation_indices(WL);\n",
    "    ind = 1;\n",
    "   \n",
    "    \n",
    "    while Threshold > 0:\n",
    "        print(\"Threshold now is \" + str(Threshold));\n",
    "        Position = Y[len(Y)-ind];\n",
    "        Last_hope = Y[0];\n",
    "        Tibu = Threshold - R(Last_hope,J,S[Last_hope]);\n",
    "        Threshold -= R(Position,J,S[Position]);\n",
    "        \n",
    "        if Threshold > 0:\n",
    "            Action[Position] = 1;\n",
    "            ind += 1;\n",
    "        elif Threshold < 0 and Tibu > 0:\n",
    "            print(\"Attention: \" + \"Threshold now is \" + str(Threshold) + \" but Tibu is \" + str(Tibu));\n",
    "            Action[Last_hope] = 1;\n",
    "            \n",
    "    print(\"Action: \" + str(Action));\n",
    "    print(\"Seed: \" + str(Seed));       \n",
    "        \n",
    "    for j in range(J):\n",
    "        \n",
    "        if Action[j]==0:\n",
    "            total_cost += C(j,J,S[j]);\n",
    "            S[j] += int((Seed[j]<p)==True);\n",
    "            \n",
    "        else:\n",
    "            S[j] = int((Seed[j]<p)==True);\n",
    "\n",
    "    \n",
    "    print(\"State becomes \" + str(S));\n",
    "    print(\"cost is \" + str(total_cost));\n",
    "    print(\"/r\");\n",
    "    \n",
    "    return total_cost;\n",
    "     \n",
    "               "
   ]
  },
  {
   "cell_type": "code",
   "execution_count": 31,
   "metadata": {},
   "outputs": [
    {
     "name": "stdout",
     "output_type": "stream",
     "text": [
      "0.09516258196404048\n",
      "0.2591817793182821\n",
      "0.3934693402873666\n",
      "0.5034146962085905\n",
      "0.5934303402594009\n",
      "0.6671289163019205\n",
      "0.7274682069659875\n",
      "0.7768698398515702\n",
      "0.8173164759472653\n",
      "0.8504313807773649\n"
     ]
    }
   ],
   "source": [
    "for i in range(10):\n",
    "    print(R(i,10,1));"
   ]
  },
  {
   "cell_type": "code",
   "execution_count": 46,
   "metadata": {},
   "outputs": [
    {
     "name": "stdout",
     "output_type": "stream",
     "text": [
      "Whittle Index list is [245.38897835906417, 17.666258491956786, 13.237349970481755, 12.179006426108447, 12.01763926206369, 12.239755690299635, 12.670657119454546, 13.233881635722454, 13.890072321034546, 14.616420474018266]\n",
      "Cost vector is [2.0, 3.0, 4.0, 5.0, 6.0, 7.0, 8.0, 9.0, 10.0, 11.0]\n",
      "Resource vector is [0.09516258196404048, 0.2591817793182821, 0.3934693402873666, 0.5034146962085905, 0.5934303402594009, 0.6671289163019205, 0.7274682069659875, 0.7768698398515702, 0.8173164759472653, 0.8504313807773649]\n",
      "State: [1, 1, 1, 1, 1, 1, 1, 1, 1, 1]\n",
      "Threshold now is 2\n",
      "Threshold now is 1.9048374180359595\n",
      "Threshold now is 1.6456556387176775\n",
      "Threshold now is 0.7952242579403126\n",
      "Attention: Threshold now is -0.022092218006952713 but Tibu is 0.2017939176809117\n",
      "Action: [1, 1, 0, 0, 1, 0, 0, 0, 0, 1]\n",
      "Seed: [0.85480503 0.8853345  0.69837556 0.34449561 0.53341923 0.88452722\n",
      " 0.08671204 0.91596197 0.15419978 0.40826377]\n",
      "State becomes [1, 1, 2, 2, 1, 2, 2, 1, 2, 1]\n",
      "cost is 43.0\n",
      "/r\n"
     ]
    }
   ],
   "source": [
    "update(10,2,[1]*10,0.9);"
   ]
  },
  {
   "cell_type": "code",
   "execution_count": 36,
   "metadata": {},
   "outputs": [],
   "source": [
    "def one_trial(J,Resource,S,p,timesteps):\n",
    "    Total_cost = 0;\n",
    "    for i in range(timesteps):\n",
    "        Total_cost += update(J,Resource,S,p);\n",
    "    \n",
    "    return Total_cost;"
   ]
  },
  {
   "cell_type": "code",
   "execution_count": 55,
   "metadata": {},
   "outputs": [
    {
     "name": "stdout",
     "output_type": "stream",
     "text": [
      "Whittle Index list is [245.38897835906417, 17.666258491956786, 13.237349970481755, 12.179006426108447, 12.01763926206369, 12.239755690299635, 12.670657119454546, 13.233881635722454, 13.890072321034546, 14.616420474018266]\n",
      "Cost vector is [2.0, 3.0, 4.0, 5.0, 6.0, 7.0, 8.0, 9.0, 10.0, 11.0]\n",
      "Resource vector is [0.09516258196404048, 0.2591817793182821, 0.3934693402873666, 0.5034146962085905, 0.5934303402594009, 0.6671289163019205, 0.7274682069659875, 0.7768698398515702, 0.8173164759472653, 0.8504313807773649]\n",
      "State: [1, 1, 1, 1, 1, 1, 1, 1, 1, 1]\n",
      "Threshold now is 2.0\n",
      "Threshold now is 1.9048374180359595\n",
      "Threshold now is 1.6456556387176775\n",
      "Threshold now is 0.7952242579403126\n",
      "Attention: Threshold now is -0.022092218006952713 but Tibu is 0.2017939176809117\n",
      "Action: [1, 1, 0, 0, 1, 0, 0, 0, 0, 1]\n",
      "Seed: [0.00384226 0.32975948 0.36066677 0.07374069 0.98183929 0.20833848\n",
      " 0.18488899 0.10927721 0.15081584 0.91841513]\n",
      "State becomes [1, 1, 2, 2, 0, 2, 2, 2, 2, 0]\n",
      "cost is 43.0\n",
      "/r\n",
      "Whittle Index list is [245.38897835906417, 17.666258491956786, 89.7257224273495, 83.60461350029523, 0.0, 84.8730494901149, 88.07489710743339, 92.1443646042832, 96.82999130847064, 0.0]\n",
      "Cost vector is [2.0, 3.0, 16.0, 20.0, 0.0, 28.0, 32.0, 36.0, 40.0, 0.0]\n",
      "Resource vector is [0.09516258196404048, 0.2591817793182821, 0.4511883639059736, 0.5506710358827784, 0.5506710358827784, 0.6988057880877978, 0.7534030360583935, 0.7981034820053446, 0.8347011117784134, 0.8347011117784134]\n",
      "State: [1, 1, 2, 2, 0, 2, 2, 2, 2, 0]\n",
      "Threshold now is 2.0\n",
      "Threshold now is 1.9048374180359595\n",
      "Threshold now is 1.0701363062575462\n",
      "Threshold now is 0.27203282425220154\n",
      "Action: [1, 0, 0, 0, 0, 0, 0, 1, 1, 0]\n",
      "Seed: [0.25662893 0.04020925 0.3964856  0.69754548 0.23777581 0.4207397\n",
      " 0.49805946 0.41044187 0.47949875 0.14213968]\n",
      "State becomes [1, 2, 3, 3, 1, 3, 3, 1, 1, 1]\n",
      "cost is 99.0\n",
      "/r\n",
      "Whittle Index list is [245.38897835906417, 115.4537206617253, 270.3689935922612, 256.0380069317019, 12.01763926206369, 263.38412616466326, 274.20650547698136, 13.233881635722454, 13.890072321034546, 14.616420474018266]\n",
      "Cost vector is [2.0, 12.0, 36.0, 45.0, 6.0, 63.0, 72.0, 9.0, 10.0, 11.0]\n",
      "Resource vector is [0.09516258196404048, 0.3296799539643607, 0.5034146962085905, 0.5934303402594009, 0.5934303402594009, 0.7274682069659875, 0.7768698398515702, 0.7768698398515702, 0.8173164759472653, 0.8504313807773649]\n",
      "State: [1, 2, 3, 3, 1, 3, 3, 1, 1, 1]\n",
      "Threshold now is 2.0\n",
      "Threshold now is 1.22313016014843\n",
      "Threshold now is 0.7197154639398394\n",
      "Attention: Threshold now is -0.007752743026148035 but Tibu is 0.12628512368043854\n",
      "Action: [0, 0, 1, 0, 1, 0, 1, 0, 0, 0]\n",
      "Seed: [0.70429309 0.60895575 0.80305413 0.76631149 0.43401062 0.25295103\n",
      " 0.46942492 0.22154746 0.67970473 0.0539649 ]\n",
      "State becomes [2, 3, 1, 4, 1, 4, 1, 2, 2, 2]\n",
      "cost is 152.0\n",
      "/r\n",
      "Whittle Index list is [611.3600144972379, 332.8608684507204, 13.237349970481755, 564.4890131121667, 12.01763926206369, 589.6402842330111, 12.670657119454546, 92.1443646042832, 96.82999130847064, 101.98455235497583]\n",
      "Cost vector is [8.0, 27.0, 4.0, 80.0, 6.0, 112.0, 8.0, 36.0, 40.0, 44.0]\n",
      "Resource vector is [0.18126924692201818, 0.3934693402873666, 0.3934693402873666, 0.6321205588285577, 0.5934303402594009, 0.7534030360583935, 0.7274682069659875, 0.7981034820053446, 0.8347011117784134, 0.8646647167633873]\n",
      "State: [2, 3, 1, 4, 1, 4, 1, 2, 2, 2]\n",
      "Threshold now is 2.0\n",
      "Threshold now is 1.8187307530779817\n",
      "Threshold now is 1.065327717019588\n",
      "Threshold now is 0.4332071581910304\n",
      "Threshold now is 0.03973781790366382\n",
      "Action: [1, 1, 0, 1, 0, 1, 0, 0, 0, 0]\n",
      "Seed: [0.68473677 0.86403846 0.43816864 0.33273675 0.49463835 0.65735982\n",
      " 0.64277612 0.77001014 0.18982655 0.24062764]\n",
      "State becomes [1, 1, 2, 1, 2, 1, 2, 3, 3, 3]\n",
      "cost is 138.0\n",
      "/r\n",
      "Whittle Index list is [245.38897835906417, 17.666258491956786, 89.7257224273495, 12.179006426108447, 83.02143309391269, 12.239755690299635, 88.07489710743339, 287.52059898141425, 302.6308654958366, 319.1242235984734]\n",
      "Cost vector is [2.0, 3.0, 16.0, 5.0, 24.0, 7.0, 32.0, 81.0, 90.0, 99.0]\n",
      "Resource vector is [0.09516258196404048, 0.2591817793182821, 0.4511883639059736, 0.5034146962085905, 0.6321205588285577, 0.6671289163019205, 0.7534030360583935, 0.8173164759472653, 0.8504313807773649, 0.8775435717470181]\n",
      "State: [1, 1, 2, 1, 2, 1, 2, 3, 3, 3]\n",
      "Threshold now is 2.0\n",
      "Threshold now is 1.1224564282529819\n",
      "Threshold now is 0.27202504747561695\n",
      "Action: [0, 0, 0, 0, 0, 0, 0, 0, 1, 1]\n",
      "Seed: [0.52981127 0.06726757 0.55740515 0.61705602 0.51956385 0.50836097\n",
      " 0.37458044 0.51040075 0.0299582  0.81316692]\n",
      "State becomes [2, 2, 3, 2, 3, 2, 3, 4, 1, 1]\n",
      "cost is 170.0\n",
      "/r\n",
      "Whittle Index list is [611.3600144972379, 115.4537206617253, 270.3689935922612, 83.60461350029523, 256.3661986490486, 84.8730494901149, 274.20650547698136, 647.8529850710448, 13.890072321034546, 14.616420474018266]\n",
      "Cost vector is [8.0, 12.0, 36.0, 20.0, 54.0, 28.0, 72.0, 144.0, 10.0, 11.0]\n",
      "Resource vector is [0.18126924692201818, 0.3296799539643607, 0.5034146962085905, 0.5506710358827784, 0.6671289163019205, 0.6988057880877978, 0.7768698398515702, 0.8347011117784134, 0.8173164759472653, 0.8504313807773649]\n",
      "State: [2, 2, 3, 2, 3, 2, 3, 4, 1, 1]\n",
      "Threshold now is 2.0\n",
      "Threshold now is 1.1652988882215864\n",
      "Threshold now is 0.9840296412995683\n",
      "Threshold now is 0.20715980144799806\n",
      "Action: [1, 0, 0, 0, 0, 0, 1, 1, 0, 0]\n",
      "Seed: [0.39527391 0.67391134 0.70997707 0.35261647 0.66985756 0.11804106\n",
      " 0.81387267 0.08185255 0.68529239 0.62174273]\n",
      "State becomes [1, 3, 4, 3, 4, 3, 1, 1, 2, 2]\n",
      "cost is 171.0\n",
      "/r\n",
      "Whittle Index list is [245.38897835906417, 332.8608684507204, 585.3593949366176, 256.0380069317019, 570.6237188274122, 263.38412616466326, 12.670657119454546, 13.233881635722454, 96.82999130847064, 101.98455235497583]\n",
      "Cost vector is [2.0, 27.0, 64.0, 45.0, 96.0, 63.0, 8.0, 9.0, 40.0, 44.0]\n",
      "Resource vector is [0.09516258196404048, 0.3934693402873666, 0.5506710358827784, 0.5934303402594009, 0.6988057880877978, 0.7274682069659875, 0.7274682069659875, 0.7768698398515702, 0.8347011117784134, 0.8646647167633873]\n",
      "State: [1, 3, 4, 3, 4, 3, 1, 1, 2, 2]\n",
      "Threshold now is 2.0\n",
      "Threshold now is 1.4493289641172216\n",
      "Threshold now is 0.7505231760294238\n",
      "Threshold now is 0.3570538357420572\n",
      "Action: [0, 1, 1, 0, 1, 0, 0, 0, 0, 0]\n",
      "Seed: [0.02342131 0.58787435 0.30239155 0.68836946 0.83619719 0.44086537\n",
      " 0.350127   0.89900686 0.04888852 0.96979026]\n",
      "State becomes [2, 1, 1, 4, 1, 4, 2, 2, 3, 2]\n",
      "cost is 211.0\n",
      "/r\n",
      "Whittle Index list is [611.3600144972379, 17.666258491956786, 13.237349970481755, 564.4890131121667, 12.01763926206369, 589.6402842330111, 88.07489710743339, 92.1443646042832, 302.6308654958366, 101.98455235497583]\n",
      "Cost vector is [8.0, 3.0, 4.0, 80.0, 6.0, 112.0, 32.0, 36.0, 90.0, 44.0]\n",
      "Resource vector is [0.18126924692201818, 0.2591817793182821, 0.3934693402873666, 0.6321205588285577, 0.5934303402594009, 0.7534030360583935, 0.7534030360583935, 0.7981034820053446, 0.8504313807773649, 0.8646647167633873]\n",
      "State: [2, 1, 1, 4, 1, 4, 2, 2, 3, 2]\n",
      "Threshold now is 2.0\n",
      "Threshold now is 1.8187307530779817\n",
      "Threshold now is 1.065327717019588\n",
      "Threshold now is 0.4332071581910304\n",
      "Action: [1, 0, 0, 1, 0, 1, 0, 0, 0, 0]\n",
      "Seed: [0.9747399  0.39143545 0.08869523 0.64166016 0.05997625 0.17769871\n",
      " 0.2014243  0.3284352  0.7896765  0.70360212]\n",
      "State becomes [0, 2, 2, 1, 2, 1, 3, 3, 4, 3]\n",
      "cost is 215.0\n",
      "/r\n",
      "Whittle Index list is [-0.0, 115.4537206617253, 89.7257224273495, 12.179006426108447, 83.02143309391269, 12.239755690299635, 274.20650547698136, 287.52059898141425, 683.2147032803475, 319.1242235984734]\n",
      "Cost vector is [0.0, 12.0, 16.0, 5.0, 24.0, 7.0, 72.0, 81.0, 160.0, 99.0]\n",
      "Resource vector is [0.0, 0.3296799539643607, 0.4511883639059736, 0.5034146962085905, 0.6321205588285577, 0.6671289163019205, 0.7768698398515702, 0.8173164759472653, 0.8646647167633873, 0.8775435717470181]\n",
      "State: [0, 2, 2, 1, 2, 1, 3, 3, 4, 3]\n",
      "Threshold now is 2.0\n",
      "Threshold now is 1.1353352832366128\n",
      "Threshold now is 0.2577917114895947\n",
      "Attention: Threshold now is -0.5595247644576706 but Tibu is 0.2577917114895947\n",
      "Action: [1, 0, 0, 0, 0, 0, 0, 0, 1, 1]\n",
      "Seed: [0.54461695 0.94494187 0.89810376 0.23134878 0.55286107 0.90221848\n",
      " 0.69354659 0.6080743  0.00794679 0.44413093]\n",
      "State becomes [1, 2, 3, 2, 3, 1, 4, 4, 1, 1]\n",
      "cost is 217.0\n",
      "/r\n",
      "Whittle Index list is [245.38897835906417, 115.4537206617253, 270.3689935922612, 83.60461350029523, 256.3661986490486, 12.239755690299635, 616.2128475306005, 647.8529850710448, 13.890072321034546, 14.616420474018266]\n",
      "Cost vector is [2.0, 12.0, 36.0, 20.0, 54.0, 7.0, 128.0, 144.0, 10.0, 11.0]\n",
      "Resource vector is [0.09516258196404048, 0.3296799539643607, 0.5034146962085905, 0.5506710358827784, 0.6671289163019205, 0.6671289163019205, 0.7981034820053446, 0.8347011117784134, 0.8173164759472653, 0.8504313807773649]\n",
      "State: [1, 2, 3, 2, 3, 1, 4, 4, 1, 1]\n",
      "Threshold now is 2.0\n",
      "Threshold now is 1.1652988882215864\n",
      "Threshold now is 0.3671954062162418\n",
      "Action: [0, 0, 0, 0, 0, 0, 1, 1, 0, 0]\n",
      "Seed: [0.51928326 0.00865743 0.48738676 0.84024631 0.47613989 0.80130525\n",
      " 0.96249029 0.99342513 0.24288363 0.74988784]\n",
      "State becomes [2, 3, 4, 3, 4, 2, 0, 0, 2, 2]\n",
      "cost is 152.0\n",
      "/r\n"
     ]
    }
   ],
   "source": [
    "one_trial(10,2.,[1]*10,0.9,10);"
   ]
  },
  {
   "cell_type": "code",
   "execution_count": 95,
   "metadata": {},
   "outputs": [],
   "source": [
    "import copy;\n",
    "def mc(J,Resource,S,p,timesteps,ntrials):\n",
    "    Cost = 0;\n",
    "    \n",
    "    for i in range(ntrials):\n",
    "        \n",
    "        SS = copy.deepcopy(S);\n",
    "        One_time_cost = one_trial(J,Resource,SS,p,timesteps);\n",
    "        \n",
    "        Cost += One_time_cost;\n",
    "        \n",
    "    Average_cost = Cost/(ntrials*timesteps);\n",
    "    \n",
    "    print(Average_cost);\n",
    "        "
   ]
  },
  {
   "cell_type": "code",
   "execution_count": 102,
   "metadata": {},
   "outputs": [
    {
     "name": "stdout",
     "output_type": "stream",
     "text": [
      "797.4797325\n"
     ]
    }
   ],
   "source": [
    "mc(20,3,[1]*20,0.9,2000,100);"
   ]
  },
  {
   "cell_type": "code",
   "execution_count": 27,
   "metadata": {},
   "outputs": [],
   "source": [
    "def CL(j,J,W,p):\n",
    "    c = CD(j,J,1)+W*RD(j,J,1,p)+1;\n",
    "    \n",
    "    for i in range(100):\n",
    "        calculate = CD(j,J,i)+W*RD(j,J,i,p);\n",
    "        if calculate < c and calculate > 0:\n",
    "            c = calculate;\n",
    "        \n",
    "    return c;"
   ]
  },
  {
   "cell_type": "code",
   "execution_count": 30,
   "metadata": {},
   "outputs": [
    {
     "name": "stdout",
     "output_type": "stream",
     "text": [
      "66.22678218911572\n"
     ]
    }
   ],
   "source": [
    "print(CL(5,10,250,0.9));"
   ]
  },
  {
   "cell_type": "code",
   "execution_count": 31,
   "metadata": {},
   "outputs": [],
   "source": [
    "def LLB(W,Resource,J,p):\n",
    "    l = 0;\n",
    "    for i in range(J):\n",
    "        l += CL(i,J,W,p);\n",
    "    lowerbound = l - W*Resource;\n",
    "    \n",
    "    print(lowerbound);\n",
    "\n",
    "    "
   ]
  },
  {
   "cell_type": "code",
   "execution_count": 64,
   "metadata": {},
   "outputs": [
    {
     "name": "stdout",
     "output_type": "stream",
     "text": [
      "544.8702696181958\n"
     ]
    }
   ],
   "source": [
    "LLB(589,3.,20,0.9);"
   ]
  },
  {
   "cell_type": "code",
   "execution_count": 94,
   "metadata": {},
   "outputs": [
    {
     "name": "stdout",
     "output_type": "stream",
     "text": [
      "99.26449980987206\n"
     ]
    }
   ],
   "source": [
    "LLB(102,2.,10,0.9);"
   ]
  },
  {
   "cell_type": "code",
   "execution_count": null,
   "metadata": {},
   "outputs": [],
   "source": []
  }
 ],
 "metadata": {
  "kernelspec": {
   "display_name": "Python 3",
   "language": "python",
   "name": "python3"
  },
  "language_info": {
   "codemirror_mode": {
    "name": "ipython",
    "version": 3
   },
   "file_extension": ".py",
   "mimetype": "text/x-python",
   "name": "python",
   "nbconvert_exporter": "python",
   "pygments_lexer": "ipython3",
   "version": "3.6.8"
  }
 },
 "nbformat": 4,
 "nbformat_minor": 2
}
