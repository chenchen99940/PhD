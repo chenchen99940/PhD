{
 "cells": [
  {
   "cell_type": "code",
   "execution_count": 11,
   "metadata": {},
   "outputs": [],
   "source": [
    "import numpy as np\n",
    "import matplotlib.pyplot as plt\n",
    "%matplotlib inline\n",
    "\n",
    "    \n",
    "    \n",
    "    \n",
    "def Belief(State,p,r):\n",
    "   \n",
    "    equilibrium = r/(1-p+r);\n",
    "    \n",
    "    if State[0]== 0 and State[1]> 0:\n",
    "            Belief = (r-r*(p-r)**(State[1]))/(1+r-p);\n",
    "    elif State[0]== 1 and State[1]> 0:\n",
    "            Belief = (r+(1-p)*(p-r)**(State[1]))/(1+r-p);\n",
    "            \n",
    "    else:\n",
    "        \n",
    "        Belief = equilibrium;\n",
    "\n",
    "    return Belief;\n",
    "            \n",
    "        \n",
    "def WhittleIndex(State,p,r):\n",
    "    WhittleIndex = 0.;\n",
    "\n",
    "    \n",
    "    if State[0]== 0 and State[1]>0:\n",
    "        l= State[1];\n",
    "        x= Belief([0,l],p,r);\n",
    "        y=Belief([0,l+1],p,r);\n",
    "        WhittleIndex =((x-y)*(l+1)+y)/(1-p+(x-y)*l+y); \n",
    "    elif State[0] == 1:\n",
    "        WhittleIndex = r/((1-p)*(1+r-p)+r);\n",
    "    \n",
    "    else:\n",
    "        WhittleIndex = r/((1-p)*(1+r-p)+r);\n",
    "            \n",
    "    return WhittleIndex;\n",
    "\n",
    "def update(S,C,alpha,p,r,q,s,gamma,N):\n",
    "        #the update process of each timestep.\n",
    "        \n",
    "        #S is the list of belief states of all channels.\n",
    "        #C is the list of actual channel states.\n",
    "        W = [0.]*N;\n",
    "        Y = [0.]*N;\n",
    "        Action = [0]*N;\n",
    "        Threshold = 0.;\n",
    "        Seed = np.random.rand(N);\n",
    "        \n",
    "       #Get the Threshold. \n",
    "        for i in range(int(N*gamma)):\n",
    "            Y[i]= WhittleIndex(S[i],p,r);\n",
    "        for i in range(int(N*gamma),N):\n",
    "            Y[i]= WhittleIndex(S[i],q,s);\n",
    "        \n",
    "        Y.sort();\n",
    "        Threshold = Y[int((1-alpha)*N)];\n",
    "        \n",
    "        \n",
    "        \n",
    "       #Get the Action vector.\n",
    "        for i in range(int(N*gamma)):\n",
    "            W[i]= WhittleIndex(S[i],p,r);\n",
    "        for i in range(int(N*gamma),N):\n",
    "            W[i]= WhittleIndex(S[i],q,s);\n",
    "    \n",
    "        h=0;\n",
    "        for i in range(N):\n",
    "            if W[i]>= Threshold:\n",
    "                Action[i]=1;\n",
    "                h=h+1;\n",
    "            if h >= alpha*N:\n",
    "                break;\n",
    "            \n",
    "       #The update process.\n",
    "       \n",
    "        for i in range(int(N*gamma)):\n",
    "        \n",
    "            if Action[i] == 0 and S[i][1]>0:\n",
    "                S[i][1]= S[i][1]+1;\n",
    "                if C[i]==0:\n",
    "                    if Seed[i]<r:\n",
    "                        C[i]=1;\n",
    "                    else:\n",
    "                        C[i]=0;\n",
    "                else:\n",
    "                    if Seed[i]<p:\n",
    "                        C[i]=1;\n",
    "                    else:\n",
    "                        C[i]=0;\n",
    "                \n",
    "                \n",
    "                \n",
    "               \n",
    "             \n",
    "            elif Action[i] == 0 and S[i][1]==0:\n",
    "                if C[i]==0:\n",
    "                    if Seed[i]<r:\n",
    "                        C[i]=1;\n",
    "                    else:\n",
    "                        C[i]=0;\n",
    "                else: \n",
    "                    if Seed[i]<p:\n",
    "                        C[i]=1;\n",
    "                    else:\n",
    "                        C[i]=0;\n",
    "            \n",
    "            else:\n",
    "                if C[i]==1:\n",
    "                    S[i]= [1,1];\n",
    "                    C[i]= int((Seed[i]<p)==True);\n",
    "                    \n",
    "                else:\n",
    "                    S[i]= [0,1];\n",
    "                    C[i]= int((Seed[i]<r)==True);\n",
    "        \n",
    "        for i in range(int(N*gamma),N):\n",
    "        \n",
    "            if Action[i] == 0 and S[i][1]>0:\n",
    "                S[i][1]= S[i][1]+1;\n",
    "                if C[i]==0:\n",
    "                    if Seed[i]<s:\n",
    "                        C[i]=1;\n",
    "                    else:\n",
    "                        C[i]=0;\n",
    "                else:\n",
    "                    if Seed[i]<q:\n",
    "                        C[i]=1;\n",
    "                    else:\n",
    "                        C[i]=0;\n",
    "                \n",
    "                \n",
    "                \n",
    "               \n",
    "             \n",
    "            elif Action[i] == 0 and S[i][1]==0:\n",
    "                if C[i]==0:\n",
    "                    if Seed[i]<s:\n",
    "                        C[i]=1;\n",
    "                    else:\n",
    "                        C[i]=0;\n",
    "                else: \n",
    "                    if Seed[i]<q:\n",
    "                        C[i]=1;\n",
    "                    else:\n",
    "                        C[i]=0;\n",
    "            \n",
    "            else:\n",
    "                if C[i]==1:\n",
    "                    S[i]= [1,1];\n",
    "                    C[i]= int((Seed[i]<q)==True);\n",
    "                    \n",
    "                else:\n",
    "                    S[i]= [0,1];\n",
    "                    C[i]= int((Seed[i]<s)==True);\n",
    "        \n",
    "        \n",
    "        \n",
    "\n",
    "    \n",
    "\n",
    "def action(S,C,alpha,p,r,q,s,gamma,N):\n",
    "    \n",
    "    W = [0.]*N;\n",
    "    Y = [0.]*N;\n",
    "    Action = [0]*N;\n",
    "    Threshold = 0.;\n",
    " \n",
    "        \n",
    "    #Get the Threshold. \n",
    "    for i in range(int(N*gamma)):\n",
    "        Y[i]= WhittleIndex(S[i],p,r);\n",
    "    for i in range(int(N*gamma),N):\n",
    "        Y[i]= WhittleIndex(S[i],q,s);\n",
    "        \n",
    "    Y.sort();\n",
    "    Threshold = Y[int((1-alpha)*N)];\n",
    "    \n",
    "    #Get the Action vector.\n",
    "    for i in range(int(N*gamma)):\n",
    "        W[i]= WhittleIndex(S[i],p,r);\n",
    "    for i in range(int(N*gamma),N):\n",
    "        W[i]= WhittleIndex(S[i],q,s);\n",
    "    \n",
    "    h=0;\n",
    "    for i in range(N):\n",
    "        if W[i]>= Threshold:\n",
    "            Action[i]=1;\n",
    "            h=h+1;\n",
    "        if h >= alpha*N:\n",
    "            break;\n",
    "    \n",
    "    return Action;\n",
    "    "
   ]
  },
  {
   "cell_type": "code",
   "execution_count": 12,
   "metadata": {},
   "outputs": [],
   "source": [
    "def average(mylist,first,last):\n",
    "    sum = 0;\n",
    "    \n",
    "    for i in range(first,last):\n",
    "        sum = sum + mylist[i];\n",
    "    \n",
    "    number = last - first;\n",
    "    return sum/(number);"
   ]
  },
  {
   "cell_type": "code",
   "execution_count": 13,
   "metadata": {},
   "outputs": [],
   "source": [
    "update([[0,0],[0,0],[0,3],[0,2],[0,0],[1,4],[1,3],[1,7],[0,4],[0,6]],[0,0,1,0,0,1,1,0,0,0],0.5,0.4,0.3,0.6,0.2,0.6,10)"
   ]
  },
  {
   "cell_type": "code",
   "execution_count": 14,
   "metadata": {},
   "outputs": [
    {
     "name": "stdout",
     "output_type": "stream",
     "text": [
      "[1, 1, 0, 0, 1, 1, 1, 0, 0, 0]\n"
     ]
    }
   ],
   "source": [
    "print(action([[0,0],[0,0],[0,3],[0,2],[0,0],[1,4],[1,3],[1,7],[0,4],[0,6]],[0,0,1,0,0,1,1,0,0,0],0.5,0.4,0.3,0.6,0.2,0.6,10));"
   ]
  },
  {
   "cell_type": "code",
   "execution_count": 30,
   "metadata": {},
   "outputs": [],
   "source": [
    "import numpy as np\n",
    "import matplotlib.pyplot as plt\n",
    "\n",
    "def trace_action(S,C,timesteps,alpha,p,r,q,s,gamma,N):\n",
    "    \n",
    "    X = [0.]*timesteps;\n",
    "    Y = [0.]*timesteps;\n",
    "    Action = [0]*N;\n",
    "    \n",
    "    for i in range(timesteps):\n",
    "        Action = action(S,C,alpha,p,r,q,s,gamma,N);\n",
    "        \n",
    "        X[i] = average(Action,0,int(gamma*N));\n",
    "        Y[i] = average(Action,int(gamma*N),N);\n",
    "        \n",
    "        update(S,C,alpha,p,r,q,s,gamma,N);\n",
    "        \n",
    "    \n",
    "    \n",
    "    # definitions for the axes\n",
    "    left, width = 0.01, 0.65\n",
    "    bottom, height = 0.01, 0.65\n",
    "    spacing = 0.005\n",
    "\n",
    "\n",
    "    rect_scatter = [left, bottom, width, height]\n",
    "    rect_histx = [left, bottom + height + spacing, width, 0.2]\n",
    "    rect_histy = [left + width + spacing, bottom, 0.2, height]\n",
    "\n",
    "    # start with a rectangular Figure\n",
    "    plt.figure(figsize=(8, 8))\n",
    "\n",
    "    ax_scatter = plt.axes(rect_scatter)\n",
    "    ax_scatter.tick_params(direction='in', top=True, right=True)\n",
    "    ax_histx = plt.axes(rect_histx)\n",
    "    ax_histx.tick_params(direction='in', labelbottom=False)\n",
    "    ax_histy = plt.axes(rect_histy)\n",
    "    ax_histy.tick_params(direction='in', labelleft=False)\n",
    " \n",
    "\n",
    "    # the scatter plot:\n",
    "    ax_scatter.scatter(X, Y);\n",
    "\n",
    "    # now determine nice limits by hand:\n",
    "    binwidth = 0.1\n",
    "    lim = np.ceil(np.abs([X, Y]).max() / binwidth) * binwidth\n",
    "    ax_scatter.set_xlim((0, lim))\n",
    "    ax_scatter.set_ylim((0, lim))\n",
    "\n",
    "    bins = np.arange(0, lim + binwidth, binwidth)\n",
    "    ax_histx.hist(X, bins=bins)\n",
    "    ax_histy.hist(Y, bins=bins, orientation='horizontal')\n",
    "\n",
    "    ax_histx.set_xlim(ax_scatter.get_xlim())\n",
    "    ax_histy.set_ylim(ax_scatter.get_ylim())\n",
    "\n",
    "    plt.show()\n",
    "        \n",
    "        "
   ]
  },
  {
   "cell_type": "code",
   "execution_count": 34,
   "metadata": {},
   "outputs": [
    {
     "data": {
      "image/png": "[encoded data removed]",
      "text/plain": [
       "<Figure size 576x576 with 3 Axes>"
      ]
     },
     "metadata": {
      "needs_background": "light"
     },
     "output_type": "display_data"
    }
   ],
   "source": [
    "trace_action1([[0,0]]*100,[0]*100,2000,0.2,0.9,1/15,0.5,1/3,0.5,100);"
   ]
  },
  {
   "cell_type": "code",
   "execution_count": 131,
   "metadata": {},
   "outputs": [],
   "source": [
    "import numpy as np\n",
    "import matplotlib.pyplot as plt\n",
    "\n",
    "def trace_action2(S,C,timesteps,alpha,p,r,q,s,gamma,N):\n",
    "    \n",
    "    X = [0.]*timesteps;\n",
    "    Y = [0.]*timesteps;\n",
    "    Action = [0]*N;\n",
    "    \n",
    "    for i in range(timesteps):\n",
    "        Action = action(S,C,alpha,p,r,q,s,gamma,N);\n",
    "        \n",
    "        X[i] = average(Action,0,int(gamma*N))*gamma;\n",
    "        Y[i] = average(Action,int(gamma*N),N)*(1-gamma);\n",
    "        \n",
    "        update(S,C,alpha,p,r,q,s,gamma,N);\n",
    "        \n",
    "    \n",
    "    \n",
    "    t = list(range(0,timesteps,1))\n",
    "    \n",
    "  \n",
    "    plt.plot(t,X)\n",
    "    \n",
    "        \n",
    "        "
   ]
  },
  {
   "cell_type": "code",
   "execution_count": 132,
   "metadata": {},
   "outputs": [
    {
     "data": {
      "image/png": "[encoded data removed]",
      "text/plain": [
       "<Figure size 432x288 with 1 Axes>"
      ]
     },
     "metadata": {
      "needs_background": "light"
     },
     "output_type": "display_data"
    }
   ],
   "source": [
    "trace_action2([[0,0]]*500,[0]*500,5000,0.2,0.9,1/15,0.5,1/3,0.5,500);"
   ]
  },
  {
   "cell_type": "code",
   "execution_count": 102,
   "metadata": {},
   "outputs": [
    {
     "name": "stdout",
     "output_type": "stream",
     "text": [
      "[1, 2, 3, 4, 5, 6, 7, 8, 9]\n"
     ]
    }
   ],
   "source": [
    "import numpy as np\n",
    "t=list(range(1,10,1))\n",
    "print(t)"
   ]
  },
  {
   "cell_type": "code",
   "execution_count": 133,
   "metadata": {},
   "outputs": [
    {
     "data": {
      "image/png": "[encoded data removed]",
      "text/plain": [
       "<Figure size 432x288 with 1 Axes>"
      ]
     },
     "metadata": {
      "needs_background": "light"
     },
     "output_type": "display_data"
    }
   ],
   "source": [
    "trace_action2([[0,0]]*500,[0]*500,5000,0.3,0.75,0.2,0.8,0.3,0.6,500);"
   ]
  },
  {
   "cell_type": "code",
   "execution_count": null,
   "metadata": {},
   "outputs": [],
   "source": []
  }
 ],
 "metadata": {
  "kernelspec": {
   "display_name": "Python 3",
   "language": "python",
   "name": "python3"
  },
  "language_info": {
   "codemirror_mode": {
    "name": "ipython",
    "version": 3
   },
   "file_extension": ".py",
   "mimetype": "text/x-python",
   "name": "python",
   "nbconvert_exporter": "python",
   "pygments_lexer": "ipython3",
   "version": "3.7.4"
  }
 },
 "nbformat": 4,
 "nbformat_minor": 2
}
