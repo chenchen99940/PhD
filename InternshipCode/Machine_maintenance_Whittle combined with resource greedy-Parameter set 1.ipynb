{
 "cells": [
  {
   "cell_type": "code",
   "execution_count": 1,
   "metadata": {},
   "outputs": [],
   "source": [
    "import numpy as np\n",
    "import matplotlib.pyplot as plt\n",
    "%matplotlib inline\n",
    "from math import exp;\n",
    "\n",
    "def C(j,J,x):\n",
    "    cost = (2+10*j/J)*x*x;\n",
    "    \n",
    "    return cost;\n",
    "\n",
    "def R(j,J,x):\n",
    "    resource = 1-exp(-((x+20*j/J)/10));\n",
    "\n",
    "    return resource;\n",
    "    \n",
    "\n",
    "def CD(j,J,x):\n",
    "    if x > 0:\n",
    "        c=0;\n",
    "        for i in range(x):\n",
    "            c += C(j,J,i);\n",
    "    \n",
    "        return c/x;\n",
    "    elif x == 0:\n",
    "        return 0;\n",
    "\n",
    "def RD(j,J,x,p):\n",
    "    if x > 0:\n",
    "        return p*R(j,J,x)/x;\n",
    "    \n",
    "    elif x == 0:\n",
    "        return 0;\n",
    "\n",
    "def W(j,J,x,p):\n",
    "     \n",
    "    if x >0:    \n",
    "        WhittleIndex = (CD(j,J,x+1)-CD(j,J,x))/(RD(j,J,x,p)-RD(j,J,x+1,p)); \n",
    "    \n",
    "    elif x ==0:\n",
    "        WhittleIndex = -10000;\n",
    "        \n",
    "    \n",
    "    return WhittleIndex;\n"
   ]
  },
  {
   "cell_type": "code",
   "execution_count": 2,
   "metadata": {},
   "outputs": [
    {
     "name": "stdout",
     "output_type": "stream",
     "text": [
      "245.38897835906417\n",
      "26.875639289846195\n",
      "17.666258491956786\n",
      "14.62590013397692\n",
      "13.237349970481755\n",
      "12.532520901565237\n",
      "12.179006426108447\n",
      "12.031836896126197\n",
      "12.01763926206369\n",
      "12.095251454970773\n",
      "12.239755690299635\n",
      "12.435150023437481\n",
      "12.670657119454546\n",
      "12.93872536664665\n",
      "13.233881635722454\n",
      "13.552040649257526\n",
      "13.890072321034546\n",
      "14.245521399848352\n",
      "14.616420474018266\n",
      "15.001162089118692\n"
     ]
    }
   ],
   "source": [
    "J=20;\n",
    "for j in range(20):\n",
    "    print(W(j,20,1,0.9));"
   ]
  },
  {
   "cell_type": "code",
   "execution_count": 4,
   "metadata": {},
   "outputs": [
    {
     "name": "stdout",
     "output_type": "stream",
     "text": [
      "10\n"
     ]
    }
   ],
   "source": [
    "def permutation_indices(data):\n",
    "     return sorted(range(len(data)), key = lambda k:data[k])\n",
    "\n",
    "N = [2,3,1,4,5,7,9,0,6,8,14,13,7];\n",
    "M = permutation_indices(N);\n",
    "print(M[len(N)-1]);"
   ]
  },
  {
   "cell_type": "code",
   "execution_count": 5,
   "metadata": {},
   "outputs": [],
   "source": [
    "def update(J,Resource,S,p):\n",
    "    WL = [0.]*J;\n",
    "    Y = [0.]*J;\n",
    "    Z = [0.]*J;\n",
    "    Cost_vector = [0.]*J;\n",
    "    Resource_vector = [0.]*J;\n",
    "    Action = [0]*J;\n",
    "    Threshold = Resource;\n",
    "    Seed = np.random.rand(J);\n",
    "    total_cost = 0;\n",
    "    \n",
    "    for j in range(J):\n",
    "        WL[j]= W(j,J,S[j],p);\n",
    "        Cost_vector[j]= C(j,J,S[j]);\n",
    "        Resource_vector[j]= R(j,J,S[j]);\n",
    "        \n",
    "   \n",
    "\n",
    "   \n",
    "  \n",
    "    Y = permutation_indices(WL);\n",
    "    Z = permutation_indices(Resource_vector);\n",
    "    ind = 1;\n",
    "   \n",
    "    \n",
    "    while Threshold > 0:\n",
    "       \n",
    "        Position = Y[len(Y)-ind];\n",
    "        Resource_left = Threshold;\n",
    "        Threshold -= Resource_vector[Position];\n",
    "        \n",
    "        if Threshold > 0:\n",
    "            Action[Position] = 1;\n",
    "            ind += 1;\n",
    "   \n",
    "    Last_hope = 0;\n",
    "    counter = 0;\n",
    "    \n",
    "    while Resource_left > 0:\n",
    "        Place = Z[Last_hope];\n",
    "        if Action[Place] == 1:\n",
    "            Last_hope += 1;\n",
    "        else:\n",
    "            Resource_left -= Resource_vector[Place];\n",
    "            if Resource_left > 0:\n",
    "                Action[Place] = 1;\n",
    "                Last_hope += 1;\n",
    "               \n",
    "                counter += 1;\n",
    "          \n",
    "                \n",
    "        \n",
    "   \n",
    "    for j in range(J):\n",
    "        \n",
    "        if Action[j]==0:\n",
    "            total_cost += C(j,J,S[j]);\n",
    "            S[j] += int((Seed[j]<p)==True);\n",
    "            \n",
    "        else:\n",
    "            S[j] = int((Seed[j]<p)==True);\n",
    "\n",
    "    \n",
    "   \n",
    "    return total_cost;\n",
    "     \n",
    "               "
   ]
  },
  {
   "cell_type": "code",
   "execution_count": 6,
   "metadata": {},
   "outputs": [
    {
     "name": "stdout",
     "output_type": "stream",
     "text": [
      "0.09516258196404048\n",
      "0.2591817793182821\n",
      "0.3934693402873666\n",
      "0.5034146962085905\n",
      "0.5934303402594009\n",
      "0.6671289163019205\n",
      "0.7274682069659875\n",
      "0.7768698398515702\n",
      "0.8173164759472653\n",
      "0.8504313807773649\n"
     ]
    }
   ],
   "source": [
    "for i in range(10):\n",
    "    print(R(i,10,1));"
   ]
  },
  {
   "cell_type": "code",
   "execution_count": 7,
   "metadata": {},
   "outputs": [],
   "source": [
    "update(10,2,[1]*10,0.9);"
   ]
  },
  {
   "cell_type": "code",
   "execution_count": 8,
   "metadata": {},
   "outputs": [],
   "source": [
    "def one_trial(J,Resource,S,p,timesteps):\n",
    "    Total_cost = 0;\n",
    "    for i in range(timesteps):\n",
    "        Total_cost += update(J,Resource,S,p);\n",
    "    \n",
    "    return Total_cost;"
   ]
  },
  {
   "cell_type": "code",
   "execution_count": 9,
   "metadata": {},
   "outputs": [],
   "source": [
    "one_trial(10,2.,[2]*10,0.9,5);"
   ]
  },
  {
   "cell_type": "code",
   "execution_count": 10,
   "metadata": {},
   "outputs": [],
   "source": [
    "import copy;\n",
    "def mc(J,Resource,S,p,timesteps,ntrials):\n",
    "    Cost = 0;\n",
    "    \n",
    "    for i in range(ntrials):\n",
    "        \n",
    "        SS = copy.deepcopy(S);\n",
    "       \n",
    "        One_time_cost = one_trial(J,Resource,SS,p,timesteps)\n",
    "      \n",
    "        Cost += One_time_cost;\n",
    "        \n",
    "    Average_cost = Cost/(ntrials*timesteps);\n",
    "    \n",
    "    print(Average_cost);\n",
    "        "
   ]
  },
  {
   "cell_type": "code",
   "execution_count": 86,
   "metadata": {},
   "outputs": [
    {
     "name": "stdout",
     "output_type": "stream",
     "text": [
      "159.821135\n"
     ]
    }
   ],
   "source": [
    "mc(10,2,[1]*10,0.9,2000,100);\n",
    "\n",
    "#The lowerbound is 99.26\n",
    "#State greedy + Resource greedy is 158.31"
   ]
  },
  {
   "cell_type": "code",
   "execution_count": 16,
   "metadata": {},
   "outputs": [
    {
     "name": "stdout",
     "output_type": "stream",
     "text": [
      "59.49022768486802\n",
      "61.01148498891798\n"
     ]
    }
   ],
   "source": [
    "print(100*(158.31-99.26)/99.26);\n",
    "print(100*(159.82-99.26)/99.26);"
   ]
  },
  {
   "cell_type": "code",
   "execution_count": 91,
   "metadata": {},
   "outputs": [
    {
     "name": "stdout",
     "output_type": "stream",
     "text": [
      "688.5755325\n"
     ]
    }
   ],
   "source": [
    "mc(20,3,[1]*20,0.9,2000,100);\n",
    "\n",
    "#The lowerbound is 544.87\n",
    "#State greedy + Resource greedy is 693.03"
   ]
  },
  {
   "cell_type": "code",
   "execution_count": 17,
   "metadata": {},
   "outputs": [
    {
     "name": "stdout",
     "output_type": "stream",
     "text": [
      "27.191807220070835\n",
      "26.375098647383787\n"
     ]
    }
   ],
   "source": [
    "print(100*(693.03-544.87)/544.87);\n",
    "print(100*(688.58-544.87)/544.87);"
   ]
  },
  {
   "cell_type": "code",
   "execution_count": 87,
   "metadata": {},
   "outputs": [
    {
     "name": "stdout",
     "output_type": "stream",
     "text": [
      "691.4618500000001\n"
     ]
    }
   ],
   "source": [
    "mc(30,5,[1]*30,0.9,2000,100);\n",
    "\n",
    "#The lowerbound is 623.31\n",
    "#State greedy + Resource greedy is 692.10"
   ]
  },
  {
   "cell_type": "code",
   "execution_count": 18,
   "metadata": {},
   "outputs": [
    {
     "name": "stdout",
     "output_type": "stream",
     "text": [
      "11.036241998363588\n",
      "10.933564358024112\n"
     ]
    }
   ],
   "source": [
    "print(100*(692.10-623.31)/623.31);\n",
    "print(100*(691.46-623.31)/623.31);"
   ]
  },
  {
   "cell_type": "code",
   "execution_count": 88,
   "metadata": {},
   "outputs": [
    {
     "name": "stdout",
     "output_type": "stream",
     "text": [
      "796.71669875\n"
     ]
    }
   ],
   "source": [
    "mc(40,7,[1]*40,0.9,2000,100);\n",
    "\n",
    "#The lowerbound is 742.90\n",
    "#State greedy + Resource greedy is 799.83"
   ]
  },
  {
   "cell_type": "code",
   "execution_count": 19,
   "metadata": {},
   "outputs": [
    {
     "name": "stdout",
     "output_type": "stream",
     "text": [
      "7.663211737784367\n",
      "7.2445820433436605\n"
     ]
    }
   ],
   "source": [
    "print(100*(799.83-742.90)/742.90);\n",
    "print(100*(796.72-742.90)/742.90);"
   ]
  },
  {
   "cell_type": "code",
   "execution_count": 89,
   "metadata": {},
   "outputs": [
    {
     "name": "stdout",
     "output_type": "stream",
     "text": [
      "914.8007930000001\n"
     ]
    }
   ],
   "source": [
    "mc(50,9,[1]*50,0.9,2000,100);\n",
    "\n",
    "#The lowerbound is 865.72\n",
    "#State greedy + Resource greedy is 920.83"
   ]
  },
  {
   "cell_type": "code",
   "execution_count": 20,
   "metadata": {},
   "outputs": [
    {
     "name": "stdout",
     "output_type": "stream",
     "text": [
      "6.365799565679437\n",
      "5.669269509772204\n"
     ]
    }
   ],
   "source": [
    "print(100*(920.83-865.72)/865.72);\n",
    "print(100*(914.80-865.72)/865.72);"
   ]
  },
  {
   "cell_type": "code",
   "execution_count": 90,
   "metadata": {},
   "outputs": [
    {
     "name": "stdout",
     "output_type": "stream",
     "text": [
      "1033.7747675000005\n"
     ]
    }
   ],
   "source": [
    "mc(60,11,[1]*60,0.9,2000,100);\n",
    "\n",
    "#The lowerbound is 989.86\n",
    "#State greedy + Resource greedy is 1042.84"
   ]
  },
  {
   "cell_type": "code",
   "execution_count": 21,
   "metadata": {},
   "outputs": [
    {
     "name": "stdout",
     "output_type": "stream",
     "text": [
      "5.352272038470077\n",
      "4.435980845776166\n"
     ]
    }
   ],
   "source": [
    "print(100*(1042.84-989.86)/989.86);\n",
    "print(100*(1033.77-989.86)/989.86);"
   ]
  },
  {
   "cell_type": "code",
   "execution_count": 92,
   "metadata": {},
   "outputs": [
    {
     "name": "stdout",
     "output_type": "stream",
     "text": [
      "1156.9888057142853\n"
     ]
    }
   ],
   "source": [
    "mc(70,13,[1]*70,0.9,2000,100);\n",
    "\n",
    "#The lowerbound is 1114.77\n",
    "#State greedy + Resource greedy is 1169.45"
   ]
  },
  {
   "cell_type": "code",
   "execution_count": 22,
   "metadata": {},
   "outputs": [
    {
     "name": "stdout",
     "output_type": "stream",
     "text": [
      "4.905047677996364\n",
      "3.787328327816503\n"
     ]
    }
   ],
   "source": [
    "print(100*(1169.45-1114.77)/1114.77);\n",
    "print(100*(1156.99-1114.77)/1114.77);"
   ]
  },
  {
   "cell_type": "code",
   "execution_count": 93,
   "metadata": {},
   "outputs": [
    {
     "name": "stdout",
     "output_type": "stream",
     "text": [
      "1571.76036375\n"
     ]
    }
   ],
   "source": [
    "mc(80,14,[1]*80,0.9,2000,100);\n",
    "\n",
    "#The lowerbound is 1523.86\n",
    "#State greedy + Resource greedy is 1582.30"
   ]
  },
  {
   "cell_type": "code",
   "execution_count": 23,
   "metadata": {},
   "outputs": [
    {
     "name": "stdout",
     "output_type": "stream",
     "text": [
      "3.8349979656923905\n",
      "3.1433333770818903\n"
     ]
    }
   ],
   "source": [
    "print(100*(1582.30-1523.86)/1523.86);\n",
    "print(100*(1571.76-1523.86)/1523.86);"
   ]
  },
  {
   "cell_type": "code",
   "execution_count": 94,
   "metadata": {},
   "outputs": [
    {
     "name": "stdout",
     "output_type": "stream",
     "text": [
      "1691.0709444444449\n"
     ]
    }
   ],
   "source": [
    "mc(90,16,[1]*90,0.9,2000,100);\n",
    "\n",
    "#The lowerbound is 1645.39\n",
    "#State greedy + Resource greedy is 1704.13"
   ]
  },
  {
   "cell_type": "code",
   "execution_count": 24,
   "metadata": {},
   "outputs": [
    {
     "name": "stdout",
     "output_type": "stream",
     "text": [
      "3.569974291809237\n",
      "2.7762414989759168\n"
     ]
    }
   ],
   "source": [
    "print(100*(1704.13-1645.39)/1645.39);\n",
    "print(100*(1691.07-1645.39)/1645.39);"
   ]
  },
  {
   "cell_type": "code",
   "execution_count": 95,
   "metadata": {},
   "outputs": [
    {
     "name": "stdout",
     "output_type": "stream",
     "text": [
      "1810.483408\n"
     ]
    }
   ],
   "source": [
    "mc(100,18,[1]*100,0.9,2000,100);\n",
    "\n",
    "#The lowerbound is 1768.14\n",
    "#State greedy + Resource greedy is 1826.53"
   ]
  },
  {
   "cell_type": "code",
   "execution_count": 25,
   "metadata": {},
   "outputs": [
    {
     "name": "stdout",
     "output_type": "stream",
     "text": [
      "3.3023403124186923\n",
      "2.394606761907989\n"
     ]
    }
   ],
   "source": [
    "print(100*(1826.53-1768.14)/1768.14);\n",
    "print(100*(1810.48-1768.14)/1768.14);"
   ]
  },
  {
   "cell_type": "code",
   "execution_count": 96,
   "metadata": {},
   "outputs": [
    {
     "name": "stdout",
     "output_type": "stream",
     "text": [
      "2350.303241666666\n"
     ]
    }
   ],
   "source": [
    "mc(120,21,[1]*120,0.9,2000,100);\n",
    "\n",
    "#The lowerbound is 2304.79\n",
    "#State greedy + Resource greedy is 2366.51"
   ]
  },
  {
   "cell_type": "code",
   "execution_count": 26,
   "metadata": {},
   "outputs": [
    {
     "name": "stdout",
     "output_type": "stream",
     "text": [
      "2.6779012404600966\n",
      "1.9745833676820976\n"
     ]
    }
   ],
   "source": [
    "print(100*(2366.51-2304.79)/2304.79);\n",
    "print(100*(2350.30-2304.79)/2304.79);"
   ]
  },
  {
   "cell_type": "code",
   "execution_count": 97,
   "metadata": {},
   "outputs": [
    {
     "name": "stdout",
     "output_type": "stream",
     "text": [
      "2892.9747307142848\n"
     ]
    }
   ],
   "source": [
    "mc(140,24,[1]*140,0.9,2000,100);\n",
    "\n",
    "#The lowerbound is 2846.81\n",
    "#State greedy + Resource greedy is 2910.56"
   ]
  },
  {
   "cell_type": "code",
   "execution_count": 27,
   "metadata": {},
   "outputs": [
    {
     "name": "stdout",
     "output_type": "stream",
     "text": [
      "2.2393486042271875\n",
      "1.621464024645124\n"
     ]
    }
   ],
   "source": [
    "print(100*(2910.56-2846.81)/2846.81);\n",
    "print(100*(2892.97-2846.81)/2846.81);"
   ]
  },
  {
   "cell_type": "code",
   "execution_count": 98,
   "metadata": {},
   "outputs": [
    {
     "name": "stdout",
     "output_type": "stream",
     "text": [
      "3907.5086834999997\n"
     ]
    }
   ],
   "source": [
    "mc(200,35,[1]*200,0.9,2000,100);\n",
    "\n",
    "#The lowerbound is 3866.51\n",
    "#State greedy + Resource greedy is 3938.61"
   ]
  },
  {
   "cell_type": "code",
   "execution_count": 28,
   "metadata": {},
   "outputs": [
    {
     "name": "stdout",
     "output_type": "stream",
     "text": [
      "1.8647307261587298\n",
      "1.0603877915743136\n"
     ]
    }
   ],
   "source": [
    "print(100*(3938.61-3866.51)/3866.51);\n",
    "print(100*(3907.51-3866.51)/3866.51);"
   ]
  },
  {
   "cell_type": "code",
   "execution_count": 11,
   "metadata": {},
   "outputs": [
    {
     "name": "stdout",
     "output_type": "stream",
     "text": [
      "6371.346805625\n"
     ]
    }
   ],
   "source": [
    "mc(400,75,[1]*400,0.9,2000,100);\n",
    "\n",
    "#The lowerbound is 6342.32\n",
    "#State greedy + Resource greedy is 6465.48"
   ]
  },
  {
   "cell_type": "code",
   "execution_count": 30,
   "metadata": {},
   "outputs": [
    {
     "name": "stdout",
     "output_type": "stream",
     "text": [
      "1.941876158881921\n",
      "0.457718941964465\n"
     ]
    }
   ],
   "source": [
    "print(100*(6465.48-6342.32)/6342.32);\n",
    "print(100*(6371.35-6342.32)/6342.32);"
   ]
  },
  {
   "cell_type": "code",
   "execution_count": 12,
   "metadata": {},
   "outputs": [
    {
     "name": "stdout",
     "output_type": "stream",
     "text": [
      "10252.979755250002\n"
     ]
    }
   ],
   "source": [
    "mc(600,110,[1]*600,0.9,2000,100);\n",
    "\n",
    "#The lowerbound is 10223.24\n",
    "#State greedy + Resource greedy is 10378.57"
   ]
  },
  {
   "cell_type": "code",
   "execution_count": 31,
   "metadata": {},
   "outputs": [
    {
     "name": "stdout",
     "output_type": "stream",
     "text": [
      "1.519381331163114\n",
      "0.2909058185076334\n"
     ]
    }
   ],
   "source": [
    "print(100*(10378.57-10223.24)/10223.24);\n",
    "print(100*(10252.98-10223.24)/10223.24);"
   ]
  },
  {
   "cell_type": "code",
   "execution_count": 13,
   "metadata": {},
   "outputs": [
    {
     "name": "stdout",
     "output_type": "stream",
     "text": [
      "12750.321784437503\n"
     ]
    }
   ],
   "source": [
    "mc(800,150,[1]*800,0.9,2000,100);\n",
    "\n",
    "#The lowerbound is 12719.90\n",
    "#State greedy + Resource greedy is 12936.78"
   ]
  },
  {
   "cell_type": "code",
   "execution_count": 33,
   "metadata": {},
   "outputs": [
    {
     "name": "stdout",
     "output_type": "stream",
     "text": [
      "1.705044850981541\n",
      "0.23915282352848743\n"
     ]
    }
   ],
   "source": [
    "print(100*(12936.78-12719.90)/12719.90);\n",
    "print(100*(12750.32-12719.90)/12719.90);"
   ]
  },
  {
   "cell_type": "code",
   "execution_count": 14,
   "metadata": {},
   "outputs": [
    {
     "name": "stdout",
     "output_type": "stream",
     "text": [
      "15263.586550150007\n"
     ]
    }
   ],
   "source": [
    "mc(1000,190,[1]*1000,0.9,2000,100);\n",
    "\n",
    "#The lowerbound is 15232.24\n",
    "#State greedy + Resource greedy is 15513.97"
   ]
  },
  {
   "cell_type": "code",
   "execution_count": 34,
   "metadata": {},
   "outputs": [
    {
     "name": "stdout",
     "output_type": "stream",
     "text": [
      "1.8495638198977928\n",
      "0.20574780859545377\n"
     ]
    }
   ],
   "source": [
    "print(100*(15513.97-15232.24)/15232.24);\n",
    "print(100*(15263.58-15232.24)/15232.24);"
   ]
  },
  {
   "cell_type": "code",
   "execution_count": 11,
   "metadata": {},
   "outputs": [
    {
     "name": "stdout",
     "output_type": "stream",
     "text": [
      "24238.954834933327\n"
     ]
    }
   ],
   "source": [
    "mc(1500,280,[1]*1500,0.9,1000,100);\n",
    "\n",
    "#The lowerbound is 24222.72\n",
    "#State greedy + Resource greedy is 24580.16"
   ]
  },
  {
   "cell_type": "code",
   "execution_count": 12,
   "metadata": {},
   "outputs": [
    {
     "name": "stdout",
     "output_type": "stream",
     "text": [
      "1.475639399704074\n",
      "0.06700321020925627\n"
     ]
    }
   ],
   "source": [
    "print(100*(24580.16-24222.72)/24222.72);\n",
    "print(100*(24238.95-24222.72)/24222.72);"
   ]
  },
  {
   "cell_type": "code",
   "execution_count": 15,
   "metadata": {},
   "outputs": [],
   "source": [
    "def CL(j,J,W,p):\n",
    "    c = CD(j,J,1)+W*RD(j,J,1,p)+1;\n",
    "    \n",
    "    for i in range(100):\n",
    "        calculate = CD(j,J,i)+W*RD(j,J,i,p);\n",
    "        if calculate < c and calculate > 0:\n",
    "            c = calculate;\n",
    "        \n",
    "    return c;"
   ]
  },
  {
   "cell_type": "code",
   "execution_count": 30,
   "metadata": {},
   "outputs": [
    {
     "name": "stdout",
     "output_type": "stream",
     "text": [
      "66.22678218911572\n"
     ]
    }
   ],
   "source": [
    "print(CL(5,10,250,0.9));"
   ]
  },
  {
   "cell_type": "code",
   "execution_count": 71,
   "metadata": {},
   "outputs": [],
   "source": [
    "def LLB(W,Resource,J,p):\n",
    "    l = 0;\n",
    "    for i in range(J):\n",
    "        l += CL(i,J,W,p);\n",
    "    lowerbound = l - W*Resource;\n",
    "    \n",
    "    print(lowerbound);\n",
    "\n",
    "    "
   ]
  },
  {
   "cell_type": "code",
   "execution_count": 72,
   "metadata": {},
   "outputs": [
    {
     "name": "stdout",
     "output_type": "stream",
     "text": [
      "544.8702696181958\n"
     ]
    }
   ],
   "source": [
    "LLB(589,3.,20,0.9);"
   ]
  },
  {
   "cell_type": "code",
   "execution_count": 73,
   "metadata": {},
   "outputs": [
    {
     "name": "stdout",
     "output_type": "stream",
     "text": [
      "99.26449980987206\n"
     ]
    }
   ],
   "source": [
    "LLB(102,2.,10,0.9);"
   ]
  },
  {
   "cell_type": "code",
   "execution_count": null,
   "metadata": {},
   "outputs": [],
   "source": []
  }
 ],
 "metadata": {
  "kernelspec": {
   "display_name": "Python 3",
   "language": "python",
   "name": "python3"
  },
  "language_info": {
   "codemirror_mode": {
    "name": "ipython",
    "version": 3
   },
   "file_extension": ".py",
   "mimetype": "text/x-python",
   "name": "python",
   "nbconvert_exporter": "python",
   "pygments_lexer": "ipython3",
   "version": "3.7.3"
  }
 },
 "nbformat": 4,
 "nbformat_minor": 2
}
