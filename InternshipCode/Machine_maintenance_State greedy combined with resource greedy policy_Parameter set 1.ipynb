{
 "cells": [
  {
   "cell_type": "code",
   "execution_count": 1,
   "metadata": {},
   "outputs": [],
   "source": [
    "import numpy as np\n",
    "import matplotlib.pyplot as plt\n",
    "%matplotlib inline\n",
    "from math import exp;\n",
    "\n",
    "def C(j,J,x):\n",
    "    cost = (2+10*j/J)*x*x;\n",
    "    \n",
    "    return cost;\n",
    "\n",
    "def R(j,J,x):\n",
    "    resource = 1-exp(-((x+20*j/J)/10));\n",
    "\n",
    "    return resource;\n",
    "    \n",
    "\n",
    "def CD(j,J,x):\n",
    "    if x > 0:\n",
    "        c=0;\n",
    "        for i in range(x):\n",
    "            c += C(j,J,i);\n",
    "    \n",
    "        return c/x;\n",
    "    elif x == 0:\n",
    "        return 0;\n",
    "\n",
    "def RD(j,J,x,p):\n",
    "    if x > 0:\n",
    "        return p*R(j,J,x)/x;\n",
    "    \n",
    "    elif x == 0:\n",
    "        return 0;\n",
    "\n",
    "def W(j,J,x,p):\n",
    "    if x>0:    \n",
    "        WhittleIndex = (CD(j,J,x+1)-CD(j,J,x))/(RD(j,J,x,p)-RD(j,J,x+1,p)); \n",
    "    elif x ==0:\n",
    "        WhittleIndex =0;\n",
    "    \n",
    "    return WhittleIndex;\n"
   ]
  },
  {
   "cell_type": "code",
   "execution_count": 2,
   "metadata": {},
   "outputs": [
    {
     "name": "stdout",
     "output_type": "stream",
     "text": [
      "245.38897835906417\n",
      "26.875639289846195\n",
      "17.666258491956786\n",
      "14.62590013397692\n",
      "13.237349970481755\n",
      "12.532520901565237\n",
      "12.179006426108447\n",
      "12.031836896126197\n",
      "12.01763926206369\n",
      "12.095251454970773\n",
      "12.239755690299635\n",
      "12.435150023437481\n",
      "12.670657119454546\n",
      "12.93872536664665\n",
      "13.233881635722454\n",
      "13.552040649257526\n",
      "13.890072321034546\n",
      "14.245521399848352\n",
      "14.616420474018266\n",
      "15.001162089118692\n"
     ]
    }
   ],
   "source": [
    "J=20;\n",
    "for j in range(20):\n",
    "    print(W(j,20,1,0.9));"
   ]
  },
  {
   "cell_type": "code",
   "execution_count": 3,
   "metadata": {},
   "outputs": [
    {
     "name": "stdout",
     "output_type": "stream",
     "text": [
      "10\n"
     ]
    }
   ],
   "source": [
    "def permutation_indices(data):\n",
    "     return sorted(range(len(data)), key = lambda k:data[k])\n",
    "\n",
    "N = [2,3,1,4,5,7,9,0,6,8,14,13,7];\n",
    "M = permutation_indices(N);\n",
    "print(M[len(N)-1]);"
   ]
  },
  {
   "cell_type": "code",
   "execution_count": 4,
   "metadata": {},
   "outputs": [],
   "source": [
    "def update(J,Resource,S,p):\n",
    "    WL = [0.]*J;\n",
    "    Y = [0]*J;\n",
    "    Z = [0.]*J;\n",
    "    Cost_vector = [0.]*J;\n",
    "    Resource_vector = [0.]*J;\n",
    "    Action = [0]*J;\n",
    "    Threshold = Resource;\n",
    "    Seed = np.random.rand(J);\n",
    "    total_cost = 0;\n",
    "    \n",
    "    for j in range(J):\n",
    "        Cost_vector[j]= C(j,J,S[j]);\n",
    "        Resource_vector[j]= R(j,J,S[j]);\n",
    "        \n",
    "   \n",
    "\n",
    "   \n",
    "  \n",
    "    Y = permutation_indices(S);\n",
    "    Z = permutation_indices(Resource_vector);\n",
    "    ind = 1;\n",
    "   \n",
    "    \n",
    "    while Threshold > 0:\n",
    "       \n",
    "        Position = Y[len(Y)-ind];\n",
    "        Resource_left = Threshold;\n",
    "        Threshold -= Resource_vector[Position];\n",
    "        \n",
    "        if Threshold > 0:\n",
    "            Action[Position] = 1;\n",
    "            ind += 1;\n",
    "   \n",
    "    Last_hope = 0;\n",
    "   \n",
    "    \n",
    "    while Resource_left > 0:\n",
    "        Place = Z[Last_hope];\n",
    "        if Action[Place] == 1:\n",
    "            Last_hope += 1;\n",
    "        else:\n",
    "            Resource_left -= Resource_vector[Place];\n",
    "            if Resource_left > 0:\n",
    "                Action[Place] = 1;\n",
    "                Last_hope += 1;\n",
    "               \n",
    "               \n",
    "          \n",
    "    for j in range(J):\n",
    "        \n",
    "        if Action[j]==0:\n",
    "            total_cost += C(j,J,S[j]);\n",
    "            S[j] += int((Seed[j]<p)==True);\n",
    "            \n",
    "        else:\n",
    "            S[j] = int((Seed[j]<p)==True);\n",
    "\n",
    "    \n",
    "   \n",
    "    return total_cost;\n",
    "     \n",
    "               "
   ]
  },
  {
   "cell_type": "code",
   "execution_count": 5,
   "metadata": {},
   "outputs": [
    {
     "name": "stdout",
     "output_type": "stream",
     "text": [
      "0.09516258196404048\n",
      "0.2591817793182821\n",
      "0.3934693402873666\n",
      "0.5034146962085905\n",
      "0.5934303402594009\n",
      "0.6671289163019205\n",
      "0.7274682069659875\n",
      "0.7768698398515702\n",
      "0.8173164759472653\n",
      "0.8504313807773649\n"
     ]
    }
   ],
   "source": [
    "for i in range(10):\n",
    "    print(R(i,10,1));"
   ]
  },
  {
   "cell_type": "code",
   "execution_count": 6,
   "metadata": {},
   "outputs": [],
   "source": [
    "update(10,2,[1]*10,0.9);"
   ]
  },
  {
   "cell_type": "code",
   "execution_count": 7,
   "metadata": {},
   "outputs": [],
   "source": [
    "def one_trial(J,Resource,S,p,timesteps):\n",
    "    Total_cost = 0;\n",
    "    for i in range(timesteps):\n",
    "        Total_cost += update(J,Resource,S,p);\n",
    "    \n",
    "    return Total_cost;"
   ]
  },
  {
   "cell_type": "code",
   "execution_count": 8,
   "metadata": {},
   "outputs": [],
   "source": [
    "one_trial(10,2.,[2]*10,0.9,5);"
   ]
  },
  {
   "cell_type": "code",
   "execution_count": 9,
   "metadata": {},
   "outputs": [],
   "source": [
    "import copy;\n",
    "def mc(J,Resource,S,p,timesteps,ntrials):\n",
    "    Cost = 0;\n",
    "    \n",
    "    for i in range(ntrials):\n",
    "        \n",
    "        SS = copy.deepcopy(S);\n",
    "        One_time_cost = one_trial(J,Resource,SS,p,timesteps);\n",
    "        \n",
    "        Cost += One_time_cost;\n",
    "        \n",
    "    Average_cost = Cost/(ntrials*timesteps);\n",
    "    \n",
    "    print(Average_cost);\n",
    "        "
   ]
  },
  {
   "cell_type": "code",
   "execution_count": 113,
   "metadata": {},
   "outputs": [
    {
     "name": "stdout",
     "output_type": "stream",
     "text": [
      "158.305385\n"
     ]
    }
   ],
   "source": [
    "mc(10,2,[1]*10,0.9,2000,100);"
   ]
  },
  {
   "cell_type": "code",
   "execution_count": 115,
   "metadata": {},
   "outputs": [
    {
     "name": "stdout",
     "output_type": "stream",
     "text": [
      "693.0277275\n"
     ]
    }
   ],
   "source": [
    "mc(20,3,[1]*20,0.9,2000,100);"
   ]
  },
  {
   "cell_type": "code",
   "execution_count": 116,
   "metadata": {},
   "outputs": [
    {
     "name": "stdout",
     "output_type": "stream",
     "text": [
      "692.1040733333333\n"
     ]
    }
   ],
   "source": [
    "mc(30,5,[1]*30,0.9,2000,100);"
   ]
  },
  {
   "cell_type": "code",
   "execution_count": 120,
   "metadata": {},
   "outputs": [
    {
     "name": "stdout",
     "output_type": "stream",
     "text": [
      "799.83076125\n"
     ]
    }
   ],
   "source": [
    "mc(40,7,[1]*40,0.9,2000,100);"
   ]
  },
  {
   "cell_type": "code",
   "execution_count": 122,
   "metadata": {},
   "outputs": [
    {
     "name": "stdout",
     "output_type": "stream",
     "text": [
      "920.8295980000001\n"
     ]
    }
   ],
   "source": [
    "mc(50,9,[1]*50,0.9,2000,100);"
   ]
  },
  {
   "cell_type": "code",
   "execution_count": 123,
   "metadata": {},
   "outputs": [
    {
     "name": "stdout",
     "output_type": "stream",
     "text": [
      "1042.8443208333335\n"
     ]
    }
   ],
   "source": [
    "mc(60,11,[1]*60,0.9,2000,100);"
   ]
  },
  {
   "cell_type": "code",
   "execution_count": 124,
   "metadata": {},
   "outputs": [
    {
     "name": "stdout",
     "output_type": "stream",
     "text": [
      "1169.449353571429\n"
     ]
    }
   ],
   "source": [
    "mc(70,13,[1]*70,0.9,2000,100);"
   ]
  },
  {
   "cell_type": "code",
   "execution_count": 125,
   "metadata": {},
   "outputs": [
    {
     "name": "stdout",
     "output_type": "stream",
     "text": [
      "1582.30195875\n"
     ]
    }
   ],
   "source": [
    "mc(80,14,[1]*80,0.9,2000,100);"
   ]
  },
  {
   "cell_type": "code",
   "execution_count": 126,
   "metadata": {},
   "outputs": [
    {
     "name": "stdout",
     "output_type": "stream",
     "text": [
      "1704.125307222222\n"
     ]
    }
   ],
   "source": [
    "mc(90,16,[1]*90,0.9,2000,100);"
   ]
  },
  {
   "cell_type": "code",
   "execution_count": 127,
   "metadata": {},
   "outputs": [
    {
     "name": "stdout",
     "output_type": "stream",
     "text": [
      "1826.5272154999993\n"
     ]
    }
   ],
   "source": [
    "mc(100,18,[1]*100,0.9,2000,100);"
   ]
  },
  {
   "cell_type": "code",
   "execution_count": 128,
   "metadata": {},
   "outputs": [
    {
     "name": "stdout",
     "output_type": "stream",
     "text": [
      "2366.514684999999\n"
     ]
    }
   ],
   "source": [
    "mc(120,21,[1]*120,0.9,2000,100);"
   ]
  },
  {
   "cell_type": "code",
   "execution_count": 129,
   "metadata": {},
   "outputs": [
    {
     "name": "stdout",
     "output_type": "stream",
     "text": [
      "2910.5557592857126\n"
     ]
    }
   ],
   "source": [
    "mc(140,24,[1]*140,0.9,2000,100);"
   ]
  },
  {
   "cell_type": "code",
   "execution_count": 130,
   "metadata": {},
   "outputs": [
    {
     "name": "stdout",
     "output_type": "stream",
     "text": [
      "3938.6088312500024\n"
     ]
    }
   ],
   "source": [
    "mc(200,35,[1]*200,0.9,2000,100);"
   ]
  },
  {
   "cell_type": "code",
   "execution_count": 9,
   "metadata": {},
   "outputs": [
    {
     "name": "stdout",
     "output_type": "stream",
     "text": [
      "6465.682282125001\n"
     ]
    }
   ],
   "source": [
    "mc(400,75,[1]*400,0.9,2000,100);"
   ]
  },
  {
   "cell_type": "code",
   "execution_count": 10,
   "metadata": {},
   "outputs": [
    {
     "name": "stdout",
     "output_type": "stream",
     "text": [
      "10378.56776366667\n"
     ]
    }
   ],
   "source": [
    "mc(600,110,[1]*600,0.9,2000,100);"
   ]
  },
  {
   "cell_type": "code",
   "execution_count": 11,
   "metadata": {},
   "outputs": [
    {
     "name": "stdout",
     "output_type": "stream",
     "text": [
      "12936.784656250009\n"
     ]
    }
   ],
   "source": [
    "mc(800,150,[1]*800,0.9,2000,100);"
   ]
  },
  {
   "cell_type": "code",
   "execution_count": 12,
   "metadata": {},
   "outputs": [
    {
     "name": "stdout",
     "output_type": "stream",
     "text": [
      "15513.97039075\n"
     ]
    }
   ],
   "source": [
    "mc(1000,190,[1]*1000,0.9,2000,100);"
   ]
  },
  {
   "cell_type": "code",
   "execution_count": 10,
   "metadata": {},
   "outputs": [
    {
     "name": "stdout",
     "output_type": "stream",
     "text": [
      "24580.16372073334\n"
     ]
    }
   ],
   "source": [
    "mc(1500,280,[1]*1500,0.9,1000,100);"
   ]
  },
  {
   "cell_type": "code",
   "execution_count": 11,
   "metadata": {},
   "outputs": [],
   "source": [
    "def CL(j,J,W,p):\n",
    "    c = CD(j,J,1)+W*RD(j,J,1,p)+1;\n",
    "    \n",
    "    for i in range(100):\n",
    "        calculate = CD(j,J,i)+W*RD(j,J,i,p);\n",
    "        if calculate < c and calculate > 0:\n",
    "            c = calculate;\n",
    "        \n",
    "    return c;"
   ]
  },
  {
   "cell_type": "code",
   "execution_count": 12,
   "metadata": {},
   "outputs": [],
   "source": [
    "def LLB(W,Resource,J,p):\n",
    "    l = 0;\n",
    "    for i in range(J):\n",
    "        l += CL(i,J,W,p);\n",
    "    lowerbound = l - W*Resource;\n",
    "    \n",
    "  \n",
    "    return lowerbound;\n",
    "    \n",
    "\n",
    "\n",
    "    "
   ]
  },
  {
   "cell_type": "code",
   "execution_count": 13,
   "metadata": {},
   "outputs": [],
   "source": [
    "def lb(Resource,J,p):\n",
    "    L = [0.]*2000;\n",
    "    for i in range(2000):\n",
    "        L[i] = LLB(i,Resource,J,p);\n",
    "    \n",
    "    lb = max(L);\n",
    "    print(lb);\n",
    "      \n",
    "\n",
    "   "
   ]
  },
  {
   "cell_type": "code",
   "execution_count": 97,
   "metadata": {},
   "outputs": [
    {
     "name": "stdout",
     "output_type": "stream",
     "text": [
      "99.26449980987206\n"
     ]
    }
   ],
   "source": [
    "lb(2.,10,0.9);"
   ]
  },
  {
   "cell_type": "code",
   "execution_count": 98,
   "metadata": {},
   "outputs": [
    {
     "name": "stdout",
     "output_type": "stream",
     "text": [
      "544.8722037287994\n"
     ]
    }
   ],
   "source": [
    "lb(3.,20,0.9);"
   ]
  },
  {
   "cell_type": "code",
   "execution_count": 99,
   "metadata": {},
   "outputs": [
    {
     "name": "stdout",
     "output_type": "stream",
     "text": [
      "623.3019099086546\n"
     ]
    }
   ],
   "source": [
    "lb(5.,30,0.9);"
   ]
  },
  {
   "cell_type": "code",
   "execution_count": 100,
   "metadata": {},
   "outputs": [
    {
     "name": "stdout",
     "output_type": "stream",
     "text": [
      "742.9000446297596\n"
     ]
    }
   ],
   "source": [
    "lb(7.,40,0.9);"
   ]
  },
  {
   "cell_type": "code",
   "execution_count": 101,
   "metadata": {},
   "outputs": [
    {
     "name": "stdout",
     "output_type": "stream",
     "text": [
      "865.714624109195\n"
     ]
    }
   ],
   "source": [
    "lb(9.,50,0.9);"
   ]
  },
  {
   "cell_type": "code",
   "execution_count": 102,
   "metadata": {},
   "outputs": [
    {
     "name": "stdout",
     "output_type": "stream",
     "text": [
      "989.8590120453232\n"
     ]
    }
   ],
   "source": [
    "lb(11.,60,0.9);"
   ]
  },
  {
   "cell_type": "code",
   "execution_count": 103,
   "metadata": {},
   "outputs": [
    {
     "name": "stdout",
     "output_type": "stream",
     "text": [
      "1114.7735633723705\n"
     ]
    }
   ],
   "source": [
    "lb(13.,70,0.9);"
   ]
  },
  {
   "cell_type": "code",
   "execution_count": 104,
   "metadata": {},
   "outputs": [
    {
     "name": "stdout",
     "output_type": "stream",
     "text": [
      "1523.8637478760857\n"
     ]
    }
   ],
   "source": [
    "lb(14.,80,0.9);"
   ]
  },
  {
   "cell_type": "code",
   "execution_count": 105,
   "metadata": {},
   "outputs": [
    {
     "name": "stdout",
     "output_type": "stream",
     "text": [
      "1645.3935296783156\n"
     ]
    }
   ],
   "source": [
    "lb(16.,90,0.9);"
   ]
  },
  {
   "cell_type": "code",
   "execution_count": 114,
   "metadata": {},
   "outputs": [
    {
     "name": "stdout",
     "output_type": "stream",
     "text": [
      "1768.1413264656076\n"
     ]
    }
   ],
   "source": [
    "lb(18.,100,0.9);"
   ]
  },
  {
   "cell_type": "code",
   "execution_count": 117,
   "metadata": {},
   "outputs": [
    {
     "name": "stdout",
     "output_type": "stream",
     "text": [
      "2304.785684896673\n"
     ]
    }
   ],
   "source": [
    "lb(21.,120,0.9);"
   ]
  },
  {
   "cell_type": "code",
   "execution_count": 118,
   "metadata": {},
   "outputs": [
    {
     "name": "stdout",
     "output_type": "stream",
     "text": [
      "2846.806871763376\n"
     ]
    }
   ],
   "source": [
    "lb(24.,140,0.9);"
   ]
  },
  {
   "cell_type": "code",
   "execution_count": 119,
   "metadata": {},
   "outputs": [
    {
     "name": "stdout",
     "output_type": "stream",
     "text": [
      "3866.512394303245\n"
     ]
    }
   ],
   "source": [
    "lb(35.,200,0.9);"
   ]
  },
  {
   "cell_type": "code",
   "execution_count": 17,
   "metadata": {},
   "outputs": [
    {
     "name": "stdout",
     "output_type": "stream",
     "text": [
      "6342.3202968635815\n"
     ]
    }
   ],
   "source": [
    "lb(75.,400,0.9);"
   ]
  },
  {
   "cell_type": "code",
   "execution_count": 18,
   "metadata": {},
   "outputs": [
    {
     "name": "stdout",
     "output_type": "stream",
     "text": [
      "10223.24297209068\n"
     ]
    }
   ],
   "source": [
    "lb(110.,600,0.9);\n"
   ]
  },
  {
   "cell_type": "code",
   "execution_count": 19,
   "metadata": {},
   "outputs": [
    {
     "name": "stdout",
     "output_type": "stream",
     "text": [
      "12719.904504371232\n"
     ]
    }
   ],
   "source": [
    "lb(150.,800,0.9);"
   ]
  },
  {
   "cell_type": "code",
   "execution_count": 20,
   "metadata": {},
   "outputs": [
    {
     "name": "stdout",
     "output_type": "stream",
     "text": [
      "15232.240503780587\n"
     ]
    }
   ],
   "source": [
    "lb(190.,1000,0.9);"
   ]
  },
  {
   "cell_type": "code",
   "execution_count": 14,
   "metadata": {},
   "outputs": [
    {
     "name": "stdout",
     "output_type": "stream",
     "text": [
      "24222.715094152678\n"
     ]
    }
   ],
   "source": [
    "lb(280.,1500,0.9);"
   ]
  },
  {
   "cell_type": "code",
   "execution_count": null,
   "metadata": {},
   "outputs": [],
   "source": []
  }
 ],
 "metadata": {
  "kernelspec": {
   "display_name": "Python 3",
   "language": "python",
   "name": "python3"
  },
  "language_info": {
   "codemirror_mode": {
    "name": "ipython",
    "version": 3
   },
   "file_extension": ".py",
   "mimetype": "text/x-python",
   "name": "python",
   "nbconvert_exporter": "python",
   "pygments_lexer": "ipython3",
   "version": "3.7.3"
  }
 },
 "nbformat": 4,
 "nbformat_minor": 2
}
