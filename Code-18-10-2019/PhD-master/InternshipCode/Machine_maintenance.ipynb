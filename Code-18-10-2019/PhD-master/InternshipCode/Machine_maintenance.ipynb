{
 "cells": [
  {
   "cell_type": "code",
   "execution_count": 3,
   "metadata": {},
   "outputs": [],
   "source": [
    "import numpy as np\n",
    "import matplotlib.pyplot as plt\n",
    "%matplotlib inline\n",
    "from math import exp;\n",
    "\n",
    "def C(j,J,x):\n",
    "    cost = (2+10*j/J)*x*x;\n",
    "    \n",
    "    return cost;\n",
    "\n",
    "def R(j,J,x):\n",
    "    resource = 1-exp(-((x+20*j/J)/10));\n",
    "\n",
    "    return resource;\n",
    "\n",
    "def CD(j,J,x):\n",
    "    c=0;\n",
    "    for i in range(x):\n",
    "        c += C(j,J,i);\n",
    "    \n",
    "    return c/x;\n",
    "\n",
    "def RD(j,J,x,p):\n",
    "    return p*R(j,J,x)/x;\n",
    "\n",
    "def W(j,J,x,p):\n",
    "    if x>0:\n",
    "        \n",
    "        WhittleIndex = (CD(j,J,x+1)-CD(j,J,x))/(RD(j,J,x,p)-RD(j,J,x+1,p)); \n",
    "        \n",
    "    else:\n",
    "        \n",
    "        WhittleIndex = -100000;\n",
    "    \n",
    "    return WhittleIndex;\n"
   ]
  },
  {
   "cell_type": "code",
   "execution_count": 509,
   "metadata": {},
   "outputs": [
    {
     "name": "stdout",
     "output_type": "stream",
     "text": [
      "-100000\n",
      "12.239755690299635\n",
      "84.8730494901149\n",
      "263.38412616466326\n",
      "589.6402842330111\n",
      "1101.6655646109718\n",
      "1833.88316423956\n",
      "2817.6140115860494\n",
      "4081.6770295229694\n",
      "5652.9919327325415\n",
      "7557.128985891142\n",
      "9818.780444494674\n",
      "12462.147367979414\n",
      "15511.246119000858\n",
      "18990.143936561202\n",
      "22923.134661988148\n",
      "27334.865511706525\n",
      "32250.424693334506\n",
      "37695.39822518205\n",
      "43695.90285809238\n"
     ]
    }
   ],
   "source": [
    "J=20;\n",
    "for x in range(20):\n",
    "    print(W(10,20,x,0.9));"
   ]
  },
  {
   "cell_type": "code",
   "execution_count": 4,
   "metadata": {},
   "outputs": [
    {
     "name": "stdout",
     "output_type": "stream",
     "text": [
      "10\n"
     ]
    }
   ],
   "source": [
    "def permutation_indices(data):\n",
    "     return sorted(range(len(data)), key = lambda k:data[k])\n",
    "\n",
    "N = [2,3,1,4,5,7,9,0,6,8,14,13,7];\n",
    "M = permutation_indices(N);\n",
    "print(M[len(N)-1]);"
   ]
  },
  {
   "cell_type": "code",
   "execution_count": 24,
   "metadata": {},
   "outputs": [],
   "source": [
    "def update(J,Resource,S,p):\n",
    "    WL = [0.]*J;\n",
    "    Y = [0.]*J;\n",
    "    Action = [0]*J;\n",
    "    Threshold = Resource;\n",
    "    Seed = np.random.rand(J);\n",
    "    total_cost = 0;\n",
    "    \n",
    "    for j in range(J):\n",
    "        WL[j]= W(j+1,J,S[j],p);\n",
    "\n",
    "\n",
    "        \n",
    "  \n",
    "    Y = permutation_indices(WL);\n",
    "    ind = 1;\n",
    "   \n",
    "    \n",
    "    while Threshold > 0:\n",
    "        Position = Y[len(Y)-ind];\n",
    "        Last_hope = Y[0];\n",
    "        Tibu = Threshold - R(Last_hope+1,J,S[Last_hope]);\n",
    "        Threshold -= R(Position+1,J,S[Position]);\n",
    "        \n",
    "        if Threshold > 0:\n",
    "            Action[Position] = 1;\n",
    "            ind += 1;\n",
    "        elif Threshold < 0 and Tibu > 0:\n",
    "            \n",
    "            Action[Last_hope] = 1;\n",
    "            \n",
    "    \n",
    "            \n",
    "        \n",
    "    for j in range(J):\n",
    "        \n",
    "        if Action[j]==0:\n",
    "            total_cost += C(j+1,J,S[j]);\n",
    "            S[j] += int((Seed[j]<p)==True);\n",
    "            \n",
    "        else:\n",
    "            S[j] = int((Seed[j]<p)==True);\n",
    "    \n",
    "\n",
    "    \n",
    "    return total_cost;\n",
    "     \n",
    "               "
   ]
  },
  {
   "cell_type": "code",
   "execution_count": 25,
   "metadata": {},
   "outputs": [],
   "source": [
    "update(10,2,[1]*10,0.9);"
   ]
  },
  {
   "cell_type": "code",
   "execution_count": 22,
   "metadata": {},
   "outputs": [],
   "source": [
    "def one_trial(J,Resource,S,p,timesteps):\n",
    "    Total_cost = 0;\n",
    "    for i in range(timesteps):\n",
    "        Total_cost += update(J,Resource,S,p);\n",
    "    \n",
    "    return Total_cost;"
   ]
  },
  {
   "cell_type": "code",
   "execution_count": 26,
   "metadata": {},
   "outputs": [],
   "source": [
    "one_trial(20,3.,[1]*20,0.9,30);"
   ]
  },
  {
   "cell_type": "code",
   "execution_count": 27,
   "metadata": {},
   "outputs": [],
   "source": [
    "import copy;\n",
    "def mc(J,Resource,S,p,timesteps,ntrials):\n",
    "    Cost = 0;\n",
    "    \n",
    "    for i in range(ntrials):\n",
    "        \n",
    "        SS = copy.deepcopy(S);\n",
    "        One_time_cost = one_trial(J,Resource,SS,p,timesteps);\n",
    "        \n",
    "        Cost += One_time_cost;\n",
    "        \n",
    "    Average_cost = Cost/(ntrials*timesteps);\n",
    "    \n",
    "    print(Average_cost);\n",
    "        "
   ]
  },
  {
   "cell_type": "code",
   "execution_count": 63,
   "metadata": {},
   "outputs": [
    {
     "name": "stdout",
     "output_type": "stream",
     "text": [
      "974.847555\n"
     ]
    }
   ],
   "source": [
    "mc(20,3,[2]*20,0.9,2000,100);"
   ]
  },
  {
   "cell_type": "code",
   "execution_count": 34,
   "metadata": {},
   "outputs": [],
   "source": [
    "def CL(j,J,W,p):\n",
    "    c = CD(j,J,1)+W*RD(j,J,1,p)+1;\n",
    "    \n",
    "    for i in range(100):\n",
    "        calculate = CD(j,J,i+1)+W*RD(j,J,i+1,p);\n",
    "        if calculate < c:\n",
    "            c = calculate;\n",
    "        \n",
    "    return c;"
   ]
  },
  {
   "cell_type": "code",
   "execution_count": 35,
   "metadata": {},
   "outputs": [
    {
     "name": "stdout",
     "output_type": "stream",
     "text": [
      "66.22678218911572\n"
     ]
    }
   ],
   "source": [
    "print(CL(5,10,250,0.9));"
   ]
  },
  {
   "cell_type": "code",
   "execution_count": 36,
   "metadata": {},
   "outputs": [],
   "source": [
    "def LLB(W,Resource,J,p):\n",
    "    l = 0;\n",
    "    for i in range(J):\n",
    "        l += CL(i+1,J,W,p);\n",
    "    lowerbound = l - W*Resource;\n",
    "    \n",
    "    print(lowerbound);\n",
    "\n",
    "    "
   ]
  },
  {
   "cell_type": "code",
   "execution_count": 62,
   "metadata": {},
   "outputs": [
    {
     "name": "stdout",
     "output_type": "stream",
     "text": [
      "660.2720926092256\n"
     ]
    }
   ],
   "source": [
    "LLB(650,3.,20,0.9);"
   ]
  },
  {
   "cell_type": "code",
   "execution_count": null,
   "metadata": {},
   "outputs": [],
   "source": []
  },
  {
   "cell_type": "code",
   "execution_count": null,
   "metadata": {},
   "outputs": [],
   "source": []
  }
 ],
 "metadata": {
  "kernelspec": {
   "display_name": "Python 3",
   "language": "python",
   "name": "python3"
  },
  "language_info": {
   "codemirror_mode": {
    "name": "ipython",
    "version": 3
   },
   "file_extension": ".py",
   "mimetype": "text/x-python",
   "name": "python",
   "nbconvert_exporter": "python",
   "pygments_lexer": "ipython3",
   "version": "3.6.8"
  }
 },
 "nbformat": 4,
 "nbformat_minor": 2
}
