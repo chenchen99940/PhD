{
 "cells": [
  {
   "cell_type": "code",
   "execution_count": 1,
   "metadata": {},
   "outputs": [],
   "source": [
    "import numpy as np\n",
    "import matplotlib.pyplot as plt\n",
    "%matplotlib inline\n",
    "from math import exp;\n",
    "\n",
    "def C(j,J,x):\n",
    "    cost = (2+14*j/J)*x*x;\n",
    "    \n",
    "    return cost;\n",
    "\n",
    "def R(j,J,x):\n",
    "    resource = 1-exp(-((x+20*j/J)/10));\n",
    "\n",
    "    return resource;\n",
    "    \n",
    "\n",
    "def CD(j,J,x):\n",
    "    if x > 0:\n",
    "        c=0;\n",
    "        for i in range(x):\n",
    "            c += C(j,J,i);\n",
    "    \n",
    "        return c/x;\n",
    "    elif x == 0:\n",
    "        return 0;\n",
    "\n",
    "def RD(j,J,x,p):\n",
    "    if x > 0:\n",
    "        return p*R(j,J,x)/x;\n",
    "    \n",
    "    elif x == 0:\n",
    "        return 0;\n",
    "\n",
    "def W(j,J,x,p):\n",
    "    if x > 0:    \n",
    "        WhittleIndex = (CD(j,J,x+1)-CD(j,J,x))/(RD(j,J,x,p)-RD(j,J,x+1,p)); \n",
    "    elif x == 0:\n",
    "        WhittleIndex = -10000;\n",
    "    \n",
    "    return WhittleIndex;\n"
   ]
  },
  {
   "cell_type": "code",
   "execution_count": 2,
   "metadata": {},
   "outputs": [
    {
     "name": "stdout",
     "output_type": "stream",
     "text": [
      "245.38897835906417\n",
      "29.025690433033894\n",
      "20.021759624217687\n",
      "17.133197299801534\n",
      "15.884819964578105\n",
      "15.317525546357512\n",
      "15.101967968374474\n",
      "15.094486287867412\n",
      "15.222343065280675\n",
      "15.444705704039604\n",
      "15.73682874467096\n",
      "16.082794030312474\n",
      "16.47185425529091\n",
      "16.896453125856215\n",
      "17.351089255724997\n",
      "17.831632433233587\n",
      "18.334895463765598\n",
      "18.85835690075163\n",
      "19.39997626551515\n",
      "19.958067822914433\n"
     ]
    }
   ],
   "source": [
    "J=20;\n",
    "for j in range(20):\n",
    "    print(W(j,20,1,0.9));"
   ]
  },
  {
   "cell_type": "code",
   "execution_count": 4,
   "metadata": {},
   "outputs": [
    {
     "name": "stdout",
     "output_type": "stream",
     "text": [
      "10\n"
     ]
    }
   ],
   "source": [
    "def permutation_indices(data):\n",
    "     return sorted(range(len(data)), key = lambda k:data[k])\n",
    "\n",
    "N = [2,3,1,4,5,7,9,0,6,8,14,13,7];\n",
    "M = permutation_indices(N);\n",
    "print(M[len(N)-1]);"
   ]
  },
  {
   "cell_type": "code",
   "execution_count": 5,
   "metadata": {},
   "outputs": [],
   "source": [
    "def update(J,Resource,S,p):\n",
    "    WL = [0.]*J;\n",
    "    Y = [0.]*J;\n",
    "    Z = [0.]*J;\n",
    "    Cost_vector = [0.]*J;\n",
    "    Resource_vector = [0.]*J;\n",
    "    Action = [0]*J;\n",
    "    Threshold = Resource;\n",
    "    Seed = np.random.rand(J);\n",
    "    total_cost = 0;\n",
    "    \n",
    "    for j in range(J):\n",
    "        WL[j]= W(j,J,S[j],p);\n",
    "        Cost_vector[j]= C(j,J,S[j]);\n",
    "        Resource_vector[j]= R(j,J,S[j]);\n",
    "        \n",
    "   \n",
    "\n",
    "   \n",
    "  \n",
    "    Y = permutation_indices(WL);\n",
    "    Z = permutation_indices(Resource_vector);\n",
    "    ind = 1;\n",
    "   \n",
    "    \n",
    "    while Threshold > 0:\n",
    "       \n",
    "        Position = Y[len(Y)-ind];\n",
    "        Resource_left = Threshold;\n",
    "        Threshold -= Resource_vector[Position];\n",
    "        \n",
    "        if Threshold > 0:\n",
    "            Action[Position] = 1;\n",
    "            ind += 1;\n",
    "   \n",
    "    Last_hope = 0;\n",
    "    counter = 0;\n",
    "    \n",
    "    while Resource_left > 0:\n",
    "        Place = Z[Last_hope];\n",
    "        if Action[Place] == 1:\n",
    "            Last_hope += 1;\n",
    "        else:\n",
    "            Resource_left -= Resource_vector[Place];\n",
    "            if Resource_left > 0:\n",
    "                Action[Place] = 1;\n",
    "                Last_hope += 1;\n",
    "               \n",
    "                counter += 1;\n",
    "          \n",
    "                \n",
    "        \n",
    "   \n",
    "    for j in range(J):\n",
    "        \n",
    "        if Action[j]==0:\n",
    "            total_cost += C(j,J,S[j]);\n",
    "            S[j] += int((Seed[j]<p)==True);\n",
    "            \n",
    "        else:\n",
    "            S[j] = int((Seed[j]<p)==True);\n",
    "\n",
    "    \n",
    "   \n",
    "    return total_cost;\n",
    "     \n",
    "               "
   ]
  },
  {
   "cell_type": "code",
   "execution_count": 6,
   "metadata": {},
   "outputs": [
    {
     "name": "stdout",
     "output_type": "stream",
     "text": [
      "0.09516258196404048\n",
      "0.2591817793182821\n",
      "0.3934693402873666\n",
      "0.5034146962085905\n",
      "0.5934303402594009\n",
      "0.6671289163019205\n",
      "0.7274682069659875\n",
      "0.7768698398515702\n",
      "0.8173164759472653\n",
      "0.8504313807773649\n"
     ]
    }
   ],
   "source": [
    "for i in range(10):\n",
    "    print(R(i,10,1));"
   ]
  },
  {
   "cell_type": "code",
   "execution_count": 7,
   "metadata": {},
   "outputs": [],
   "source": [
    "update(10,2,[1]*10,0.9);"
   ]
  },
  {
   "cell_type": "code",
   "execution_count": 8,
   "metadata": {},
   "outputs": [],
   "source": [
    "def one_trial(J,Resource,S,p,timesteps):\n",
    "    Total_cost = 0;\n",
    "    for i in range(timesteps):\n",
    "        Total_cost += update(J,Resource,S,p);\n",
    "    \n",
    "    return Total_cost;"
   ]
  },
  {
   "cell_type": "code",
   "execution_count": 9,
   "metadata": {},
   "outputs": [],
   "source": [
    "one_trial(10,2.,[2]*10,0.9,5);"
   ]
  },
  {
   "cell_type": "code",
   "execution_count": 10,
   "metadata": {},
   "outputs": [],
   "source": [
    "import copy;\n",
    "def mc(J,Resource,S,p,timesteps,ntrials):\n",
    "    Cost = 0;\n",
    "    \n",
    "    for i in range(ntrials):\n",
    "        \n",
    "        SS = copy.deepcopy(S);\n",
    "        One_time_cost = one_trial(J,Resource,SS,p,timesteps);\n",
    "        \n",
    "        Cost += One_time_cost;\n",
    "        \n",
    "    Average_cost = Cost/(ntrials*timesteps);\n",
    "    \n",
    "    print(Average_cost);\n",
    "        "
   ]
  },
  {
   "cell_type": "code",
   "execution_count": 29,
   "metadata": {},
   "outputs": [
    {
     "name": "stdout",
     "output_type": "stream",
     "text": [
      "204.6544989999999\n"
     ]
    }
   ],
   "source": [
    "mc(10,2,[1]*10,0.9,2000,100);\n",
    "\n",
    "#The lowerbound is 127.92\n",
    "#State greedy + Resource greedy is 203.65"
   ]
  },
  {
   "cell_type": "code",
   "execution_count": 58,
   "metadata": {},
   "outputs": [
    {
     "name": "stdout",
     "output_type": "stream",
     "text": [
      "59.201063164477794\n",
      "59.982801751094435\n"
     ]
    }
   ],
   "source": [
    "print(100*(203.65-127.92)/127.92);\n",
    "print(100*(204.65-127.92)/127.92);"
   ]
  },
  {
   "cell_type": "code",
   "execution_count": 30,
   "metadata": {},
   "outputs": [
    {
     "name": "stdout",
     "output_type": "stream",
     "text": [
      "887.857668\n"
     ]
    }
   ],
   "source": [
    "mc(20,3,[1]*20,0.9,2000,100);\n",
    "\n",
    "#The lowerbound is 696.57\n",
    "#State greedy + Resource greedy is 890.27"
   ]
  },
  {
   "cell_type": "code",
   "execution_count": 59,
   "metadata": {},
   "outputs": [
    {
     "name": "stdout",
     "output_type": "stream",
     "text": [
      "27.807686233975037\n",
      "27.37700446473433\n"
     ]
    }
   ],
   "source": [
    "print(100*(890.27-696.57)/696.57);\n",
    "print(100*(887.27-696.57)/696.57);"
   ]
  },
  {
   "cell_type": "code",
   "execution_count": 31,
   "metadata": {},
   "outputs": [
    {
     "name": "stdout",
     "output_type": "stream",
     "text": [
      "888.6668990000002\n"
     ]
    }
   ],
   "source": [
    "mc(30,5,[1]*30,0.9,2000,100);\n",
    "\n",
    "#The lowerbound is 800.05\n",
    "#State greedy + Resource greedy is 887.88"
   ]
  },
  {
   "cell_type": "code",
   "execution_count": 60,
   "metadata": {},
   "outputs": [
    {
     "name": "stdout",
     "output_type": "stream",
     "text": [
      "10.978063871008068\n",
      "11.076807699518781\n"
     ]
    }
   ],
   "source": [
    "print(100*(887.88-800.05)/800.05);\n",
    "print(100*(888.67-800.05)/800.05);"
   ]
  },
  {
   "cell_type": "code",
   "execution_count": 32,
   "metadata": {},
   "outputs": [
    {
     "name": "stdout",
     "output_type": "stream",
     "text": [
      "1023.4769257500001\n"
     ]
    }
   ],
   "source": [
    "mc(40,7,[1]*40,0.9,2000,100);\n",
    "\n",
    "#The lowerbound is 951.18\n",
    "#State greedy + Resource greedy is 1025.78"
   ]
  },
  {
   "cell_type": "code",
   "execution_count": 61,
   "metadata": {},
   "outputs": [
    {
     "name": "stdout",
     "output_type": "stream",
     "text": [
      "7.842889884143908\n",
      "7.601084968144838\n"
     ]
    }
   ],
   "source": [
    "print(100*(1025.78-951.18)/951.18);\n",
    "print(100*(1023.48-951.18)/951.18);"
   ]
  },
  {
   "cell_type": "code",
   "execution_count": 33,
   "metadata": {},
   "outputs": [
    {
     "name": "stdout",
     "output_type": "stream",
     "text": [
      "1172.3964492000007\n"
     ]
    }
   ],
   "source": [
    "mc(50,9,[1]*50,0.9,2000,100);\n",
    "\n",
    "#The lowerbound is 1107.24\n",
    "#State greedy + Resource greedy is 1176.41"
   ]
  },
  {
   "cell_type": "code",
   "execution_count": 62,
   "metadata": {},
   "outputs": [
    {
     "name": "stdout",
     "output_type": "stream",
     "text": [
      "6.247064773671478\n",
      "5.884903002059182\n"
     ]
    }
   ],
   "source": [
    "print(100*(1176.41-1107.24)/1107.24);\n",
    "print(100*(1172.40-1107.24)/1107.24);"
   ]
  },
  {
   "cell_type": "code",
   "execution_count": 34,
   "metadata": {},
   "outputs": [
    {
     "name": "stdout",
     "output_type": "stream",
     "text": [
      "1323.9709073333331\n"
     ]
    }
   ],
   "source": [
    "mc(60,11,[1]*60,0.9,2000,100);\n",
    "\n",
    "#The lowerbound is 1265.67\n",
    "#State greedy + Resource greedy is 1329.84"
   ]
  },
  {
   "cell_type": "code",
   "execution_count": 63,
   "metadata": {},
   "outputs": [
    {
     "name": "stdout",
     "output_type": "stream",
     "text": [
      "5.070041954063843\n",
      "4.6062559750961904\n"
     ]
    }
   ],
   "source": [
    "print(100*(1329.84-1265.67)/1265.67);\n",
    "print(100*(1323.97-1265.67)/1265.67);"
   ]
  },
  {
   "cell_type": "code",
   "execution_count": 35,
   "metadata": {},
   "outputs": [
    {
     "name": "stdout",
     "output_type": "stream",
     "text": [
      "1480.8264739999997\n"
     ]
    }
   ],
   "source": [
    "mc(70,13,[1]*70,0.9,2000,100);\n",
    "\n",
    "#The lowerbound is 1425.42\n",
    "#State greedy + Resource greedy is 1489.22"
   ]
  },
  {
   "cell_type": "code",
   "execution_count": 64,
   "metadata": {},
   "outputs": [
    {
     "name": "stdout",
     "output_type": "stream",
     "text": [
      "4.4758737775532795\n",
      "3.8872753293765943\n"
     ]
    }
   ],
   "source": [
    "print(100*(1489.22-1425.42)/1425.42);\n",
    "print(100*(1480.83-1425.42)/1425.42);"
   ]
  },
  {
   "cell_type": "code",
   "execution_count": 36,
   "metadata": {},
   "outputs": [
    {
     "name": "stdout",
     "output_type": "stream",
     "text": [
      "2016.8769610000002\n"
     ]
    }
   ],
   "source": [
    "mc(80,14,[1]*80,0.9,2000,100);\n",
    "\n",
    "#The lowerbound is 1952.46\n",
    "#State greedy + Resource greedy is 2023.32"
   ]
  },
  {
   "cell_type": "code",
   "execution_count": 66,
   "metadata": {},
   "outputs": [
    {
     "name": "stdout",
     "output_type": "stream",
     "text": [
      "3.629267693064129\n",
      "3.2994273890374233\n"
     ]
    }
   ],
   "source": [
    "print(100*(2023.32-1952.46)/1952.46);\n",
    "print(100*(2016.88-1952.46)/1952.46);"
   ]
  },
  {
   "cell_type": "code",
   "execution_count": 37,
   "metadata": {},
   "outputs": [
    {
     "name": "stdout",
     "output_type": "stream",
     "text": [
      "2167.7533537777776\n"
     ]
    }
   ],
   "source": [
    "mc(90,16,[1]*90,0.9,2000,100);\n",
    "\n",
    "#The lowerbound is 2106.81\n",
    "#State greedy + Resource greedy is 2177.23"
   ]
  },
  {
   "cell_type": "code",
   "execution_count": 67,
   "metadata": {},
   "outputs": [
    {
     "name": "stdout",
     "output_type": "stream",
     "text": [
      "3.342494102458222\n",
      "2.892524717463846\n"
     ]
    }
   ],
   "source": [
    "print(100*(2177.23-2106.81)/2106.81);\n",
    "print(100*(2167.75-2106.81)/2106.81);"
   ]
  },
  {
   "cell_type": "code",
   "execution_count": 38,
   "metadata": {},
   "outputs": [
    {
     "name": "stdout",
     "output_type": "stream",
     "text": [
      "2319.4309316999997\n"
     ]
    }
   ],
   "source": [
    "mc(100,18,[1]*100,0.9,2000,100);\n",
    "\n",
    "#The lowerbound is 2262.94\n",
    "#State greedy + Resource greedy is 2331.09"
   ]
  },
  {
   "cell_type": "code",
   "execution_count": 68,
   "metadata": {},
   "outputs": [
    {
     "name": "stdout",
     "output_type": "stream",
     "text": [
      "3.011569020831312\n",
      "2.496310109857079\n"
     ]
    }
   ],
   "source": [
    "print(100*(2331.09-2262.94)/2262.94);\n",
    "print(100*(2319.43-2262.94)/2262.94);"
   ]
  },
  {
   "cell_type": "code",
   "execution_count": 39,
   "metadata": {},
   "outputs": [
    {
     "name": "stdout",
     "output_type": "stream",
     "text": [
      "3014.5889678333347\n"
     ]
    }
   ],
   "source": [
    "mc(120,21,[1]*120,0.9,2000,100);\n",
    "\n",
    "#The lowerbound is 2953.74\n",
    "#State greedy + Resource greedy is 3024.69"
   ]
  },
  {
   "cell_type": "code",
   "execution_count": 69,
   "metadata": {},
   "outputs": [
    {
     "name": "stdout",
     "output_type": "stream",
     "text": [
      "2.4020394482926823\n",
      "2.0601000765131787\n"
     ]
    }
   ],
   "source": [
    "print(100*(3024.69-2953.74)/2953.74);\n",
    "print(100*(3014.59-2953.74)/2953.74);"
   ]
  },
  {
   "cell_type": "code",
   "execution_count": 40,
   "metadata": {},
   "outputs": [
    {
     "name": "stdout",
     "output_type": "stream",
     "text": [
      "3716.6637580000006\n"
     ]
    }
   ],
   "source": [
    "mc(140,24,[1]*140,0.9,2000,100);\n",
    "\n",
    "#The lowerbound is 3652.81\n",
    "#State greedy + Resource greedy is 3726.46"
   ]
  },
  {
   "cell_type": "code",
   "execution_count": 70,
   "metadata": {},
   "outputs": [
    {
     "name": "stdout",
     "output_type": "stream",
     "text": [
      "2.0162559782742626\n",
      "1.7479693715249331\n"
     ]
    }
   ],
   "source": [
    "print(100*(3726.46-3652.81)/3652.81);\n",
    "print(100*(3716.66-3652.81)/3652.81);"
   ]
  },
  {
   "cell_type": "code",
   "execution_count": 41,
   "metadata": {},
   "outputs": [
    {
     "name": "stdout",
     "output_type": "stream",
     "text": [
      "5011.8731306499985\n"
     ]
    }
   ],
   "source": [
    "mc(200,35,[1]*200,0.9,2000,100);\n",
    "\n",
    "#The lowerbound is 4956.06\n",
    "#State greedy + Resource greedy is 5032.00"
   ]
  },
  {
   "cell_type": "code",
   "execution_count": 71,
   "metadata": {},
   "outputs": [
    {
     "name": "stdout",
     "output_type": "stream",
     "text": [
      "1.5322655496503188\n",
      "1.1260961328151695\n"
     ]
    }
   ],
   "source": [
    "print(100*(5032.00-4956.06)/4956.06);\n",
    "print(100*(5011.87-4956.06)/4956.06);"
   ]
  },
  {
   "cell_type": "code",
   "execution_count": 47,
   "metadata": {},
   "outputs": [
    {
     "name": "stdout",
     "output_type": "stream",
     "text": [
      "8154.347405175002\n"
     ]
    }
   ],
   "source": [
    "mc(400,75,[1]*400,0.9,2000,100);\n",
    "\n",
    "#The lowerbound is 8112.51\n",
    "#State greedy + Resource greedy is 8213.70"
   ]
  },
  {
   "cell_type": "code",
   "execution_count": 72,
   "metadata": {},
   "outputs": [
    {
     "name": "stdout",
     "output_type": "stream",
     "text": [
      "1.247332823010394\n",
      "0.5156234013887185\n"
     ]
    }
   ],
   "source": [
    "print(100*(8213.70-8112.51)/8112.51);\n",
    "print(100*(8154.34-8112.51)/8112.51);"
   ]
  },
  {
   "cell_type": "code",
   "execution_count": 51,
   "metadata": {},
   "outputs": [
    {
     "name": "stdout",
     "output_type": "stream",
     "text": [
      "13123.577979966663\n"
     ]
    }
   ],
   "source": [
    "mc(600,110,[1]*600,0.9,2000,100);\n",
    "\n",
    "#The lowerbound is 13081.21\n",
    "#State greedy + Resource greedy is 13200.42"
   ]
  },
  {
   "cell_type": "code",
   "execution_count": 73,
   "metadata": {},
   "outputs": [
    {
     "name": "stdout",
     "output_type": "stream",
     "text": [
      "0.9113071344317609\n",
      "0.3238997004099835\n"
     ]
    }
   ],
   "source": [
    "print(100*(13200.42-13081.21)/13081.21);\n",
    "print(100*(13123.58-13081.21)/13081.21);"
   ]
  },
  {
   "cell_type": "code",
   "execution_count": 52,
   "metadata": {},
   "outputs": [
    {
     "name": "stdout",
     "output_type": "stream",
     "text": [
      "16310.295263375\n"
     ]
    }
   ],
   "source": [
    "mc(800,150,[1]*800,0.9,2000,100);\n",
    "\n",
    "#The lowerbound is 16270.80\n",
    "#State greedy + Resource greedy is 16425.40"
   ]
  },
  {
   "cell_type": "code",
   "execution_count": 74,
   "metadata": {},
   "outputs": [
    {
     "name": "stdout",
     "output_type": "stream",
     "text": [
      "0.9501683998328428\n",
      "0.2427661823634978\n"
     ]
    }
   ],
   "source": [
    "print(100*(16425.40-16270.80)/16270.80);\n",
    "print(100*(16310.30-16270.80)/16270.80);"
   ]
  },
  {
   "cell_type": "code",
   "execution_count": 53,
   "metadata": {},
   "outputs": [
    {
     "name": "stdout",
     "output_type": "stream",
     "text": [
      "19524.51180943\n"
     ]
    }
   ],
   "source": [
    "mc(1000,190,[1]*1000,0.9,2000,100);\n",
    "\n",
    "#The lowerbound is 19486.37\n",
    "#State greedy + Resource greedy is 19689.83"
   ]
  },
  {
   "cell_type": "code",
   "execution_count": 75,
   "metadata": {},
   "outputs": [
    {
     "name": "stdout",
     "output_type": "stream",
     "text": [
      "1.044114424595257\n",
      "0.19572655143056106\n"
     ]
    }
   ],
   "source": [
    "print(100*(19689.83-19486.37)/19486.37);\n",
    "print(100*(19524.51-19486.37)/19486.37);"
   ]
  },
  {
   "cell_type": "code",
   "execution_count": 11,
   "metadata": {},
   "outputs": [
    {
     "name": "stdout",
     "output_type": "stream",
     "text": [
      "31005.71901937334\n"
     ]
    }
   ],
   "source": [
    "mc(1500,280,[1]*1500,0.9,1000,100);\n",
    "\n",
    "#The lowerbound is 30986.17\n",
    "#State greedy + Resource greedy is 31227.39"
   ]
  },
  {
   "cell_type": "code",
   "execution_count": 17,
   "metadata": {},
   "outputs": [
    {
     "name": "stdout",
     "output_type": "stream",
     "text": [
      "0.7784763331512129\n",
      "0.0630926635979952\n"
     ]
    }
   ],
   "source": [
    "print(100*(31227.39-30986.17)/30986.17);\n",
    "print(100*(31005.72-30986.17)/30986.17);"
   ]
  },
  {
   "cell_type": "code",
   "execution_count": 12,
   "metadata": {},
   "outputs": [],
   "source": [
    "def CL(j,J,W,p):\n",
    "    c = CD(j,J,1)+W*RD(j,J,1,p)+1;\n",
    "    \n",
    "    for i in range(100):\n",
    "        calculate = CD(j,J,i)+W*RD(j,J,i,p);\n",
    "        if calculate < c and calculate > 0:\n",
    "            c = calculate;\n",
    "        \n",
    "    return c;"
   ]
  },
  {
   "cell_type": "code",
   "execution_count": 160,
   "metadata": {},
   "outputs": [
    {
     "name": "stdout",
     "output_type": "stream",
     "text": [
      "69.56011552244905\n"
     ]
    }
   ],
   "source": [
    "print(CL(5,10,250,0.9));"
   ]
  },
  {
   "cell_type": "code",
   "execution_count": 13,
   "metadata": {},
   "outputs": [],
   "source": [
    "def LLB(W,Resource,J,p):\n",
    "    l = 0;\n",
    "    for i in range(J):\n",
    "        l += CL(i,J,W,p);\n",
    "    lowerbound = l - W*Resource;\n",
    "    \n",
    "    return lowerbound;\n",
    "\n",
    "    "
   ]
  },
  {
   "cell_type": "code",
   "execution_count": 157,
   "metadata": {},
   "outputs": [],
   "source": []
  },
  {
   "cell_type": "code",
   "execution_count": 14,
   "metadata": {},
   "outputs": [],
   "source": [
    "def lb(Resource,J,p):\n",
    "    L = [0.]*2000;\n",
    "    for i in range(2000):\n",
    "        L[i] = LLB(i,Resource,J,p);\n",
    "    \n",
    "    lb = max(L);\n",
    "    print(lb);\n",
    "      \n"
   ]
  },
  {
   "cell_type": "code",
   "execution_count": 163,
   "metadata": {},
   "outputs": [
    {
     "name": "stdout",
     "output_type": "stream",
     "text": [
      "127.90323438095169\n"
     ]
    }
   ],
   "source": [
    "lb(2.,10,0.9);"
   ]
  },
  {
   "cell_type": "code",
   "execution_count": 164,
   "metadata": {},
   "outputs": [
    {
     "name": "stdout",
     "output_type": "stream",
     "text": [
      "696.5734966701302\n"
     ]
    }
   ],
   "source": [
    "lb(3.,20,0.9);"
   ]
  },
  {
   "cell_type": "code",
   "execution_count": 165,
   "metadata": {},
   "outputs": [
    {
     "name": "stdout",
     "output_type": "stream",
     "text": [
      "800.0459873973396\n"
     ]
    }
   ],
   "source": [
    "lb(5.,30,0.9);"
   ]
  },
  {
   "cell_type": "code",
   "execution_count": 166,
   "metadata": {},
   "outputs": [
    {
     "name": "stdout",
     "output_type": "stream",
     "text": [
      "951.1773988918603\n"
     ]
    }
   ],
   "source": [
    "lb(7.,40,0.9);"
   ]
  },
  {
   "cell_type": "code",
   "execution_count": 167,
   "metadata": {},
   "outputs": [
    {
     "name": "stdout",
     "output_type": "stream",
     "text": [
      "1107.2350572425066\n"
     ]
    }
   ],
   "source": [
    "lb(9.,50,0.9);"
   ]
  },
  {
   "cell_type": "code",
   "execution_count": 168,
   "metadata": {},
   "outputs": [
    {
     "name": "stdout",
     "output_type": "stream",
     "text": [
      "1265.6695006483042\n"
     ]
    }
   ],
   "source": [
    "lb(11.,60,0.9);"
   ]
  },
  {
   "cell_type": "code",
   "execution_count": 169,
   "metadata": {},
   "outputs": [
    {
     "name": "stdout",
     "output_type": "stream",
     "text": [
      "1425.4236561747584\n"
     ]
    }
   ],
   "source": [
    "lb(13.,70,0.9);"
   ]
  },
  {
   "cell_type": "code",
   "execution_count": 170,
   "metadata": {},
   "outputs": [
    {
     "name": "stdout",
     "output_type": "stream",
     "text": [
      "1952.4644664271655\n"
     ]
    }
   ],
   "source": [
    "lb(14.,80,0.9);"
   ]
  },
  {
   "cell_type": "code",
   "execution_count": 171,
   "metadata": {},
   "outputs": [
    {
     "name": "stdout",
     "output_type": "stream",
     "text": [
      "2106.811367753294\n"
     ]
    }
   ],
   "source": [
    "lb(16.,90,0.9);"
   ]
  },
  {
   "cell_type": "code",
   "execution_count": 172,
   "metadata": {},
   "outputs": [
    {
     "name": "stdout",
     "output_type": "stream",
     "text": [
      "2262.9415782922897\n"
     ]
    }
   ],
   "source": [
    "lb(18.,100,0.9);"
   ]
  },
  {
   "cell_type": "code",
   "execution_count": 173,
   "metadata": {},
   "outputs": [
    {
     "name": "stdout",
     "output_type": "stream",
     "text": [
      "2953.7391336752935\n"
     ]
    }
   ],
   "source": [
    "lb(21.,120,0.9);"
   ]
  },
  {
   "cell_type": "code",
   "execution_count": 174,
   "metadata": {},
   "outputs": [
    {
     "name": "stdout",
     "output_type": "stream",
     "text": [
      "3652.812826462454\n"
     ]
    }
   ],
   "source": [
    "lb(24.,140,0.9);"
   ]
  },
  {
   "cell_type": "code",
   "execution_count": 175,
   "metadata": {},
   "outputs": [
    {
     "name": "stdout",
     "output_type": "stream",
     "text": [
      "4956.062816006448\n"
     ]
    }
   ],
   "source": [
    "lb(35.,200,0.9);"
   ]
  },
  {
   "cell_type": "code",
   "execution_count": 46,
   "metadata": {},
   "outputs": [
    {
     "name": "stdout",
     "output_type": "stream",
     "text": [
      "8112.51167541516\n"
     ]
    }
   ],
   "source": [
    "lb(75.,400,0.9);"
   ]
  },
  {
   "cell_type": "code",
   "execution_count": 48,
   "metadata": {},
   "outputs": [
    {
     "name": "stdout",
     "output_type": "stream",
     "text": [
      "13081.210007230264\n"
     ]
    }
   ],
   "source": [
    "lb(110.,600,0.9);"
   ]
  },
  {
   "cell_type": "code",
   "execution_count": 49,
   "metadata": {},
   "outputs": [
    {
     "name": "stdout",
     "output_type": "stream",
     "text": [
      "16270.795245806454\n"
     ]
    }
   ],
   "source": [
    "lb(150.,800,0.9);"
   ]
  },
  {
   "cell_type": "code",
   "execution_count": 50,
   "metadata": {},
   "outputs": [
    {
     "name": "stdout",
     "output_type": "stream",
     "text": [
      "19486.374251994566\n"
     ]
    }
   ],
   "source": [
    "lb(190.,1000,0.9);"
   ]
  },
  {
   "cell_type": "code",
   "execution_count": 15,
   "metadata": {},
   "outputs": [
    {
     "name": "stdout",
     "output_type": "stream",
     "text": [
      "30986.167373850752\n"
     ]
    }
   ],
   "source": [
    "lb(280.,1500,0.9);"
   ]
  },
  {
   "cell_type": "code",
   "execution_count": null,
   "metadata": {},
   "outputs": [],
   "source": []
  }
 ],
 "metadata": {
  "kernelspec": {
   "display_name": "Python 3",
   "language": "python",
   "name": "python3"
  },
  "language_info": {
   "codemirror_mode": {
    "name": "ipython",
    "version": 3
   },
   "file_extension": ".py",
   "mimetype": "text/x-python",
   "name": "python",
   "nbconvert_exporter": "python",
   "pygments_lexer": "ipython3",
   "version": "3.7.3"
  }
 },
 "nbformat": 4,
 "nbformat_minor": 2
}
