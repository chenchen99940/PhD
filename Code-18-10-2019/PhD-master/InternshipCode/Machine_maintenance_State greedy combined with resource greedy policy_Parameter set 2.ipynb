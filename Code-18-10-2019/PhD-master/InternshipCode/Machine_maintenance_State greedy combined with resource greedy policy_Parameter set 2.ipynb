{
 "cells": [
  {
   "cell_type": "code",
   "execution_count": 1,
   "metadata": {},
   "outputs": [],
   "source": [
    "import numpy as np\n",
    "import matplotlib.pyplot as plt\n",
    "%matplotlib inline\n",
    "from math import exp;\n",
    "\n",
    "def C(j,J,x):\n",
    "    cost = (2+14*j/J)*x*x;\n",
    "    \n",
    "    return cost;\n",
    "\n",
    "def R(j,J,x):\n",
    "    resource = 1-exp(-((x+20*j/J)/10));\n",
    "\n",
    "    return resource;\n",
    "    \n",
    "\n",
    "def CD(j,J,x):\n",
    "    if x > 0:\n",
    "        c=0;\n",
    "        for i in range(x):\n",
    "            c += C(j,J,i);\n",
    "    \n",
    "        return c/x;\n",
    "    elif x == 0:\n",
    "        return 0;\n",
    "\n",
    "def RD(j,J,x,p):\n",
    "    if x > 0:\n",
    "        return p*R(j,J,x)/x;\n",
    "    \n",
    "    elif x == 0:\n",
    "        return 0;\n",
    "\n",
    "def W(j,J,x,p):\n",
    "    if x>0:    \n",
    "        WhittleIndex = (CD(j,J,x+1)-CD(j,J,x))/(RD(j,J,x,p)-RD(j,J,x+1,p)); \n",
    "    elif x ==0:\n",
    "        WhittleIndex =0;\n",
    "    \n",
    "    return WhittleIndex;\n"
   ]
  },
  {
   "cell_type": "code",
   "execution_count": 2,
   "metadata": {},
   "outputs": [
    {
     "name": "stdout",
     "output_type": "stream",
     "text": [
      "245.38897835906417\n",
      "29.025690433033894\n",
      "20.021759624217687\n",
      "17.133197299801534\n",
      "15.884819964578105\n",
      "15.317525546357512\n",
      "15.101967968374474\n",
      "15.094486287867412\n",
      "15.222343065280675\n",
      "15.444705704039604\n",
      "15.73682874467096\n",
      "16.082794030312474\n",
      "16.47185425529091\n",
      "16.896453125856215\n",
      "17.351089255724997\n",
      "17.831632433233587\n",
      "18.334895463765598\n",
      "18.85835690075163\n",
      "19.39997626551515\n",
      "19.958067822914433\n"
     ]
    }
   ],
   "source": [
    "J=20;\n",
    "for j in range(20):\n",
    "    print(W(j,20,1,0.9));"
   ]
  },
  {
   "cell_type": "code",
   "execution_count": 4,
   "metadata": {},
   "outputs": [
    {
     "name": "stdout",
     "output_type": "stream",
     "text": [
      "10\n"
     ]
    }
   ],
   "source": [
    "def permutation_indices(data):\n",
    "     return sorted(range(len(data)), key = lambda k:data[k])\n",
    "\n",
    "N = [2,3,1,4,5,7,9,0,6,8,14,13,7];\n",
    "M = permutation_indices(N);\n",
    "print(M[len(N)-1]);"
   ]
  },
  {
   "cell_type": "code",
   "execution_count": 5,
   "metadata": {},
   "outputs": [],
   "source": [
    "def update(J,Resource,S,p):\n",
    "    WL = [0.]*J;\n",
    "    Y = [0]*J;\n",
    "    Z = [0.]*J;\n",
    "    Cost_vector = [0.]*J;\n",
    "    Resource_vector = [0.]*J;\n",
    "    Action = [0]*J;\n",
    "    Threshold = Resource;\n",
    "    Seed = np.random.rand(J);\n",
    "    total_cost = 0;\n",
    "    \n",
    "    for j in range(J):\n",
    "        Cost_vector[j]= C(j,J,S[j]);\n",
    "        Resource_vector[j]= R(j,J,S[j]);\n",
    "        \n",
    "   \n",
    "\n",
    "   \n",
    "  \n",
    "    Y = permutation_indices(S);\n",
    "    Z = permutation_indices(Resource_vector);\n",
    "    ind = 1;\n",
    "   \n",
    "    \n",
    "    while Threshold > 0:\n",
    "       \n",
    "        Position = Y[len(Y)-ind];\n",
    "        Resource_left = Threshold;\n",
    "        Threshold -= Resource_vector[Position];\n",
    "        \n",
    "        if Threshold > 0:\n",
    "            Action[Position] = 1;\n",
    "            ind += 1;\n",
    "   \n",
    "    Last_hope = 0;\n",
    "   \n",
    "    \n",
    "    while Resource_left > 0:\n",
    "        Place = Z[Last_hope];\n",
    "        if Action[Place] == 1:\n",
    "            Last_hope += 1;\n",
    "        else:\n",
    "            Resource_left -= Resource_vector[Place];\n",
    "            if Resource_left > 0:\n",
    "                Action[Place] = 1;\n",
    "                Last_hope += 1;\n",
    "               \n",
    "               \n",
    "          \n",
    "    for j in range(J):\n",
    "        \n",
    "        if Action[j]==0:\n",
    "            total_cost += C(j,J,S[j]);\n",
    "            S[j] += int((Seed[j]<p)==True);\n",
    "            \n",
    "        else:\n",
    "            S[j] = int((Seed[j]<p)==True);\n",
    "\n",
    "    \n",
    "   \n",
    "    return total_cost;\n",
    "     \n",
    "               "
   ]
  },
  {
   "cell_type": "code",
   "execution_count": 6,
   "metadata": {},
   "outputs": [
    {
     "name": "stdout",
     "output_type": "stream",
     "text": [
      "0.09516258196404048\n",
      "0.2591817793182821\n",
      "0.3934693402873666\n",
      "0.5034146962085905\n",
      "0.5934303402594009\n",
      "0.6671289163019205\n",
      "0.7274682069659875\n",
      "0.7768698398515702\n",
      "0.8173164759472653\n",
      "0.8504313807773649\n"
     ]
    }
   ],
   "source": [
    "for i in range(10):\n",
    "    print(R(i,10,1));"
   ]
  },
  {
   "cell_type": "code",
   "execution_count": 7,
   "metadata": {},
   "outputs": [],
   "source": [
    "update(10,2,[1]*10,0.9);"
   ]
  },
  {
   "cell_type": "code",
   "execution_count": 8,
   "metadata": {},
   "outputs": [],
   "source": [
    "def one_trial(J,Resource,S,p,timesteps):\n",
    "    Total_cost = 0;\n",
    "    for i in range(timesteps):\n",
    "        Total_cost += update(J,Resource,S,p);\n",
    "    \n",
    "    return Total_cost;"
   ]
  },
  {
   "cell_type": "code",
   "execution_count": 9,
   "metadata": {},
   "outputs": [],
   "source": [
    "one_trial(10,2.,[2]*10,0.9,5);"
   ]
  },
  {
   "cell_type": "code",
   "execution_count": 10,
   "metadata": {},
   "outputs": [],
   "source": [
    "import copy;\n",
    "def mc(J,Resource,S,p,timesteps,ntrials):\n",
    "    Cost = 0;\n",
    "    \n",
    "    for i in range(ntrials):\n",
    "        \n",
    "        SS = copy.deepcopy(S);\n",
    "        One_time_cost = one_trial(J,Resource,SS,p,timesteps);\n",
    "        \n",
    "        Cost += One_time_cost;\n",
    "        \n",
    "    Average_cost = Cost/(ntrials*timesteps);\n",
    "    \n",
    "    print(Average_cost);\n",
    "        "
   ]
  },
  {
   "cell_type": "code",
   "execution_count": 8,
   "metadata": {},
   "outputs": [
    {
     "name": "stdout",
     "output_type": "stream",
     "text": [
      "203.65156299999998\n"
     ]
    }
   ],
   "source": [
    "mc(10,2,[1]*10,0.9,2000,100);"
   ]
  },
  {
   "cell_type": "code",
   "execution_count": 9,
   "metadata": {},
   "outputs": [
    {
     "name": "stdout",
     "output_type": "stream",
     "text": [
      "890.2737774999997\n"
     ]
    }
   ],
   "source": [
    "mc(20,3,[1]*20,0.9,2000,100);"
   ]
  },
  {
   "cell_type": "code",
   "execution_count": 10,
   "metadata": {},
   "outputs": [
    {
     "name": "stdout",
     "output_type": "stream",
     "text": [
      "887.8676663333334\n"
     ]
    }
   ],
   "source": [
    "mc(30,5,[1]*30,0.9,2000,100);"
   ]
  },
  {
   "cell_type": "code",
   "execution_count": 11,
   "metadata": {},
   "outputs": [
    {
     "name": "stdout",
     "output_type": "stream",
     "text": [
      "1025.7841587500004\n"
     ]
    }
   ],
   "source": [
    "mc(40,7,[1]*40,0.9,2000,100);"
   ]
  },
  {
   "cell_type": "code",
   "execution_count": 12,
   "metadata": {},
   "outputs": [
    {
     "name": "stdout",
     "output_type": "stream",
     "text": [
      "1176.4057697999992\n"
     ]
    }
   ],
   "source": [
    "mc(50,9,[1]*50,0.9,2000,100);"
   ]
  },
  {
   "cell_type": "code",
   "execution_count": 13,
   "metadata": {},
   "outputs": [
    {
     "name": "stdout",
     "output_type": "stream",
     "text": [
      "1329.8401001666662\n"
     ]
    }
   ],
   "source": [
    "mc(60,11,[1]*60,0.9,2000,100);"
   ]
  },
  {
   "cell_type": "code",
   "execution_count": 14,
   "metadata": {},
   "outputs": [
    {
     "name": "stdout",
     "output_type": "stream",
     "text": [
      "1489.222696\n"
     ]
    }
   ],
   "source": [
    "mc(70,13,[1]*70,0.9,2000,100);"
   ]
  },
  {
   "cell_type": "code",
   "execution_count": 15,
   "metadata": {},
   "outputs": [
    {
     "name": "stdout",
     "output_type": "stream",
     "text": [
      "2023.3230527500007\n"
     ]
    }
   ],
   "source": [
    "mc(80,14,[1]*80,0.9,2000,100);"
   ]
  },
  {
   "cell_type": "code",
   "execution_count": 16,
   "metadata": {},
   "outputs": [
    {
     "name": "stdout",
     "output_type": "stream",
     "text": [
      "2177.2292758888893\n"
     ]
    }
   ],
   "source": [
    "mc(90,16,[1]*90,0.9,2000,100);"
   ]
  },
  {
   "cell_type": "code",
   "execution_count": 17,
   "metadata": {},
   "outputs": [
    {
     "name": "stdout",
     "output_type": "stream",
     "text": [
      "2331.0920081\n"
     ]
    }
   ],
   "source": [
    "mc(100,18,[1]*100,0.9,2000,100);"
   ]
  },
  {
   "cell_type": "code",
   "execution_count": 18,
   "metadata": {},
   "outputs": [
    {
     "name": "stdout",
     "output_type": "stream",
     "text": [
      "3024.690457416666\n"
     ]
    }
   ],
   "source": [
    "mc(120,21,[1]*120,0.9,2000,100);"
   ]
  },
  {
   "cell_type": "code",
   "execution_count": 19,
   "metadata": {},
   "outputs": [
    {
     "name": "stdout",
     "output_type": "stream",
     "text": [
      "3726.4647964999986\n"
     ]
    }
   ],
   "source": [
    "mc(140,24,[1]*140,0.9,2000,100);"
   ]
  },
  {
   "cell_type": "code",
   "execution_count": 20,
   "metadata": {},
   "outputs": [
    {
     "name": "stdout",
     "output_type": "stream",
     "text": [
      "5032.001840650002\n"
     ]
    }
   ],
   "source": [
    "mc(200,35,[1]*200,0.9,2000,100);"
   ]
  },
  {
   "cell_type": "code",
   "execution_count": 13,
   "metadata": {},
   "outputs": [
    {
     "name": "stdout",
     "output_type": "stream",
     "text": [
      "8213.700794700002\n"
     ]
    }
   ],
   "source": [
    "mc(400,75,[1]*400,0.9,2000,100);"
   ]
  },
  {
   "cell_type": "code",
   "execution_count": 14,
   "metadata": {},
   "outputs": [
    {
     "name": "stdout",
     "output_type": "stream",
     "text": [
      "13200.419244250003\n"
     ]
    }
   ],
   "source": [
    "mc(600,110,[1]*600,0.9,2000,100);"
   ]
  },
  {
   "cell_type": "code",
   "execution_count": 15,
   "metadata": {},
   "outputs": [
    {
     "name": "stdout",
     "output_type": "stream",
     "text": [
      "16425.395214012504\n"
     ]
    }
   ],
   "source": [
    "mc(800,150,[1]*800,0.9,2000,100);"
   ]
  },
  {
   "cell_type": "code",
   "execution_count": 16,
   "metadata": {},
   "outputs": [
    {
     "name": "stdout",
     "output_type": "stream",
     "text": [
      "19689.82945762\n"
     ]
    }
   ],
   "source": [
    "mc(1000,190,[1]*1000,0.9,2000,100);"
   ]
  },
  {
   "cell_type": "code",
   "execution_count": 11,
   "metadata": {},
   "outputs": [
    {
     "name": "stdout",
     "output_type": "stream",
     "text": [
      "31227.38504273332\n"
     ]
    }
   ],
   "source": [
    "mc(1500,280,[1]*1500,0.9,1000,100);"
   ]
  },
  {
   "cell_type": "code",
   "execution_count": null,
   "metadata": {},
   "outputs": [],
   "source": []
  },
  {
   "cell_type": "code",
   "execution_count": 91,
   "metadata": {},
   "outputs": [],
   "source": [
    "def CL(j,J,W,p):\n",
    "    c = CD(j,J,1)+W*RD(j,J,1,p)+1;\n",
    "    \n",
    "    for i in range(100):\n",
    "        calculate = CD(j,J,i)+W*RD(j,J,i,p);\n",
    "        if calculate < c and calculate > 0:\n",
    "            c = calculate;\n",
    "        \n",
    "    return c;"
   ]
  },
  {
   "cell_type": "code",
   "execution_count": 92,
   "metadata": {},
   "outputs": [],
   "source": [
    "def LLB(W,Resource,J,p):\n",
    "    l = 0;\n",
    "    for i in range(J):\n",
    "        l += CL(i,J,W,p);\n",
    "    lowerbound = l - W*Resource;\n",
    "    \n",
    "  \n",
    "    return lowerbound;\n",
    "    \n",
    "\n",
    "\n",
    "    "
   ]
  },
  {
   "cell_type": "code",
   "execution_count": 96,
   "metadata": {},
   "outputs": [],
   "source": [
    "def lb(Resource,J,p):\n",
    "    L = [0.]*2000;\n",
    "    for i in range(2000):\n",
    "        L[i] = LLB(i,Resource,J,p);\n",
    "    \n",
    "    lb = max(L);\n",
    "    print(lb);\n",
    "      \n",
    "\n",
    "   "
   ]
  },
  {
   "cell_type": "code",
   "execution_count": null,
   "metadata": {},
   "outputs": [],
   "source": []
  }
 ],
 "metadata": {
  "kernelspec": {
   "display_name": "Python 3",
   "language": "python",
   "name": "python3"
  },
  "language_info": {
   "codemirror_mode": {
    "name": "ipython",
    "version": 3
   },
   "file_extension": ".py",
   "mimetype": "text/x-python",
   "name": "python",
   "nbconvert_exporter": "python",
   "pygments_lexer": "ipython3",
   "version": "3.6.8"
  }
 },
 "nbformat": 4,
 "nbformat_minor": 2
}
