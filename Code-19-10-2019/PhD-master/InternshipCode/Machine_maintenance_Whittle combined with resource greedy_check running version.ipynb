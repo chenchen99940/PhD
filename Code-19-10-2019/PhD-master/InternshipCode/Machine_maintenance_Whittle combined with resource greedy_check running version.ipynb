{
 "cells": [
  {
   "cell_type": "code",
   "execution_count": 34,
   "metadata": {},
   "outputs": [],
   "source": [
    "import numpy as np\n",
    "import matplotlib.pyplot as plt\n",
    "%matplotlib inline\n",
    "from math import exp;\n",
    "\n",
    "def C(j,J,x):\n",
    "    cost = (2+10*j/J)*x*x;\n",
    "    \n",
    "    return cost;\n",
    "\n",
    "def R(j,J,x):\n",
    "    resource = 1-exp(-((x+20*j/J)/10));\n",
    "\n",
    "    return resource;\n",
    "    \n",
    "\n",
    "def CD(j,J,x):\n",
    "    if x > 0:\n",
    "        c=0;\n",
    "        for i in range(x):\n",
    "            c += C(j,J,i);\n",
    "    \n",
    "        return c/x;\n",
    "    elif x == 0:\n",
    "        return 0;\n",
    "\n",
    "def RD(j,J,x,p):\n",
    "    if x > 0:\n",
    "        return p*R(j,J,x)/x;\n",
    "    \n",
    "    elif x == 0:\n",
    "        return 0;\n",
    "\n",
    "def W(j,J,x,p):\n",
    "    if x>0:    \n",
    "        WhittleIndex = (CD(j,J,x+1)-CD(j,J,x))/(RD(j,J,x,p)-RD(j,J,x+1,p));\n",
    "    elif x ==0:\n",
    "        WhittleIndex = 0;\n",
    "        \n",
    "    \n",
    "    return WhittleIndex;\n"
   ]
  },
  {
   "cell_type": "code",
   "execution_count": 25,
   "metadata": {},
   "outputs": [
    {
     "name": "stdout",
     "output_type": "stream",
     "text": [
      "245.38897835906417\n",
      "26.875639289846195\n",
      "17.666258491956786\n",
      "14.62590013397692\n",
      "13.237349970481755\n",
      "12.532520901565237\n",
      "12.179006426108447\n",
      "12.031836896126197\n",
      "12.01763926206369\n",
      "12.095251454970773\n",
      "12.239755690299635\n",
      "12.435150023437481\n",
      "12.670657119454546\n",
      "12.93872536664665\n",
      "13.233881635722454\n",
      "13.552040649257526\n",
      "13.890072321034546\n",
      "14.245521399848352\n",
      "14.616420474018266\n",
      "15.001162089118692\n"
     ]
    }
   ],
   "source": [
    "J=20;\n",
    "for j in range(20):\n",
    "    print(W(j,20,1,0.9));"
   ]
  },
  {
   "cell_type": "code",
   "execution_count": 3,
   "metadata": {},
   "outputs": [
    {
     "name": "stdout",
     "output_type": "stream",
     "text": [
      "10\n"
     ]
    }
   ],
   "source": [
    "def permutation_indices(data):\n",
    "     return sorted(range(len(data)), key = lambda k:data[k])\n",
    "\n",
    "N = [2,3,1,4,5,7,9,0,6,8,14,13,7];\n",
    "M = permutation_indices(N);\n",
    "print(M[len(N)-1]);"
   ]
  },
  {
   "cell_type": "code",
   "execution_count": 23,
   "metadata": {},
   "outputs": [],
   "source": [
    "def update(J,Resource,S,p):\n",
    "    WL = [0.]*J;\n",
    "    Y = [0.]*J;\n",
    "    Z = [0.]*J;\n",
    "    Cost_vector = [0.]*J;\n",
    "    Resource_vector = [0.]*J;\n",
    "    Action = [0]*J;\n",
    "    Threshold = Resource;\n",
    "    Seed = np.random.rand(J);\n",
    "    total_cost = 0;\n",
    "    \n",
    "    for j in range(J):\n",
    "        WL[j]= W(j,J,S[j],p);\n",
    "        Cost_vector[j]= C(j,J,S[j]);\n",
    "        Resource_vector[j]= R(j,J,S[j]);\n",
    "        \n",
    "    print(\"Whittle Index list is \" + str(WL));\n",
    "    print(\"Cost vector is \" + str(Cost_vector));\n",
    "    print(\"Resource vector is \" + str(Resource_vector));\n",
    "\n",
    "\n",
    "    print(\"State: \" + str(S));    \n",
    "  \n",
    "    Y = permutation_indices(WL);\n",
    "    Z = permutation_indices(Resource_vector);\n",
    "    ind = 1;\n",
    "   \n",
    "    \n",
    "    while Threshold > 0:\n",
    "        print(\"Threshold now is \" + str(Threshold));\n",
    "        Position = Y[len(Y)-ind];\n",
    "        Resource_left = Threshold;\n",
    "        Threshold -= Resource_vector[Position];\n",
    "        \n",
    "        if Threshold > 0:\n",
    "            Action[Position] = 1;\n",
    "            ind += 1;\n",
    "    print(\"Resource left after Whittle Index Policy is \" + str(Resource_left));\n",
    "    print(\"We use resource greedy policy for the resource left.\")\n",
    "    \n",
    "    Last_hope = 0;\n",
    "    counter = 0;\n",
    "    \n",
    "    while Resource_left > 0:\n",
    "        Place = Z[Last_hope];\n",
    "        if Action[Place] == 1:\n",
    "            Last_hope += 1;\n",
    "        else:\n",
    "            Resource_left -= Resource_vector[Place];\n",
    "            if Resource_left > 0:\n",
    "                Action[Place] = 1;\n",
    "                Last_hope += 1;\n",
    "                print(\"Resource left after the \" + str(counter+1) + \"th time resource greedy policy is \" + \n",
    "                       str(Resource_left));\n",
    "                counter += 1;\n",
    "            else:\n",
    "                print(\"Resource greedy policy do not help!\");\n",
    "            \n",
    "        \n",
    "    print(\"Action vector is: \" + str(Action));\n",
    "         \n",
    "        \n",
    "    for j in range(J):\n",
    "        \n",
    "        if Action[j]==0:\n",
    "            total_cost += C(j,J,S[j]);\n",
    "            S[j] += int((Seed[j]<p)==True);\n",
    "            \n",
    "        else:\n",
    "            S[j] = int((Seed[j]<p)==True);\n",
    "\n",
    "    \n",
    "    print(\"State becomes \" + str(S));\n",
    "    print(\"cost is \" + str(total_cost));\n",
    "    print(\"Next turn of update: \");\n",
    "    \n",
    "    return total_cost;\n",
    "     \n",
    "               "
   ]
  },
  {
   "cell_type": "code",
   "execution_count": 5,
   "metadata": {},
   "outputs": [
    {
     "name": "stdout",
     "output_type": "stream",
     "text": [
      "0.09516258196404048\n",
      "0.2591817793182821\n",
      "0.3934693402873666\n",
      "0.5034146962085905\n",
      "0.5934303402594009\n",
      "0.6671289163019205\n",
      "0.7274682069659875\n",
      "0.7768698398515702\n",
      "0.8173164759472653\n",
      "0.8504313807773649\n"
     ]
    }
   ],
   "source": [
    "for i in range(10):\n",
    "    print(R(i,10,1));"
   ]
  },
  {
   "cell_type": "code",
   "execution_count": 24,
   "metadata": {},
   "outputs": [
    {
     "name": "stdout",
     "output_type": "stream",
     "text": [
      "Whittle Index list is [245.38897835906417, 17.666258491956786, 13.237349970481755, 12.179006426108447, 12.01763926206369, 12.239755690299635, 12.670657119454546, 13.233881635722454, 13.890072321034546, 14.616420474018266]\n",
      "Cost vector is [2.0, 3.0, 4.0, 5.0, 6.0, 7.0, 8.0, 9.0, 10.0, 11.0]\n",
      "Resource vector is [0.09516258196404048, 0.2591817793182821, 0.3934693402873666, 0.5034146962085905, 0.5934303402594009, 0.6671289163019205, 0.7274682069659875, 0.7768698398515702, 0.8173164759472653, 0.8504313807773649]\n",
      "State: [1, 1, 1, 1, 1, 1, 1, 1, 1, 1]\n",
      "Threshold now is 2\n",
      "Threshold now is 1.9048374180359595\n",
      "Threshold now is 1.6456556387176775\n",
      "Threshold now is 0.7952242579403126\n",
      "Resource left after Whittle Index Policy is 0.7952242579403126\n",
      "We use resource greedy policy for the resource left.\n",
      "Resource left after the 1th time resource greedy policy is 0.401754917652946\n",
      "Resource greedy policy do not help!\n",
      "Action vector is: [1, 1, 1, 0, 0, 0, 0, 0, 0, 1]\n",
      "State becomes [1, 1, 1, 2, 2, 2, 2, 2, 1, 1]\n",
      "cost is 45.0\n",
      "Next turn of update: \n"
     ]
    }
   ],
   "source": [
    "update(10,2,[1]*10,0.9);"
   ]
  },
  {
   "cell_type": "code",
   "execution_count": 7,
   "metadata": {},
   "outputs": [],
   "source": [
    "def one_trial(J,Resource,S,p,timesteps):\n",
    "    Total_cost = 0;\n",
    "    for i in range(timesteps):\n",
    "        Total_cost += update(J,Resource,S,p);\n",
    "    \n",
    "    return Total_cost;"
   ]
  },
  {
   "cell_type": "code",
   "execution_count": 33,
   "metadata": {},
   "outputs": [
    {
     "name": "stdout",
     "output_type": "stream",
     "text": [
      "Whittle Index list is [611.3600144972379, 115.4537206617253, 89.7257224273495, 83.60461350029523, 83.02143309391269, 84.8730494901149, 88.07489710743339, 92.1443646042832, 96.82999130847064, 101.98455235497583]\n",
      "Cost vector is [8.0, 12.0, 16.0, 20.0, 24.0, 28.0, 32.0, 36.0, 40.0, 44.0]\n",
      "Resource vector is [0.18126924692201818, 0.3296799539643607, 0.4511883639059736, 0.5506710358827784, 0.6321205588285577, 0.6988057880877978, 0.7534030360583935, 0.7981034820053446, 0.8347011117784134, 0.8646647167633873]\n",
      "State: [2, 2, 2, 2, 2, 2, 2, 2, 2, 2]\n",
      "Threshold now is 2.0\n",
      "Threshold now is 1.8187307530779817\n",
      "Threshold now is 1.489050799113621\n",
      "Threshold now is 0.6243860823502337\n",
      "Resource left after Whittle Index Policy is 0.6243860823502337\n",
      "We use resource greedy policy for the resource left.\n",
      "Resource left after the 1th time resource greedy policy is 0.17319771844426013\n",
      "Resource greedy policy do not help!\n",
      "Action vector is: [1, 1, 1, 0, 0, 0, 0, 0, 0, 1]\n",
      "State becomes [1, 1, 1, 3, 3, 3, 3, 3, 3, 1]\n",
      "cost is 180.0\n",
      "Next turn of update: \n",
      "Whittle Index list is [245.38897835906417, 17.666258491956786, 13.237349970481755, 256.0380069317019, 256.3661986490486, 263.38412616466326, 274.20650547698136, 287.52059898141425, 302.6308654958366, 14.616420474018266]\n",
      "Cost vector is [2.0, 3.0, 4.0, 45.0, 54.0, 63.0, 72.0, 81.0, 90.0, 11.0]\n",
      "Resource vector is [0.09516258196404048, 0.2591817793182821, 0.3934693402873666, 0.5934303402594009, 0.6671289163019205, 0.7274682069659875, 0.7768698398515702, 0.8173164759472653, 0.8504313807773649, 0.8504313807773649]\n",
      "State: [1, 1, 1, 3, 3, 3, 3, 3, 3, 1]\n",
      "Threshold now is 2.0\n",
      "Threshold now is 1.149568619222635\n",
      "Threshold now is 0.3322521432753698\n",
      "Resource left after Whittle Index Policy is 0.3322521432753698\n",
      "We use resource greedy policy for the resource left.\n",
      "Resource left after the 1th time resource greedy policy is 0.2370895613113293\n",
      "Resource greedy policy do not help!\n",
      "Action vector is: [1, 0, 0, 0, 0, 0, 0, 1, 1, 0]\n",
      "State becomes [1, 2, 2, 4, 3, 4, 4, 0, 1, 1]\n",
      "cost is 252.0\n",
      "Next turn of update: \n",
      "Whittle Index list is [245.38897835906417, 115.4537206617253, 89.7257224273495, 564.4890131121667, 256.3661986490486, 589.6402842330111, 616.2128475306005, 0.0, 13.890072321034546, 14.616420474018266]\n",
      "Cost vector is [2.0, 12.0, 16.0, 80.0, 54.0, 112.0, 128.0, 0.0, 10.0, 11.0]\n",
      "Resource vector is [0.09516258196404048, 0.3296799539643607, 0.4511883639059736, 0.6321205588285577, 0.6671289163019205, 0.7534030360583935, 0.7981034820053446, 0.7534030360583935, 0.8173164759472653, 0.8504313807773649]\n",
      "State: [1, 2, 2, 4, 3, 4, 4, 0, 1, 1]\n",
      "Threshold now is 2.0\n",
      "Threshold now is 1.2018965179946552\n",
      "Threshold now is 0.4484934819362617\n",
      "Resource left after Whittle Index Policy is 0.4484934819362617\n",
      "We use resource greedy policy for the resource left.\n",
      "Resource left after the 1th time resource greedy policy is 0.3533308999722212\n",
      "Resource left after the 2th time resource greedy policy is 0.02365094600786055\n",
      "Resource greedy policy do not help!\n",
      "Action vector is: [1, 1, 0, 0, 0, 1, 1, 0, 0, 0]\n",
      "State becomes [0, 1, 2, 5, 3, 1, 1, 1, 2, 2]\n",
      "cost is 171.0\n",
      "Next turn of update: \n",
      "Whittle Index list is [-0.0, 17.666258491956786, 89.7257224273495, 1037.4121356767782, 256.3661986490486, 12.239755690299635, 12.670657119454546, 13.233881635722454, 96.82999130847064, 101.98455235497583]\n",
      "Cost vector is [0.0, 3.0, 16.0, 125.0, 54.0, 7.0, 8.0, 9.0, 40.0, 44.0]\n",
      "Resource vector is [0.0, 0.2591817793182821, 0.4511883639059736, 0.6671289163019205, 0.6671289163019205, 0.6671289163019205, 0.7274682069659875, 0.7768698398515702, 0.8347011117784134, 0.8646647167633873]\n",
      "State: [0, 1, 2, 5, 3, 1, 1, 1, 2, 2]\n",
      "Threshold now is 2.0\n",
      "Threshold now is 1.3328710836980795\n",
      "Threshold now is 0.665742167396159\n",
      "Resource left after Whittle Index Policy is 0.665742167396159\n",
      "We use resource greedy policy for the resource left.\n",
      "Resource left after the 1th time resource greedy policy is 0.665742167396159\n",
      "Resource left after the 2th time resource greedy policy is 0.40656038807787687\n",
      "Resource greedy policy do not help!\n",
      "Action vector is: [1, 1, 0, 1, 1, 0, 0, 0, 0, 0]\n",
      "State becomes [1, 1, 3, 1, 1, 2, 2, 2, 3, 2]\n",
      "cost is 124.0\n",
      "Next turn of update: \n",
      "Whittle Index list is [245.38897835906417, 17.666258491956786, 270.3689935922612, 12.179006426108447, 12.01763926206369, 84.8730494901149, 88.07489710743339, 92.1443646042832, 302.6308654958366, 101.98455235497583]\n",
      "Cost vector is [2.0, 3.0, 36.0, 5.0, 6.0, 28.0, 32.0, 36.0, 90.0, 44.0]\n",
      "Resource vector is [0.09516258196404048, 0.2591817793182821, 0.5034146962085905, 0.5034146962085905, 0.5934303402594009, 0.6988057880877978, 0.7534030360583935, 0.7981034820053446, 0.8504313807773649, 0.8646647167633873]\n",
      "State: [1, 1, 3, 1, 1, 2, 2, 2, 3, 2]\n",
      "Threshold now is 2.0\n",
      "Threshold now is 1.149568619222635\n",
      "Threshold now is 0.6461539230140446\n",
      "Threshold now is 0.5509913410500041\n",
      "Resource left after Whittle Index Policy is 0.5509913410500041\n",
      "We use resource greedy policy for the resource left.\n",
      "Resource left after the 1th time resource greedy policy is 0.291809561731722\n",
      "Resource greedy policy do not help!\n",
      "Action vector is: [1, 1, 1, 0, 0, 0, 0, 0, 1, 0]\n",
      "State becomes [0, 0, 1, 1, 2, 3, 3, 3, 1, 2]\n",
      "cost is 151.0\n",
      "Next turn of update: \n"
     ]
    }
   ],
   "source": [
    "one_trial(10,2.,[2]*10,0.9,5);"
   ]
  },
  {
   "cell_type": "code",
   "execution_count": 95,
   "metadata": {},
   "outputs": [],
   "source": [
    "import copy;\n",
    "def mc(J,Resource,S,p,timesteps,ntrials):\n",
    "    Cost = 0;\n",
    "    \n",
    "    for i in range(ntrials):\n",
    "        \n",
    "        SS = copy.deepcopy(S);\n",
    "        One_time_cost = one_trial(J,Resource,SS,p,timesteps);\n",
    "        \n",
    "        Cost += One_time_cost;\n",
    "        \n",
    "    Average_cost = Cost/(ntrials*timesteps);\n",
    "    \n",
    "    print(Average_cost);\n",
    "        "
   ]
  },
  {
   "cell_type": "code",
   "execution_count": 102,
   "metadata": {},
   "outputs": [
    {
     "name": "stdout",
     "output_type": "stream",
     "text": [
      "797.4797325\n"
     ]
    }
   ],
   "source": [
    "mc(20,3,[1]*20,0.9,2000,100);"
   ]
  },
  {
   "cell_type": "code",
   "execution_count": 27,
   "metadata": {},
   "outputs": [],
   "source": [
    "def CL(j,J,W,p):\n",
    "    c = CD(j,J,1)+W*RD(j,J,1,p)+1;\n",
    "    \n",
    "    for i in range(100):\n",
    "        calculate = CD(j,J,i)+W*RD(j,J,i,p);\n",
    "        if calculate < c and calculate > 0:\n",
    "            c = calculate;\n",
    "        \n",
    "    return c;"
   ]
  },
  {
   "cell_type": "code",
   "execution_count": 30,
   "metadata": {},
   "outputs": [
    {
     "name": "stdout",
     "output_type": "stream",
     "text": [
      "66.22678218911572\n"
     ]
    }
   ],
   "source": [
    "print(CL(5,10,250,0.9));"
   ]
  },
  {
   "cell_type": "code",
   "execution_count": 31,
   "metadata": {},
   "outputs": [],
   "source": [
    "def LLB(W,Resource,J,p):\n",
    "    l = 0;\n",
    "    for i in range(J):\n",
    "        l += CL(i,J,W,p);\n",
    "    lowerbound = l - W*Resource;\n",
    "    \n",
    "    print(lowerbound);\n",
    "\n",
    "    "
   ]
  },
  {
   "cell_type": "code",
   "execution_count": 64,
   "metadata": {},
   "outputs": [
    {
     "name": "stdout",
     "output_type": "stream",
     "text": [
      "544.8702696181958\n"
     ]
    }
   ],
   "source": [
    "LLB(589,3.,20,0.9);"
   ]
  },
  {
   "cell_type": "code",
   "execution_count": 94,
   "metadata": {},
   "outputs": [
    {
     "name": "stdout",
     "output_type": "stream",
     "text": [
      "99.26449980987206\n"
     ]
    }
   ],
   "source": [
    "LLB(102,2.,10,0.9);"
   ]
  },
  {
   "cell_type": "code",
   "execution_count": null,
   "metadata": {},
   "outputs": [],
   "source": []
  }
 ],
 "metadata": {
  "kernelspec": {
   "display_name": "Python 3",
   "language": "python",
   "name": "python3"
  },
  "language_info": {
   "codemirror_mode": {
    "name": "ipython",
    "version": 3
   },
   "file_extension": ".py",
   "mimetype": "text/x-python",
   "name": "python",
   "nbconvert_exporter": "python",
   "pygments_lexer": "ipython3",
   "version": "3.6.8"
  }
 },
 "nbformat": 4,
 "nbformat_minor": 2
}
