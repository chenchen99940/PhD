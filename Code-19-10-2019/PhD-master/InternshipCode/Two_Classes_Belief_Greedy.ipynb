{
 "cells": [
  {
   "cell_type": "code",
   "execution_count": 1,
   "metadata": {},
   "outputs": [],
   "source": [
    "import numpy as np\n",
    "import matplotlib.pyplot as plt\n",
    "%matplotlib inline\n",
    "\n",
    "    \n",
    "    \n",
    "    \n",
    "def Belief(State,p,r):\n",
    "   \n",
    "    equilibrium = r/(1-p+r);\n",
    "    \n",
    "    if State[0]== 0 and State[1]> 0:\n",
    "            Belief = (r-r*(p-r)**(State[1]))/(1+r-p);\n",
    "    elif State[0]== 1 and State[1]> 0:\n",
    "            Belief = (r+(1-p)*(p-r)**(State[1]))/(1+r-p);\n",
    "            \n",
    "    else:\n",
    "        \n",
    "        Belief = equilibrium;\n",
    "\n",
    "    return Belief;\n",
    "\n",
    "def update(B,C,Reward,alpha,p,r,q,s,gamma,N):\n",
    "    \n",
    "    BeliefVector= [0.]*N;\n",
    "    Y= [0.]*N;\n",
    "    Action = [0]*N;\n",
    "    Threshold = 0.;\n",
    "    Seed = np.random.rand(N);\n",
    "    \n",
    "    for i in range(int(N*gamma)):\n",
    "        Y[i]= Belief(B[i],p,r);\n",
    "    for i in range(int(N*gamma),N):\n",
    "        Y[i]= Belief(B[i],q,s);\n",
    "    \n",
    "    Y.sort();\n",
    "    Threshold = Y[int((1-alpha)*N)];\n",
    "    \n",
    "    for i in range(int(N*gamma)):\n",
    "        BeliefVector[i]= Belief(B[i],p,r);\n",
    "    for i in range(int(N*gamma),N):\n",
    "        BeliefVector[i]= Belief(B[i],q,s);\n",
    "    \n",
    "    #Get the Action vector.    \n",
    "    h=0;\n",
    "    for i in range(N):\n",
    "        if BeliefVector[i]>= Threshold:\n",
    "            Action[i]=1;\n",
    "            h=h+1;\n",
    "        if h >= alpha*N:\n",
    "            break;\n",
    "    \n",
    "    #The update process.        \n",
    "\n",
    "    for i in range(int(N*gamma)):\n",
    "        \n",
    "            if Action[i] == 0 and B[i][1]>0:\n",
    "                B[i][1]= B[i][1]+1;\n",
    "                if C[i]==0:\n",
    "                    if Seed[i]<r:\n",
    "                        C[i]=1;\n",
    "                    else:\n",
    "                        C[i]=0;\n",
    "                else:\n",
    "                    if Seed[i]<p:\n",
    "                        C[i]=1;\n",
    "                    else:\n",
    "                        C[i]=0;\n",
    "                \n",
    "                \n",
    "                \n",
    "               \n",
    "             \n",
    "            elif Action[i] == 0 and B[i][1]==0:\n",
    "                if C[i]==0:\n",
    "                    if Seed[i]<r:\n",
    "                        C[i]=1;\n",
    "                    else:\n",
    "                        C[i]=0;\n",
    "                else: \n",
    "                    if Seed[i]<p:\n",
    "                        C[i]=1;\n",
    "                    else:\n",
    "                        C[i]=0;\n",
    "            \n",
    "            else:\n",
    "                if C[i]==1:\n",
    "                    B[i]= [1,1];\n",
    "                    Reward = Reward + 1;\n",
    "                    C[i]= int((Seed[i]<p)==True);\n",
    "                    \n",
    "                else:\n",
    "                    B[i]= [0,1];\n",
    "                    C[i]= int((Seed[i]<r)==True);\n",
    "        \n",
    "    for i in range(int(N*gamma),N):\n",
    "        \n",
    "            if Action[i] == 0 and B[i][1]>0:\n",
    "                B[i][1]= B[i][1]+1;\n",
    "                if C[i]==0:\n",
    "                    if Seed[i]<s:\n",
    "                        C[i]=1;\n",
    "                    else:\n",
    "                        C[i]=0;\n",
    "                else:\n",
    "                    if Seed[i]<q:\n",
    "                        C[i]=1;\n",
    "                    else:\n",
    "                        C[i]=0;\n",
    "                \n",
    "                \n",
    "                \n",
    "               \n",
    "             \n",
    "            elif Action[i] == 0 and B[i][1]==0:\n",
    "                if C[i]==0:\n",
    "                    if Seed[i]<s:\n",
    "                        C[i]=1;\n",
    "                    else:\n",
    "                        C[i]=0;\n",
    "                else: \n",
    "                    if Seed[i]<q:\n",
    "                        C[i]=1;\n",
    "                    else:\n",
    "                        C[i]=0;\n",
    "            \n",
    "            else:\n",
    "                if C[i]==1:\n",
    "                    B[i]= [1,1];\n",
    "                    Reward = Reward + 1;\n",
    "                    C[i]= int((Seed[i]<q)==True);\n",
    "                    \n",
    "                else:\n",
    "                    B[i]= [0,1];\n",
    "                    C[i]= int((Seed[i]<s)==True);\n",
    "        \n",
    "        \n",
    "                    \n",
    "    return Reward;\n",
    "    \n",
    "    \n",
    "    \n",
    "    \n",
    "    "
   ]
  },
  {
   "cell_type": "code",
   "execution_count": 2,
   "metadata": {},
   "outputs": [
    {
     "name": "stdout",
     "output_type": "stream",
     "text": [
      "2\n"
     ]
    }
   ],
   "source": [
    "print(update([[1,2],[0,1],[0,3],[0,2],[0,0],[1,4],[1,3],[1,7],[0,4],[0,6]],[0,0,1,0,0,1,1,0,0,0],0,0.5,0.4,0.3,0.6,0.2,0.6,10));"
   ]
  },
  {
   "cell_type": "code",
   "execution_count": 3,
   "metadata": {},
   "outputs": [],
   "source": [
    "def onetrial(B,C,Reward,timesteps,alpha,p,r,q,s,gamma,N):\n",
    "\n",
    "    for i in range(timesteps):\n",
    "        Reward = update(B,C,Reward,alpha,p,r,q,s,gamma,N);\n",
    "    return Reward;"
   ]
  },
  {
   "cell_type": "code",
   "execution_count": 4,
   "metadata": {},
   "outputs": [
    {
     "name": "stdout",
     "output_type": "stream",
     "text": [
      "179\n"
     ]
    }
   ],
   "source": [
    "print(onetrial([[1,2],[0,1],[0,3],[0,2],[0,0],[1,4],[1,3],[1,7],[0,4],[0,6]],[0,0,1,0,0,1,1,0,0,0],0,100,0.5,0.4,0.3,0.6,0.2,0.6,10));"
   ]
  },
  {
   "cell_type": "code",
   "execution_count": 5,
   "metadata": {},
   "outputs": [],
   "source": [
    "def mc(B,Reward,ntrials,timesteps,alpha,p,r,q,s,gamma,N):\n",
    "    e_1 = r/(1-p+r);\n",
    "    e_2 = s/(1-q+s);\n",
    "    \n",
    "    bigB = [B]*(ntrials);\n",
    "    for i in range(ntrials):\n",
    "        C = [0]*N;\n",
    "        Seed = np.random.rand(N);\n",
    "        for j in range(int(N*gamma)):\n",
    "            C[j]= int((Seed[j]< e_1) == True);\n",
    "        for j in range(int(N*gamma),N):\n",
    "            C[j]= int((Seed[j]< e_2) == True);\n",
    "        Reward = onetrial(bigB[i],C,Reward,timesteps,alpha,p,r,q,s,gamma,N);\n",
    "        \n",
    "    lowerbound = 100*Reward/(timesteps*ntrials*N);\n",
    "    \n",
    "    print(lowerbound);\n"
   ]
  },
  {
   "cell_type": "code",
   "execution_count": 12,
   "metadata": {},
   "outputs": [
    {
     "name": "stdout",
     "output_type": "stream",
     "text": [
      "18.26048\n",
      "18.3741\n",
      "18.464\n",
      "18.56067\n",
      "18.623748\n",
      "18.785422\n",
      "18.829368\n"
     ]
    }
   ],
   "source": [
    "def bg(N):\n",
    "    bg= mc([[0,0]]*N,0,500,1000,0.5,0.4,0.3,0.6,0.2,0.6,N);\n",
    "    return bg;\n",
    "\n",
    "y= [bg(10),bg(20),bg(30),bg(40),bg(50),bg(100),bg(200)];\n",
    "    "
   ]
  },
  {
   "cell_type": "code",
   "execution_count": 14,
   "metadata": {},
   "outputs": [
    {
     "name": "stdout",
     "output_type": "stream",
     "text": [
      "34.1174\n",
      "34.21696\n",
      "34.297673333333336\n",
      "34.410165\n",
      "34.509508\n",
      "34.68941\n",
      "34.830054\n"
     ]
    }
   ],
   "source": [
    "def bg(N):\n",
    "    bg= mc([[0,0]]*N,0,500,1000,0.7,0.9,1/15,0.5,1/3,0.5,N);\n",
    "    return bg;\n",
    "\n",
    "y= [bg(10),bg(20),bg(30),bg(40),bg(50),bg(100),bg(200)];\n",
    "    "
   ]
  },
  {
   "cell_type": "code",
   "execution_count": 15,
   "metadata": {},
   "outputs": [
    {
     "name": "stdout",
     "output_type": "stream",
     "text": [
      "7.77304\n",
      "7.7425\n",
      "7.7432533333333335\n",
      "7.73471\n",
      "7.740276\n",
      "7.744882\n",
      "7.746615\n"
     ]
    }
   ],
   "source": [
    "def bg(N):\n",
    "    bg= mc([[0,0]]*N,0,500,1000,0.2,0.65,0.15,0.44,0.24,0.5,N);\n",
    "    return bg;\n",
    "\n",
    "y= [bg(10),bg(20),bg(30),bg(40),bg(50),bg(100),bg(200)];"
   ]
  },
  {
   "cell_type": "code",
   "execution_count": 6,
   "metadata": {},
   "outputs": [
    {
     "name": "stdout",
     "output_type": "stream",
     "text": [
      "10.93066\n",
      "10.76353\n",
      "10.72564\n",
      "10.70337\n",
      "10.682688\n",
      "10.651726\n",
      "10.642225\n"
     ]
    }
   ],
   "source": [
    "def bg(N):\n",
    "    bg= mc([[0,0]]*N,0,500,1000,0.2,0.9,1/15,0.5,1/3,0.5,N);\n",
    "    return bg;\n",
    "\n",
    "y= [bg(10),bg(20),bg(30),bg(40),bg(50),bg(100),bg(200)];\n",
    "    "
   ]
  },
  {
   "cell_type": "code",
   "execution_count": null,
   "metadata": {},
   "outputs": [],
   "source": []
  }
 ],
 "metadata": {
  "kernelspec": {
   "display_name": "Python 3",
   "language": "python",
   "name": "python3"
  },
  "language_info": {
   "codemirror_mode": {
    "name": "ipython",
    "version": 3
   },
   "file_extension": ".py",
   "mimetype": "text/x-python",
   "name": "python",
   "nbconvert_exporter": "python",
   "pygments_lexer": "ipython3",
   "version": "3.7.3"
  }
 },
 "nbformat": 4,
 "nbformat_minor": 2
}
