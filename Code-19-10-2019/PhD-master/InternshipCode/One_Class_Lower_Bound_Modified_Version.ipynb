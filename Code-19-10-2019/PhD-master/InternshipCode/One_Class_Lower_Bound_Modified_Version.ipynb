{
 "cells": [
  {
   "cell_type": "code",
   "execution_count": 1,
   "metadata": {},
   "outputs": [],
   "source": [
    "import numpy as np\n",
    "import matplotlib.pyplot as plt\n",
    "%matplotlib inline\n",
    "\n",
    "    \n",
    "    \n",
    "    \n",
    "def Belief(State,p,r):\n",
    "   \n",
    "    equilibrium = r/(1-p+r);\n",
    "    \n",
    "    if State[0]== 0 and State[1]> 0:\n",
    "            Belief = (r-r*(p-r)**(State[1]))/(1+r-p);\n",
    "    elif State[0]== 1 and State[1]> 0:\n",
    "            Belief = (r+(1-p)*(p-r)**(State[1]))/(1+r-p);\n",
    "            \n",
    "    else:\n",
    "        \n",
    "        Belief = equilibrium;\n",
    "\n",
    "    return Belief;\n",
    "            \n",
    "        \n",
    "def WhittleIndex(State,p,r):\n",
    "    WhittleIndex = 0.;\n",
    "\n",
    "    \n",
    "    if State[0]== 0 and State[1]>0:\n",
    "        l= State[1];\n",
    "        x= Belief([0,l],p,r);\n",
    "        y=Belief([0,l+1],p,r);\n",
    "        WhittleIndex =((x-y)*(l+1)+y)/(1-p+(x-y)*l+y); \n",
    "    elif State[0] == 1:\n",
    "        WhittleIndex = r/((1-p)*(1+r-p)+r);\n",
    "    \n",
    "    else:\n",
    "        WhittleIndex = r/((1-p)*(1+r-p)+r);\n",
    "            \n",
    "    return WhittleIndex;\n",
    "\n",
    "def update(S, C,alpha,p,r,N):\n",
    "        #the update process of each timestep.\n",
    "        \n",
    "        #S is the list of states of all channels.\n",
    "        W = [0.]*N;\n",
    "        Y = [0.]*N;\n",
    "        Action = [0]*N;\n",
    "        Threshold = 0.;\n",
    "        Seed = np.random.rand(N);\n",
    "        Reward = 0;\n",
    "        \n",
    "       #Get the Threshold. \n",
    "        for i in range(N):\n",
    "            Y[i]= WhittleIndex(S[i],p,r);\n",
    "        \n",
    "        Y.sort();\n",
    "        Threshold = Y[int((1-alpha)*N)];\n",
    "        \n",
    "        \n",
    "        \n",
    "       #Get the Action vector.\n",
    "        for i in range(N):\n",
    "            W[i]= WhittleIndex(S[i],p,r);\n",
    "    \n",
    "        h=0;\n",
    "        for i in range(N):\n",
    "            if W[i]>= Threshold:\n",
    "                Action[i]=1;\n",
    "                h=h+1;\n",
    "            if h >= alpha*N:\n",
    "                break;\n",
    "            \n",
    "       #The update process.\n",
    "       \n",
    "        for i in range(N):\n",
    "        \n",
    "            if Action[i] == 0 and S[i][1]>0:\n",
    "                S[i][1]= S[i][1]+1;\n",
    "                if C[i]==0:\n",
    "                    if Seed[i]<r:\n",
    "                        C[i]=1;\n",
    "                    else:\n",
    "                        C[i]=0;\n",
    "                else:\n",
    "                    if Seed[i]<p:\n",
    "                        C[i]=1;\n",
    "                    else:\n",
    "                        C[i]=0;\n",
    "                \n",
    "                \n",
    "                \n",
    "               \n",
    "             \n",
    "            elif Action[i] == 0 and S[i][1]==0:\n",
    "                if C[i]==0:\n",
    "                    if Seed[i]<r:\n",
    "                        C[i]=1;\n",
    "                    else:\n",
    "                        C[i]=0;\n",
    "                else: \n",
    "                    if Seed[i]<p:\n",
    "                        C[i]=1;\n",
    "                    else:\n",
    "                        C[i]=0;\n",
    "            \n",
    "            else:\n",
    "                if C[i]==1:\n",
    "                    S[i]= [1,1];\n",
    "                    Reward = Reward + 1;\n",
    "                    C[i]= int((Seed[i]<p)==True);\n",
    "                    \n",
    "                else:\n",
    "                    S[i]= [0,1];\n",
    "                    C[i]= int((Seed[i]<r)==True);\n",
    "        \n",
    "        \n",
    "        return Reward;\n",
    "    \n"
   ]
  },
  {
   "cell_type": "code",
   "execution_count": 2,
   "metadata": {},
   "outputs": [
    {
     "name": "stdout",
     "output_type": "stream",
     "text": [
      "1\n"
     ]
    }
   ],
   "source": [
    "print(update([[0,0],[0,0],[0,3],[0,2],[0,0],[1,4],[1,3],[1,7],[0,4],[0,6]],[0,0,1,0,0,1,1,0,0,0],0.4,0.6,0.3,10));"
   ]
  },
  {
   "cell_type": "code",
   "execution_count": 3,
   "metadata": {},
   "outputs": [],
   "source": [
    "def onetrial(S,C,timesteps,alpha,p,r,N):\n",
    "    Reward = 0;\n",
    "    for i in range(timesteps):\n",
    "        Reward += update(S,C,alpha,p,r,N);\n",
    "    return Reward;"
   ]
  },
  {
   "cell_type": "code",
   "execution_count": 9,
   "metadata": {},
   "outputs": [
    {
     "name": "stdout",
     "output_type": "stream",
     "text": [
      "193\n"
     ]
    }
   ],
   "source": [
    "print(onetrial([[0,0],[0,0],[0,3],[0,2],[0,0],[1,4],[1,3],[1,7],[0,4],[0,6]],[0,0,1,0,0,1,1,0,0,1],100,0.4,0.6,0.2,10));"
   ]
  },
  {
   "cell_type": "code",
   "execution_count": 10,
   "metadata": {},
   "outputs": [],
   "source": [
    "\n",
    "def TransitionMatrix(t,rho,p,r):\n",
    "    M = np.zeros((t+2,t+2));\n",
    "    for i in range (t-1):\n",
    "        M[i,i+1]=1;\n",
    "    M[t-1,0]= rho*(1-Belief([0,t],p,r));\n",
    "    M[t-1,t]= 1-rho;\n",
    "    M[t-1,t+1]= rho*Belief([0,t],p,r);\n",
    "    M[t,0]= 1-Belief([0,t+1],p,r);\n",
    "    M[t,t+1]= Belief([0,t+1],p,r);\n",
    "    M[t+1,0]= 1-Belief([1,1],p,r);\n",
    "    M[t+1,t+1]= Belief([1,1],p,r);\n",
    "    return M;\n",
    "\n",
    "\n"
   ]
  },
  {
   "cell_type": "code",
   "execution_count": 11,
   "metadata": {},
   "outputs": [],
   "source": [
    "def steady_state_prop(p):\n",
    "    dim = p.shape[0]\n",
    "    q = (p-np.eye(dim))\n",
    "    ones = np.ones(dim)\n",
    "    q = np.c_[q,ones]\n",
    "    QTQ = np.dot(q, q.T)\n",
    "    bQT = np.ones(dim)\n",
    "    return np.linalg.solve(QTQ,bQT)"
   ]
  },
  {
   "cell_type": "code",
   "execution_count": 12,
   "metadata": {},
   "outputs": [],
   "source": [
    "def find_threshold(alpha,p,r):\n",
    "    threshold=0;\n",
    "    while threshold >=0:\n",
    "        steadystate= steady_state_prop(TransitionMatrix(threshold,0.0001,p,r));\n",
    "        active= steadystate[threshold-1]*0.0001+steadystate[threshold]+steadystate[threshold+1];\n",
    "        if active< alpha:\n",
    "            break\n",
    "        threshold += 1;\n",
    "    return threshold;\n"
   ]
  },
  {
   "cell_type": "code",
   "execution_count": 13,
   "metadata": {},
   "outputs": [],
   "source": [
    "def find_rho(alpha,p,r):\n",
    "    t= find_threshold(alpha,p,r);\n",
    "    h=1;\n",
    "    ind=1;\n",
    "    \n",
    "    for i in range(10000):\n",
    "        M = TransitionMatrix(t,i*0.0001,p,r);\n",
    "        steadystate= steady_state_prop(M);\n",
    "        active= steadystate[t-1]*i*0.0001+steadystate[t]+steadystate[t+1];\n",
    "        if abs(active-alpha)<h:\n",
    "            h= abs(active-alpha);\n",
    "            ind= i;\n",
    "            \n",
    "    return ind*0.0001;"
   ]
  },
  {
   "cell_type": "code",
   "execution_count": 14,
   "metadata": {},
   "outputs": [],
   "source": [
    "def initial_belief(N,alpha,p,r):\n",
    "    S = [[0,0]]*N;\n",
    "    t = find_threshold(alpha,p,r);\n",
    "    rho = find_rho(alpha,p,r);\n",
    "    steadystate= steady_state_prop(TransitionMatrix(t,rho,p,r));\n",
    "    x= int(N*steadystate[0]);\n",
    "    for i in range(t):\n",
    "        for j in range(x):\n",
    "            S[j+i*x]= [0,i+1];\n",
    "    y= int(steadystate[t]*N);\n",
    "    for i in range(x*t,x*t+y):\n",
    "        S[i]= [0,t+1];\n",
    "    for i in range(x*t+y,N):\n",
    "        S[i]= [1,1];\n",
    "    return S;\n",
    "        \n",
    "        \n",
    "    \n",
    "    \n",
    "    "
   ]
  },
  {
   "cell_type": "code",
   "execution_count": 16,
   "metadata": {},
   "outputs": [
    {
     "name": "stdout",
     "output_type": "stream",
     "text": [
      "[[0, 1], [0, 2], [0, 3], [0, 4], [0, 5], [1, 1], [1, 1], [1, 1], [1, 1], [1, 1]]\n"
     ]
    }
   ],
   "source": [
    "print(initial_belief(10,0.4,0.7,0.4));"
   ]
  },
  {
   "cell_type": "code",
   "execution_count": 17,
   "metadata": {},
   "outputs": [],
   "source": [
    "import copy;\n",
    "\n",
    "def mc(ntrials,timesteps,alpha,p,r,N):\n",
    "    equilibrium = r/(1-p+r);\n",
    "    \n",
    "    S= initial_belief(N,alpha,p,r);\n",
    "    Reward=0;\n",
    "    C= [0]*N;\n",
    "     \n",
    "    for i in range(ntrials):\n",
    "        SS= copy.deepcopy(S);\n",
    "        CC= C;\n",
    "        Seed = np.random.rand(N);\n",
    "        for j in range(N):\n",
    "            CC[j]= int((Seed[j]< equilibrium) == True);\n",
    "            \n",
    "    \n",
    "        one_time_reward = onetrial(SS,CC,timesteps,alpha,p,r,N);\n",
    "        Reward = Reward+one_time_reward;\n",
    "       \n",
    "        \n",
    "    lowerbound = 100*Reward/(timesteps*ntrials*N);\n",
    "    \n",
    "    print(lowerbound);\n"
   ]
  },
  {
   "cell_type": "code",
   "execution_count": 20,
   "metadata": {},
   "outputs": [
    {
     "name": "stdout",
     "output_type": "stream",
     "text": [
      "26.0504\n"
     ]
    }
   ],
   "source": [
    "mc(50,1000,0.4,0.7,0.4,10);"
   ]
  },
  {
   "cell_type": "code",
   "execution_count": 89,
   "metadata": {},
   "outputs": [
    {
     "name": "stdout",
     "output_type": "stream",
     "text": [
      "26.1199076\n"
     ]
    }
   ],
   "source": [
    "mc(500,1000,0.4,0.7,0.4,500);"
   ]
  },
  {
   "cell_type": "code",
   "execution_count": 90,
   "metadata": {},
   "outputs": [
    {
     "name": "stdout",
     "output_type": "stream",
     "text": [
      "26.1561834\n"
     ]
    }
   ],
   "source": [
    "mc(500,1000,0.4,0.7,0.4,1000);"
   ]
  },
  {
   "cell_type": "code",
   "execution_count": 92,
   "metadata": {},
   "outputs": [
    {
     "name": "stdout",
     "output_type": "stream",
     "text": [
      "26.16631093333333\n"
     ]
    }
   ],
   "source": [
    "mc(500,1000,0.4,0.7,0.4,1500);"
   ]
  },
  {
   "cell_type": "code",
   "execution_count": 93,
   "metadata": {},
   "outputs": [
    {
     "name": "stdout",
     "output_type": "stream",
     "text": [
      "26.1738241\n"
     ]
    }
   ],
   "source": [
    "mc(500,1000,0.4,0.7,0.4,2000);"
   ]
  },
  {
   "cell_type": "code",
   "execution_count": 94,
   "metadata": {},
   "outputs": [
    {
     "name": "stdout",
     "output_type": "stream",
     "text": [
      "26.17523744\n"
     ]
    }
   ],
   "source": [
    "mc(500,1000,0.4,0.7,0.4,2500);"
   ]
  },
  {
   "cell_type": "code",
   "execution_count": 16,
   "metadata": {},
   "outputs": [
    {
     "name": "stdout",
     "output_type": "stream",
     "text": [
      "25.99672\n",
      "25.96139\n",
      "25.95826\n",
      "25.983035\n",
      "25.989608\n",
      "26.013612\n",
      "26.053762\n"
     ]
    }
   ],
   "source": [
    "def lb(N):\n",
    "    lb= mc(500,1000,0.4,0.7,0.4,N);\n",
    "    return lb;\n",
    "\n",
    "y= [lb(10),lb(20),lb(30),lb(40),lb(50),lb(100),lb(200)];\n",
    "\n",
    "#The upperbound is 26.213"
   ]
  },
  {
   "cell_type": "code",
   "execution_count": 18,
   "metadata": {},
   "outputs": [
    {
     "name": "stdout",
     "output_type": "stream",
     "text": [
      "15.11204\n",
      "15.0309\n",
      "15.07132\n",
      "15.151135\n",
      "15.225636\n",
      "15.4682\n",
      "15.59623\n"
     ]
    }
   ],
   "source": [
    "def lb(N):\n",
    "    lb= mc(500,1000,0.4,0.7,0.1,N);\n",
    "    return lb;\n",
    "\n",
    "y= [lb(10),lb(20),lb(30),lb(40),lb(50),lb(100),lb(200)];\n",
    "\n",
    "#The upperbound is 16.360"
   ]
  },
  {
   "cell_type": "code",
   "execution_count": 91,
   "metadata": {},
   "outputs": [
    {
     "name": "stdout",
     "output_type": "stream",
     "text": [
      "15.70469\n"
     ]
    }
   ],
   "source": [
    "mc(500,1000,0.4,0.7,0.1,1000);"
   ]
  },
  {
   "cell_type": "code",
   "execution_count": 95,
   "metadata": {},
   "outputs": [
    {
     "name": "stdout",
     "output_type": "stream",
     "text": [
      "15.7376649\n"
     ]
    }
   ],
   "source": [
    "mc(500,1000,0.4,0.7,0.1,2000);"
   ]
  },
  {
   "cell_type": "code",
   "execution_count": 19,
   "metadata": {},
   "outputs": [
    {
     "name": "stdout",
     "output_type": "stream",
     "text": [
      "15.74483408\n"
     ]
    }
   ],
   "source": [
    "mc(500,1000,0.4,0.7,0.1,2500);"
   ]
  },
  {
   "cell_type": "code",
   "execution_count": 21,
   "metadata": {},
   "outputs": [
    {
     "name": "stdout",
     "output_type": "stream",
     "text": [
      "27.47604\n",
      "27.46874\n",
      "27.516693333333333\n",
      "27.534015\n",
      "27.566244\n",
      "27.623274\n",
      "27.701735\n"
     ]
    }
   ],
   "source": [
    "def lb(N):\n",
    "    lb= mc(500,1000,0.4,0.8,0.2,N);\n",
    "    return lb;\n",
    "\n",
    "y= [lb(10),lb(20),lb(30),lb(40),lb(50),lb(100),lb(200)];\n",
    "\n",
    "#The upperbound is 28.191"
   ]
  },
  {
   "cell_type": "code",
   "execution_count": 22,
   "metadata": {},
   "outputs": [
    {
     "name": "stdout",
     "output_type": "stream",
     "text": [
      "27.8166748\n"
     ]
    }
   ],
   "source": [
    "mc(500,1000,0.4,0.8,0.2,1000);"
   ]
  },
  {
   "cell_type": "code",
   "execution_count": 23,
   "metadata": {},
   "outputs": [
    {
     "name": "stdout",
     "output_type": "stream",
     "text": [
      "27.8465467\n"
     ]
    }
   ],
   "source": [
    "mc(500,1000,0.4,0.8,0.2,2000);"
   ]
  },
  {
   "cell_type": "code",
   "execution_count": 24,
   "metadata": {},
   "outputs": [
    {
     "name": "stdout",
     "output_type": "stream",
     "text": [
      "27.85617248\n"
     ]
    }
   ],
   "source": [
    "mc(500,1000,0.4,0.8,0.2,2500);"
   ]
  },
  {
   "cell_type": "code",
   "execution_count": 39,
   "metadata": {},
   "outputs": [
    {
     "name": "stdout",
     "output_type": "stream",
     "text": [
      "31.85306\n",
      "31.87321\n",
      "31.89122\n",
      "31.88525\n",
      "31.901928\n",
      "31.92582\n",
      "31.949833\n"
     ]
    }
   ],
   "source": [
    "def lb(N):\n",
    "    lb= mc(500,1000,0.4,0.85,0.25,N);\n",
    "    return lb;\n",
    "\n",
    "y= [lb(10),lb(20),lb(30),lb(40),lb(50),lb(100),lb(200)];\n",
    "\n",
    "\n",
    "#The upperbound is 32.181"
   ]
  },
  {
   "cell_type": "code",
   "execution_count": 40,
   "metadata": {},
   "outputs": [
    {
     "name": "stdout",
     "output_type": "stream",
     "text": [
      "32.0471892\n"
     ]
    }
   ],
   "source": [
    "mc(500,1000,0.4,0.85,0.25,1000);"
   ]
  },
  {
   "cell_type": "code",
   "execution_count": 12,
   "metadata": {},
   "outputs": [
    {
     "name": "stdout",
     "output_type": "stream",
     "text": [
      "32.0842939\n"
     ]
    }
   ],
   "source": [
    "mc(500,1000,0.4,0.85,0.25,2000);"
   ]
  },
  {
   "cell_type": "code",
   "execution_count": null,
   "metadata": {},
   "outputs": [],
   "source": [
    "mc(500,1000,0.4,0.85,0.25,2500);"
   ]
  },
  {
   "cell_type": "code",
   "execution_count": null,
   "metadata": {},
   "outputs": [],
   "source": []
  },
  {
   "cell_type": "code",
   "execution_count": 14,
   "metadata": {},
   "outputs": [
    {
     "name": "stdout",
     "output_type": "stream",
     "text": [
      "31.3622\n",
      "31.3484\n",
      "31.34545333333333\n",
      "31.354545\n",
      "31.336424\n",
      "31.346258\n",
      "31.358815\n"
     ]
    }
   ],
   "source": [
    "def lb(N):\n",
    "    lb= mc(500,1000,0.4,0.8,0.55,N);\n",
    "    return lb;\n",
    "\n",
    "y= [lb(10),lb(20),lb(30),lb(40),lb(50),lb(100),lb(200)];\n",
    "\n",
    "\n",
    "#The upperbound is 31.428"
   ]
  },
  {
   "cell_type": "code",
   "execution_count": null,
   "metadata": {},
   "outputs": [],
   "source": [
    "mc(500,1000,0.4,0.8,0.55,1000);"
   ]
  },
  {
   "cell_type": "code",
   "execution_count": null,
   "metadata": {},
   "outputs": [],
   "source": [
    "mc(500,1000,0.4,0.8,0.55,2000；"
   ]
  },
  {
   "cell_type": "code",
   "execution_count": null,
   "metadata": {},
   "outputs": [],
   "source": [
    "mc(500,1000,0.4,0.8,0.55,2500);"
   ]
  },
  {
   "cell_type": "code",
   "execution_count": null,
   "metadata": {},
   "outputs": [],
   "source": []
  },
  {
   "cell_type": "code",
   "execution_count": 4,
   "metadata": {},
   "outputs": [
    {
     "name": "stdout",
     "output_type": "stream",
     "text": [
      "35.81112\n",
      "35.80998\n",
      "35.81238666666667\n",
      "35.79548\n",
      "35.793384\n",
      "35.796726666666665\n",
      "35.801634285714286\n",
      "35.790925\n",
      "35.78768888888889\n",
      "35.786096\n",
      "35.79165\n",
      "35.790741\n"
     ]
    }
   ],
   "source": [
    "def lb(N):\n",
    "    lb= mc([[0,0]]*N,0,500,1000,0.4,0.9,0.6,N);\n",
    "    return lb;\n",
    "\n",
    "y= [lb(5),lb(10),lb(15),lb(20),lb(25),lb(30),lb(35),lb(40),lb(45),lb(50),lb(100),lb(200)];\n",
    "\n",
    "\n",
    "#The upperbound is 35.821"
   ]
  },
  {
   "cell_type": "code",
   "execution_count": 4,
   "metadata": {},
   "outputs": [
    {
     "name": "stdout",
     "output_type": "stream",
     "text": [
      "11.27528\n",
      "11.31232\n",
      "11.341306666666666\n",
      "11.34234\n",
      "11.357856\n",
      "11.387486666666666\n",
      "11.39444\n",
      "11.39734\n",
      "11.39568\n",
      "11.429376\n",
      "11.475024\n",
      "11.537278\n"
     ]
    }
   ],
   "source": [
    "def lb(N):\n",
    "    lb= mc([[0,0]]*N,0,500,1000,0.4,0.4,0.2,N);\n",
    "    return lb;\n",
    "\n",
    "y= [lb(5),lb(10),lb(15),lb(20),lb(25),lb(30),lb(35),lb(40),lb(45),lb(50),lb(100),lb(200)];\n",
    "\n",
    "\n",
    "#The upperbound is 11.704"
   ]
  },
  {
   "cell_type": "code",
   "execution_count": null,
   "metadata": {},
   "outputs": [],
   "source": []
  }
 ],
 "metadata": {
  "kernelspec": {
   "display_name": "Python 3",
   "language": "python",
   "name": "python3"
  },
  "language_info": {
   "codemirror_mode": {
    "name": "ipython",
    "version": 3
   },
   "file_extension": ".py",
   "mimetype": "text/x-python",
   "name": "python",
   "nbconvert_exporter": "python",
   "pygments_lexer": "ipython3",
   "version": "3.7.4"
  }
 },
 "nbformat": 4,
 "nbformat_minor": 2
}
