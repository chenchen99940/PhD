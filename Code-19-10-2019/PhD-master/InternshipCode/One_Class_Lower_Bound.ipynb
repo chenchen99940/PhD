{
 "cells": [
  {
   "cell_type": "code",
   "execution_count": 7,
   "metadata": {},
   "outputs": [],
   "source": [
    "import numpy as np\n",
    "import matplotlib.pyplot as plt\n",
    "%matplotlib inline\n",
    "\n",
    "    \n",
    "    \n",
    "    \n",
    "def Belief(State,p,r):\n",
    "   \n",
    "    equilibrium = r/(1-p+r);\n",
    "    \n",
    "    if State[0]== 0 and State[1]> 0:\n",
    "            Belief = (r-r*(p-r)**(State[1]))/(1+r-p);\n",
    "    elif State[0]== 1 and State[1]> 0:\n",
    "            Belief = (r+(1-p)*(p-r)**(State[1]))/(1+r-p);\n",
    "            \n",
    "    else:\n",
    "        \n",
    "        Belief = equilibrium;\n",
    "\n",
    "    return Belief;\n",
    "            \n",
    "        \n",
    "def WhittleIndex(State,p,r):\n",
    "    WhittleIndex = 0.;\n",
    "\n",
    "    \n",
    "    if State[0]== 0 and State[1]>0:\n",
    "        l= State[1];\n",
    "        x= Belief([0,l],p,r);\n",
    "        y=Belief([0,l+1],p,r);\n",
    "        WhittleIndex =((x-y)*(l+1)+y)/(1-p+(x-y)*l+y); \n",
    "    elif State[0] == 1:\n",
    "        WhittleIndex = r/((1-p)*(1+r-p)+r);\n",
    "    \n",
    "    else:\n",
    "        WhittleIndex = r/((1-p)*(1+r-p)+r);\n",
    "            \n",
    "    return WhittleIndex;\n",
    "\n",
    "def update(S, C,Reward,alpha,p,r,N):\n",
    "        #the update process of each timestep.\n",
    "        \n",
    "        #S is the list of states of all channels.\n",
    "        W = [0.]*N;\n",
    "        Y = [0.]*N;\n",
    "        Action = [0]*N;\n",
    "        Threshold = 0.;\n",
    "        Seed = np.random.rand(N);\n",
    "        \n",
    "       #Get the Threshold. \n",
    "        for i in range(N):\n",
    "            Y[i]= WhittleIndex(S[i],p,r);\n",
    "        \n",
    "        Y.sort();\n",
    "        Threshold = Y[int((1-alpha)*N)];\n",
    "        \n",
    "        \n",
    "        \n",
    "       #Get the Action vector.\n",
    "        for i in range(N):\n",
    "            W[i]= WhittleIndex(S[i],p,r);\n",
    "    \n",
    "        h=0;\n",
    "        for i in range(N):\n",
    "            if W[i]>= Threshold:\n",
    "                Action[i]=1;\n",
    "                h=h+1;\n",
    "            if h >= alpha*N:\n",
    "                break;\n",
    "            \n",
    "       #The update process.\n",
    "       \n",
    "        for i in range(N):\n",
    "        \n",
    "            if Action[i] == 0 and S[i][1]>0:\n",
    "                S[i][1]= S[i][1]+1;\n",
    "                if C[i]==0:\n",
    "                    if Seed[i]<r:\n",
    "                        C[i]=1;\n",
    "                    else:\n",
    "                        C[i]=0;\n",
    "                else:\n",
    "                    if Seed[i]<p:\n",
    "                        C[i]=1;\n",
    "                    else:\n",
    "                        C[i]=0;\n",
    "                \n",
    "                \n",
    "                \n",
    "               \n",
    "             \n",
    "            elif Action[i] == 0 and S[i][1]==0:\n",
    "                if C[i]==0:\n",
    "                    if Seed[i]<r:\n",
    "                        C[i]=1;\n",
    "                    else:\n",
    "                        C[i]=0;\n",
    "                else: \n",
    "                    if Seed[i]<p:\n",
    "                        C[i]=1;\n",
    "                    else:\n",
    "                        C[i]=0;\n",
    "            \n",
    "            else:\n",
    "                if C[i]==1:\n",
    "                    S[i]= [1,1];\n",
    "                    Reward = Reward + 1;\n",
    "                    C[i]= int((Seed[i]<p)==True);\n",
    "                    \n",
    "                else:\n",
    "                    S[i]= [0,1];\n",
    "                    C[i]= int((Seed[i]<r)==True);\n",
    "        \n",
    "        \n",
    "        return Reward;\n",
    "    \n"
   ]
  },
  {
   "cell_type": "code",
   "execution_count": 8,
   "metadata": {},
   "outputs": [
    {
     "name": "stdout",
     "output_type": "stream",
     "text": [
      "1\n"
     ]
    }
   ],
   "source": [
    "print(update([[0,0],[0,0],[0,3],[0,2],[0,0],[1,4],[1,3],[1,7],[0,4],[0,6]],[0,0,1,0,0,1,1,0,0,0],0,0.4,0.6,0.3,10));"
   ]
  },
  {
   "cell_type": "code",
   "execution_count": 9,
   "metadata": {},
   "outputs": [],
   "source": [
    "def onetrial(S,C,Reward,timesteps,alpha,p,r,N):\n",
    "\n",
    "    for i in range(timesteps):\n",
    "        Reward = update(S,C,Reward,alpha,p,r,N);\n",
    "    return Reward;"
   ]
  },
  {
   "cell_type": "code",
   "execution_count": 10,
   "metadata": {},
   "outputs": [
    {
     "name": "stdout",
     "output_type": "stream",
     "text": [
      "178\n"
     ]
    }
   ],
   "source": [
    "print(onetrial([[0,0],[0,0],[0,3],[0,2],[0,0],[1,4],[1,3],[1,7],[0,4],[0,6]],[0,0,1,0,0,1,1,0,0,1],0,100,0.4,0.6,0.2,10));"
   ]
  },
  {
   "cell_type": "code",
   "execution_count": 11,
   "metadata": {},
   "outputs": [],
   "source": [
    "def mc(S,Reward,ntrials,timesteps,alpha,p,r,N):\n",
    "    equilibrium = r/(1-p+r);\n",
    "    \n",
    "   \n",
    "    bigS = [S]*(ntrials);\n",
    "    for i in range(ntrials):\n",
    "        C = [0]*N;\n",
    "        Seed = np.random.rand(N);\n",
    "        for j in range(N):\n",
    "            C[j]= int((Seed[j]< equilibrium) == True);\n",
    "    \n",
    "        Reward = onetrial(bigS[i],C,Reward,timesteps,alpha,p,r,N);\n",
    "        \n",
    "    lowerbound = 100*Reward/(timesteps*ntrials*N);\n",
    "    \n",
    "    print(lowerbound);\n"
   ]
  },
  {
   "cell_type": "code",
   "execution_count": 12,
   "metadata": {},
   "outputs": [
    {
     "name": "stdout",
     "output_type": "stream",
     "text": [
      "20.21306\n",
      "20.19057\n",
      "20.215253333333333\n",
      "20.233785\n",
      "20.235248\n",
      "20.291214\n",
      "20.334375\n"
     ]
    }
   ],
   "source": [
    "def lb(N):\n",
    "    lb= mc([[0,0]]*N,0,500,1000,0.4,0.6,0.3,N);\n",
    "    return lb;\n",
    "\n",
    "y= [lb(10),lb(20),lb(30),lb(40),lb(50),lb(100),lb(200)];\n",
    "\n",
    "#The upperbound is 20.613"
   ]
  },
  {
   "cell_type": "code",
   "execution_count": 13,
   "metadata": {},
   "outputs": [
    {
     "name": "stdout",
     "output_type": "stream",
     "text": [
      "25.9884\n",
      "25.96761\n",
      "25.963073333333334\n",
      "25.965595\n",
      "25.986276\n",
      "26.009266\n",
      "26.052708\n"
     ]
    }
   ],
   "source": [
    "def lb(N):\n",
    "    lb= mc([[0,0]]*N,0,500,1000,0.4,0.7,0.4,N);\n",
    "    return lb;\n",
    "\n",
    "y= [lb(10),lb(20),lb(30),lb(40),lb(50),lb(100),lb(200)];\n",
    "\n",
    "#The upperbound is 26.213"
   ]
  },
  {
   "cell_type": "code",
   "execution_count": 14,
   "metadata": {},
   "outputs": [
    {
     "name": "stdout",
     "output_type": "stream",
     "text": [
      "15.06688\n",
      "15.0089\n",
      "15.08128\n",
      "15.192605\n",
      "15.241972\n",
      "15.452184\n",
      "15.594539\n"
     ]
    }
   ],
   "source": [
    "def lb(N):\n",
    "    lb= mc([[0,0]]*N,0,500,1000,0.4,0.7,0.1,N);\n",
    "    return lb;\n",
    "\n",
    "y= [lb(10),lb(20),lb(30),lb(40),lb(50),lb(100),lb(200)];\n",
    "\n",
    "#The upperbound is 16.360"
   ]
  },
  {
   "cell_type": "code",
   "execution_count": 4,
   "metadata": {},
   "outputs": [
    {
     "name": "stdout",
     "output_type": "stream",
     "text": [
      "26.34472\n",
      "27.0817\n",
      "27.203146666666665\n",
      "27.30157\n",
      "27.364488\n",
      "27.39488\n",
      "27.446142857142856\n",
      "27.46561\n",
      "27.476506666666666\n",
      "27.531092\n",
      "27.600314\n",
      "27.700184\n"
     ]
    }
   ],
   "source": [
    "def lb(N):\n",
    "    lb= mc([[0,0]]*N,0,500,1000,0.4,0.8,0.2,N);\n",
    "    return lb;\n",
    "\n",
    "y= [lb(5),lb(10),lb(15),lb(20),lb(25),lb(30),lb(35),lb(40),lb(45),lb(50),lb(100),lb(200)];\n",
    "\n",
    "#The upperbound is 28.191"
   ]
  },
  {
   "cell_type": "code",
   "execution_count": 4,
   "metadata": {},
   "outputs": [
    {
     "name": "stdout",
     "output_type": "stream",
     "text": [
      "31.11776\n",
      "31.66474\n",
      "31.74108\n",
      "31.81541\n",
      "31.829632\n",
      "31.84942\n",
      "31.852005714285713\n",
      "31.876635\n",
      "31.859368888888888\n",
      "31.878928\n",
      "31.930518\n",
      "31.961919\n"
     ]
    }
   ],
   "source": [
    "def lb(N):\n",
    "    lb= mc([[0,0]]*N,0,500,1000,0.4,0.85,0.25,N);\n",
    "    return lb;\n",
    "\n",
    "y= [lb(5),lb(10),lb(15),lb(20),lb(25),lb(30),lb(35),lb(40),lb(45),lb(50),lb(100),lb(200)];\n",
    "\n",
    "\n",
    "#The upperbound is 32.181"
   ]
  },
  {
   "cell_type": "code",
   "execution_count": 4,
   "metadata": {},
   "outputs": [
    {
     "name": "stdout",
     "output_type": "stream",
     "text": [
      "31.31328\n",
      "31.33778\n",
      "31.35488\n",
      "31.34725\n",
      "31.328696\n",
      "31.337653333333332\n",
      "31.33724\n",
      "31.34773\n",
      "31.335395555555557\n",
      "31.321436\n",
      "31.349174\n",
      "31.356404\n"
     ]
    }
   ],
   "source": [
    "def lb(N):\n",
    "    lb= mc([[0,0]]*N,0,500,1000,0.4,0.8,0.55,N);\n",
    "    return lb;\n",
    "\n",
    "y= [lb(5),lb(10),lb(15),lb(20),lb(25),lb(30),lb(35),lb(40),lb(45),lb(50),lb(100),lb(200)];\n",
    "\n",
    "#The upperbound is 31.428"
   ]
  },
  {
   "cell_type": "code",
   "execution_count": 4,
   "metadata": {},
   "outputs": [
    {
     "name": "stdout",
     "output_type": "stream",
     "text": [
      "35.81112\n",
      "35.80998\n",
      "35.81238666666667\n",
      "35.79548\n",
      "35.793384\n",
      "35.796726666666665\n",
      "35.801634285714286\n",
      "35.790925\n",
      "35.78768888888889\n",
      "35.786096\n",
      "35.79165\n",
      "35.790741\n"
     ]
    }
   ],
   "source": [
    "def lb(N):\n",
    "    lb= mc([[0,0]]*N,0,500,1000,0.4,0.9,0.6,N);\n",
    "    return lb;\n",
    "\n",
    "y= [lb(5),lb(10),lb(15),lb(20),lb(25),lb(30),lb(35),lb(40),lb(45),lb(50),lb(100),lb(200)];\n",
    "\n",
    "\n",
    "#The upperbound is 35.821"
   ]
  },
  {
   "cell_type": "code",
   "execution_count": 4,
   "metadata": {},
   "outputs": [
    {
     "name": "stdout",
     "output_type": "stream",
     "text": [
      "11.27528\n",
      "11.31232\n",
      "11.341306666666666\n",
      "11.34234\n",
      "11.357856\n",
      "11.387486666666666\n",
      "11.39444\n",
      "11.39734\n",
      "11.39568\n",
      "11.429376\n",
      "11.475024\n",
      "11.537278\n"
     ]
    }
   ],
   "source": [
    "def lb(N):\n",
    "    lb= mc([[0,0]]*N,0,500,1000,0.4,0.4,0.2,N);\n",
    "    return lb;\n",
    "\n",
    "y= [lb(5),lb(10),lb(15),lb(20),lb(25),lb(30),lb(35),lb(40),lb(45),lb(50),lb(100),lb(200)];\n",
    "\n",
    "\n",
    "#The upperbound is 11.704"
   ]
  },
  {
   "cell_type": "code",
   "execution_count": null,
   "metadata": {},
   "outputs": [],
   "source": []
  }
 ],
 "metadata": {
  "kernelspec": {
   "display_name": "Python 3",
   "language": "python",
   "name": "python3"
  },
  "language_info": {
   "codemirror_mode": {
    "name": "ipython",
    "version": 3
   },
   "file_extension": ".py",
   "mimetype": "text/x-python",
   "name": "python",
   "nbconvert_exporter": "python",
   "pygments_lexer": "ipython3",
   "version": "3.7.3"
  }
 },
 "nbformat": 4,
 "nbformat_minor": 2
}
