{
 "cells": [
  {
   "cell_type": "code",
   "execution_count": 2,
   "metadata": {},
   "outputs": [],
   "source": [
    "import numpy as np\n",
    "import matplotlib.pyplot as plt\n",
    "%matplotlib inline\n",
    "\n",
    "    \n",
    "    \n",
    "    \n",
    "def Belief(State,p,r):\n",
    "   \n",
    "    equilibrium = r/(1-p+r);\n",
    "    \n",
    "    if State[0]== 0 and State[1]> 0:\n",
    "            Belief = (r-r*(p-r)**(State[1]))/(1+r-p);\n",
    "    elif State[0]== 1 and State[1]> 0:\n",
    "            Belief = (r+(1-p)*(p-r)**(State[1]))/(1+r-p);\n",
    "            \n",
    "    else:\n",
    "        \n",
    "        Belief = equilibrium;\n",
    "\n",
    "    return Belief;\n",
    "            \n",
    "        \n",
    "def WhittleIndex(State,p,r):\n",
    "    WhittleIndex = 0.;\n",
    "\n",
    "    \n",
    "    if State[0]== 0 and State[1]>0:\n",
    "        l= State[1];\n",
    "        x= Belief([0,l],p,r);\n",
    "        y=Belief([0,l+1],p,r);\n",
    "        WhittleIndex =((x-y)*(l+1)+y)/(1-p+(x-y)*l+y); \n",
    "    elif State[0] == 1:\n",
    "        WhittleIndex = r/((1-p)*(1+r-p)+r);\n",
    "    \n",
    "    else:\n",
    "        WhittleIndex = r/((1-p)*(1+r-p)+r);\n",
    "            \n",
    "    return WhittleIndex;\n",
    "\n",
    "def update(S,C,Reward,alpha,p,r,q,s,gamma,N):\n",
    "        #the update process of each timestep.\n",
    "        \n",
    "        #S is the list of belief states of all channels.\n",
    "        #C is the list of actual channel states.\n",
    "        W = [0.]*N;\n",
    "        Y = [0.]*N;\n",
    "        Action = [0]*N;\n",
    "        Threshold = 0.;\n",
    "        Seed = np.random.rand(N);\n",
    "        \n",
    "       #Get the Threshold. \n",
    "        for i in range(int(N*gamma)):\n",
    "            Y[i]= WhittleIndex(S[i],p,r);\n",
    "        for i in range(int(N*gamma),N):\n",
    "            Y[i]= WhittleIndex(S[i],q,s);\n",
    "        \n",
    "        Y.sort();\n",
    "        Threshold = Y[int((1-alpha)*N)];\n",
    "        \n",
    "        \n",
    "        \n",
    "       #Get the Action vector.\n",
    "        for i in range(int(N*gamma)):\n",
    "            W[i]= WhittleIndex(S[i],p,r);\n",
    "        for i in range(int(N*gamma),N):\n",
    "            W[i]= WhittleIndex(S[i],q,s);\n",
    "    \n",
    "        h=0;\n",
    "        for i in range(N):\n",
    "            if W[i]>= Threshold:\n",
    "                Action[i]=1;\n",
    "                h=h+1;\n",
    "            if h >= alpha*N:\n",
    "                break;\n",
    "            \n",
    "       #The update process.\n",
    "       \n",
    "        for i in range(int(N*gamma)):\n",
    "        \n",
    "            if Action[i] == 0 and S[i][1]>0:\n",
    "                S[i][1]= S[i][1]+1;\n",
    "                if C[i]==0:\n",
    "                    if Seed[i]<r:\n",
    "                        C[i]=1;\n",
    "                    else:\n",
    "                        C[i]=0;\n",
    "                else:\n",
    "                    if Seed[i]<p:\n",
    "                        C[i]=1;\n",
    "                    else:\n",
    "                        C[i]=0;\n",
    "                \n",
    "                \n",
    "                \n",
    "               \n",
    "             \n",
    "            elif Action[i] == 0 and S[i][1]==0:\n",
    "                if C[i]==0:\n",
    "                    if Seed[i]<r:\n",
    "                        C[i]=1;\n",
    "                    else:\n",
    "                        C[i]=0;\n",
    "                else: \n",
    "                    if Seed[i]<p:\n",
    "                        C[i]=1;\n",
    "                    else:\n",
    "                        C[i]=0;\n",
    "            \n",
    "            else:\n",
    "                if C[i]==1:\n",
    "                    S[i]= [1,1];\n",
    "                    Reward = Reward + 1;\n",
    "                    C[i]= int((Seed[i]<p)==True);\n",
    "                    \n",
    "                else:\n",
    "                    S[i]= [0,1];\n",
    "                    C[i]= int((Seed[i]<r)==True);\n",
    "        \n",
    "        for i in range(int(N*gamma),N):\n",
    "        \n",
    "            if Action[i] == 0 and S[i][1]>0:\n",
    "                S[i][1]= S[i][1]+1;\n",
    "                if C[i]==0:\n",
    "                    if Seed[i]<s:\n",
    "                        C[i]=1;\n",
    "                    else:\n",
    "                        C[i]=0;\n",
    "                else:\n",
    "                    if Seed[i]<q:\n",
    "                        C[i]=1;\n",
    "                    else:\n",
    "                        C[i]=0;\n",
    "                \n",
    "                \n",
    "                \n",
    "               \n",
    "             \n",
    "            elif Action[i] == 0 and S[i][1]==0:\n",
    "                if C[i]==0:\n",
    "                    if Seed[i]<s:\n",
    "                        C[i]=1;\n",
    "                    else:\n",
    "                        C[i]=0;\n",
    "                else: \n",
    "                    if Seed[i]<q:\n",
    "                        C[i]=1;\n",
    "                    else:\n",
    "                        C[i]=0;\n",
    "            \n",
    "            else:\n",
    "                if C[i]==1:\n",
    "                    S[i]= [1,1];\n",
    "                    Reward = Reward + 1;\n",
    "                    C[i]= int((Seed[i]<q)==True);\n",
    "                    \n",
    "                else:\n",
    "                    S[i]= [0,1];\n",
    "                    C[i]= int((Seed[i]<s)==True);\n",
    "        \n",
    "        \n",
    "        \n",
    "        return Reward;\n",
    "    \n",
    "\n",
    "def action(S,C,alpha,p,r,q,s,gamma,N):\n",
    "    \n",
    "    W = [0.]*N;\n",
    "    Y = [0.]*N;\n",
    "    Action = [0]*N;\n",
    "    Threshold = 0.;\n",
    " \n",
    "        \n",
    "    #Get the Threshold. \n",
    "    for i in range(int(N*gamma)):\n",
    "        Y[i]= WhittleIndex(S[i],p,r);\n",
    "    for i in range(int(N*gamma),N):\n",
    "        Y[i]= WhittleIndex(S[i],q,s);\n",
    "        \n",
    "    Y.sort();\n",
    "    Threshold = Y[int((1-alpha)*N)];\n",
    "    \n",
    "    #Get the Action vector.\n",
    "    for i in range(int(N*gamma)):\n",
    "        W[i]= WhittleIndex(S[i],p,r);\n",
    "    for i in range(int(N*gamma),N):\n",
    "        W[i]= WhittleIndex(S[i],q,s);\n",
    "    \n",
    "    h=0;\n",
    "    for i in range(N):\n",
    "        if W[i]>= Threshold:\n",
    "            Action[i]=1;\n",
    "            h=h+1;\n",
    "        if h >= alpha*N:\n",
    "            break;\n",
    "    \n",
    "    return Action;\n",
    "    \n",
    "            \n",
    "\n",
    "        \n",
    "    \n",
    "     \n",
    "    \n",
    "    \n"
   ]
  },
  {
   "cell_type": "code",
   "execution_count": 3,
   "metadata": {},
   "outputs": [],
   "source": [
    "def average(mylist,first,last):\n",
    "    sum = 0;\n",
    "    \n",
    "    for i in range(first,last):\n",
    "        sum = sum + mylist[i];\n",
    "    \n",
    "    number = last - first;\n",
    "    return sum/(number);"
   ]
  },
  {
   "cell_type": "code",
   "execution_count": 14,
   "metadata": {},
   "outputs": [
    {
     "name": "stdout",
     "output_type": "stream",
     "text": [
      "4.5\n"
     ]
    }
   ],
   "source": [
    "l=[1,5,4,8,9,7,3,5,6,5,6];\n",
    "print(average(l,1,3));"
   ]
  },
  {
   "cell_type": "code",
   "execution_count": 25,
   "metadata": {},
   "outputs": [
    {
     "name": "stdout",
     "output_type": "stream",
     "text": [
      "2\n"
     ]
    }
   ],
   "source": [
    "print(update([[0,0],[0,0],[0,3],[0,2],[0,0],[1,4],[1,3],[1,7],[0,4],[0,6]],[0,0,1,0,0,1,1,0,0,0],0,0.5,0.4,0.3,0.6,0.2,0.6,10));"
   ]
  },
  {
   "cell_type": "code",
   "execution_count": 26,
   "metadata": {},
   "outputs": [
    {
     "name": "stdout",
     "output_type": "stream",
     "text": [
      "[1, 1, 0, 0, 1, 1, 1, 0, 0, 0]\n"
     ]
    }
   ],
   "source": [
    "print(action([[0,0],[0,0],[0,3],[0,2],[0,0],[1,4],[1,3],[1,7],[0,4],[0,6]],[0,0,1,0,0,1,1,0,0,0],0.5,0.4,0.3,0.6,0.2,0.6,10));"
   ]
  },
  {
   "cell_type": "code",
   "execution_count": 4,
   "metadata": {},
   "outputs": [],
   "source": [
    "def onetrial(S,C,Reward,timesteps,alpha,p,r,q,s,gamma,N):\n",
    "\n",
    "    for i in range(timesteps):\n",
    "        Reward = update(S,C,Reward,alpha,p,r,q,s,gamma,N);\n",
    "    return Reward;"
   ]
  },
  {
   "cell_type": "code",
   "execution_count": null,
   "metadata": {},
   "outputs": [],
   "source": []
  },
  {
   "cell_type": "code",
   "execution_count": 5,
   "metadata": {},
   "outputs": [
    {
     "name": "stdout",
     "output_type": "stream",
     "text": [
      "22\n"
     ]
    }
   ],
   "source": [
    "print(onetrial([[0,0],[0,0],[0,3],[0,2],[0,0],[1,4],[1,3],[1,7],[0,4],[0,6]],[0,0,1,0,0,1,1,0,0,0],0,10,0.5,0.4,0.3,0.6,0.2,0.6,10));"
   ]
  },
  {
   "cell_type": "code",
   "execution_count": 5,
   "metadata": {},
   "outputs": [],
   "source": [
    "import copy;\n",
    "\n",
    "def mc(S,Reward,ntrials,timesteps,alpha,p,r,q,s,gamma,N):\n",
    "    e_1 = r/(1-p+r);\n",
    "    e_2 = s/(1-q+s);\n",
    "    C = [0]*N;\n",
    "    Seed = np.random.rand(N);\n",
    "    for j in range(int(N*gamma)):\n",
    "            C[j]= int((Seed[j]< e_1) == True);\n",
    "            \n",
    "    for j in range(int(N*gamma),N):\n",
    "            C[j]= int((Seed[j]<e_2) == True);\n",
    "   \n",
    "    for i in range(ntrials):\n",
    "        \n",
    "        SS= copy.deepcopy(S); \n",
    "        CC= copy.deepcopy(C);\n",
    "        Reward = onetrial(SS,CC,Reward,timesteps,alpha,p,r,q,s,gamma,N);\n",
    "        \n",
    "    lowerbound = 100*Reward/(timesteps*ntrials*N);\n",
    "    \n",
    "    return lowerbound;\n"
   ]
  },
  {
   "cell_type": "code",
   "execution_count": 6,
   "metadata": {},
   "outputs": [
    {
     "data": {
      "image/png": "[encoded data removed]",
      "text/plain": [
       "<Figure size 432x288 with 1 Axes>"
      ]
     },
     "metadata": {
      "needs_background": "light"
     },
     "output_type": "display_data"
    }
   ],
   "source": [
    "import numpy as np;\n",
    "from multiprocessing import Pool\n",
    "def worker(n):\n",
    "    return mc([[0,0]]*n,0,500,500,0.3,0.75,0.2,0.8,0.3,0.6,n);\n",
    "\n",
    "num_processors = 16;\n",
    "p=Pool(processes = num_processors);\n",
    "\n",
    "t = list(range(5,505,5));\n",
    "\n",
    "X = p.map(worker,t);\n",
    "\n",
    "plt.plot(t,X);\n",
    "\n",
    "#The theoretical upper bound is 21.387"
   ]
  },
  {
   "cell_type": "code",
   "execution_count": null,
   "metadata": {},
   "outputs": [],
   "source": [
    "import numpy as np;\n",
    "from multiprocessing import Pool\n",
    "def worker(n):\n",
    "    return mc([[0,0]]*n,0,500,500,0.2,0.9,1/15,0.5,1/3,0.5,n);\n",
    "\n",
    "num_processors = 16;\n",
    "p=Pool(processes = num_processors);\n",
    "\n",
    "t = list(range(5,505,5));\n",
    "\n",
    "X = p.map(worker,t);\n",
    "\n",
    "plt.plot(t,X);\n",
    "\n",
    "#The theoretical upper bound is 14.756 "
   ]
  },
  {
   "cell_type": "code",
   "execution_count": null,
   "metadata": {},
   "outputs": [],
   "source": [
    "import numpy as np;\n",
    "from multiprocessing import Pool\n",
    "def worker(n):\n",
    "    return mc([[0,0]]*n,0,500,500,0.7,0.9,1/15,0.5,1/3,0.5,n);\n",
    "\n",
    "num_processors = 16;\n",
    "p=Pool(processes = num_processors);\n",
    "\n",
    "t = list(range(5,505,5));\n",
    "\n",
    "X = p.map(worker,t);\n",
    "\n",
    "plt.plot(t,X);\n",
    "\n",
    "#The theoretical upper bound is 35.288"
   ]
  },
  {
   "cell_type": "code",
   "execution_count": null,
   "metadata": {},
   "outputs": [],
   "source": [
    "import numpy as np;\n",
    "from multiprocessing import Pool\n",
    "def worker(n):\n",
    "    return mc([[0,0]]*n,0,500,500,0.2,0.65,0.15,0.44,0.24,0.5,n);\n",
    "\n",
    "num_processors = 16;\n",
    "p=Pool(processes = num_processors);\n",
    "\n",
    "t = list(range(5,505,5));\n",
    "\n",
    "X = p.map(worker,t);\n",
    "\n",
    "plt.plot(t,X);\n",
    "\n",
    "#The theoretical upper bound is 8.802\n"
   ]
  },
  {
   "cell_type": "code",
   "execution_count": null,
   "metadata": {},
   "outputs": [],
   "source": []
  },
  {
   "cell_type": "code",
   "execution_count": null,
   "metadata": {},
   "outputs": [],
   "source": []
  },
  {
   "cell_type": "code",
   "execution_count": null,
   "metadata": {},
   "outputs": [],
   "source": []
  },
  {
   "cell_type": "code",
   "execution_count": 5,
   "metadata": {},
   "outputs": [
    {
     "name": "stdout",
     "output_type": "stream",
     "text": [
      "[34.698542, 34.79093066666667, 34.794073, 34.8628808, 34.869024, 34.85742742857143, 34.9125935, 34.92322844444445]\n"
     ]
    }
   ],
   "source": [
    "from multiprocessing import Pool\n",
    "def worker(n):\n",
    "    return mc([[0,0]]*n,0,500,1000,0.7,0.9,1/15,0.5,1/3,0.5,n);\n",
    "\n",
    "num_processors=8;\n",
    "\n",
    "p=Pool(processes = num_processors);\n",
    "\n",
    "output = p.map(worker,[100,150,200,250,300,350,400,450]);\n",
    "\n",
    "print(output);\n",
    "\n",
    "\n",
    "\n"
   ]
  },
  {
   "cell_type": "code",
   "execution_count": 6,
   "metadata": {},
   "outputs": [
    {
     "name": "stdout",
     "output_type": "stream",
     "text": [
      "[19.25345, 19.285233, 19.281751333333332, 19.292742, 19.2862548, 19.283928333333332, 19.282546571428572, 19.28469675, 19.27811022222222, 19.2789802]\n"
     ]
    }
   ],
   "source": [
    "from multiprocessing import Pool\n",
    "def worker(n):\n",
    "    return mc([[0,0]]*n,0,500,1000,0.3,0.9,1/15,0.5,1/3,0.5,n);\n",
    "\n",
    "num_processors=10;\n",
    "\n",
    "p=Pool(processes = num_processors);\n",
    "\n",
    "output = p.map(worker,[100,200,300,400,500,600,700,800,900,1000]);\n",
    "\n",
    "print(output);"
   ]
  },
  {
   "cell_type": "code",
   "execution_count": 7,
   "metadata": {},
   "outputs": [
    {
     "name": "stdout",
     "output_type": "stream",
     "text": [
      "[19.289173333333334, 19.288685483870967, 19.288515625, 19.289439393939393, 19.287605882352942, 19.287685714285715, 19.286118055555555, 19.286617567567568, 19.286126315789474, 19.286785897435898, 19.287945, 19.286665853658537, 19.286102380952382, 19.285162790697676, 19.2849875, 19.285695555555556]\n"
     ]
    }
   ],
   "source": [
    "from multiprocessing import Pool\n",
    "def worker(n):\n",
    "    return mc([[0,0]]*2000,0,n,1000,0.3,0.9,1/15,0.5,1/3,0.5,2000);\n",
    "\n",
    "num_processors=16;\n",
    "\n",
    "p=Pool(processes = num_processors);\n",
    "\n",
    "output = p.map(worker,[30,31,32,33,34,35,36,37,38,39,40,41,42,43,44,45]);\n",
    "\n",
    "print(output);"
   ]
  },
  {
   "cell_type": "code",
   "execution_count": null,
   "metadata": {},
   "outputs": [],
   "source": []
  },
  {
   "cell_type": "code",
   "execution_count": null,
   "metadata": {},
   "outputs": [],
   "source": []
  },
  {
   "cell_type": "code",
   "execution_count": 27,
   "metadata": {},
   "outputs": [
    {
     "name": "stdout",
     "output_type": "stream",
     "text": [
      "18.57298\n",
      "18.48417\n",
      "18.48102\n",
      "18.49588\n",
      "18.512772\n",
      "18.602192\n",
      "18.677435\n"
     ]
    }
   ],
   "source": [
    "def lb(N):\n",
    "    lb= mc([[0,0]]*N,0,500,1000,0.5,0.4,0.3,0.6,0.2,0.6,N);\n",
    "    return lb;\n",
    "\n",
    "y= [lb(10),lb(20),lb(30),lb(40),lb(50),lb(100),lb(200)];\n",
    "\n",
    "#For this set of parameters, the performance of the two policies are nearly the same, but we clearly see\n",
    "#the increasing tendance of the performance with N, the toral number of channels!\n",
    "\n",
    "#The upperbound calculated is 19.338\n",
    "    "
   ]
  },
  {
   "cell_type": "code",
   "execution_count": 28,
   "metadata": {},
   "outputs": [
    {
     "name": "stdout",
     "output_type": "stream",
     "text": [
      "34.21854\n",
      "34.38348\n",
      "34.44988\n",
      "34.486515\n",
      "34.554204\n",
      "34.720798\n",
      "34.821584\n"
     ]
    }
   ],
   "source": [
    "def lb(N):\n",
    "    lb= mc([[0,0]]*N,0,500,1000,0.7,0.9,1/15,0.5,1/3,0.5,N);\n",
    "    return lb;\n",
    "\n",
    "y= [lb(10),lb(20),lb(30),lb(40),lb(50),lb(100),lb(200)];\n",
    "\n",
    "#For this set of parameters, the performance of the two policies are still nearly the same,\n",
    "#beacause alpha = 0.7 is large and a large portion of channel will be in Belief State [1,1], so\n",
    "#the two policies will not distinguish between them!\n",
    "\n",
    "#But still, we observe the increasing of performance with N, the total number of channels!\n",
    "#That's a good news!!!\n",
    "\n",
    "#The upperbound calculated is 35.288\n",
    "    "
   ]
  },
  {
   "cell_type": "code",
   "execution_count": 29,
   "metadata": {},
   "outputs": [
    {
     "name": "stdout",
     "output_type": "stream",
     "text": [
      "8.44704\n",
      "8.40003\n",
      "8.39524\n",
      "8.395085\n",
      "8.39588\n",
      "8.404906\n",
      "8.43877\n"
     ]
    }
   ],
   "source": [
    "def lb(N):\n",
    "    lb= mc([[0,0]]*N,0,500,1000,0.2,0.65,0.15,0.44,0.24,0.5,N);\n",
    "    return lb;\n",
    "\n",
    "y= [lb(10),lb(20),lb(30),lb(40),lb(50),lb(100),lb(200)];\n",
    "\n",
    "#For this set of parameters, WhittleIndex Policy performs much better than the BeliefGreedy policy!\n",
    "#Because the alpha = 0.2 is small and most of the channel will in Belief States [0,*], and we see \n",
    "#from the WhittleIndex Plot that there is a 'cross' just after 3 units of time!\n",
    "\n",
    "\n",
    "#The upperbound calculated is 8.802"
   ]
  },
  {
   "cell_type": "code",
   "execution_count": 30,
   "metadata": {},
   "outputs": [
    {
     "name": "stdout",
     "output_type": "stream",
     "text": [
      "13.97262\n",
      "14.10359\n",
      "14.14778\n",
      "14.13342\n",
      "14.154176\n",
      "14.15611\n",
      "14.172237\n"
     ]
    }
   ],
   "source": [
    "def lb(N):\n",
    "    lb= mc([[0,0]]*N,0,500,1000,0.2,0.9,1/15,0.5,1/3,0.5,N);\n",
    "    return lb;\n",
    "\n",
    "y= [lb(10),lb(20),lb(30),lb(40),lb(50),lb(100),lb(200)];\n",
    "\n",
    "#To again verify my theory, I retest the second example with an alpha of 0.2 instead of 0.7 while keeping the \n",
    "#other parameters unchanged, to see if we will make a bigger performance difference in the two policies.\n",
    "\n",
    "#The upperbound calculated is 14.756\n"
   ]
  },
  {
   "cell_type": "code",
   "execution_count": null,
   "metadata": {},
   "outputs": [],
   "source": [
    "#It's nearly 4 percent of performence improvement compare to the BeliefGreedy!!!!!!"
   ]
  },
  {
   "cell_type": "code",
   "execution_count": 7,
   "metadata": {},
   "outputs": [
    {
     "name": "stdout",
     "output_type": "stream",
     "text": [
      "14.268247\n",
      "14.325816933333334\n",
      "14.3709044\n",
      "14.4731894\n"
     ]
    }
   ],
   "source": [
    "def lb(N):\n",
    "    lb= mc([[0,0]]*N,0,500,1000,0.2,0.9,1/15,0.5,1/3,0.5,N);\n",
    "    return lb;\n",
    "\n",
    "y= [lb(1000),lb(1500),lb(2000),lb(5000)];"
   ]
  },
  {
   "cell_type": "code",
   "execution_count": null,
   "metadata": {},
   "outputs": [],
   "source": [
    "def lb(N):\n",
    "    lb= mc([[0,0]]*N,0,500,1000,0.2,0.65,0.15,0.44,0.24,0.5,N);\n",
    "    return lb;\n",
    "\n",
    "y= [lb(1000),lb(1500),lb(2000),lb(5000)];"
   ]
  },
  {
   "cell_type": "code",
   "execution_count": null,
   "metadata": {},
   "outputs": [
    {
     "name": "stdout",
     "output_type": "stream",
     "text": [
      "14.49063534\n",
      "14.496452493333333\n"
     ]
    }
   ],
   "source": [
    "def lb(N):\n",
    "    lb= mc([[0,0]]*N,0,500,1000,0.2,0.9,1/15,0.5,1/3,0.5,N);\n",
    "    return lb;\n",
    "\n",
    "y= [lb(10000),lb(15000)];"
   ]
  },
  {
   "cell_type": "code",
   "execution_count": 7,
   "metadata": {},
   "outputs": [
    {
     "name": "stdout",
     "output_type": "stream",
     "text": [
      "14.49964304\n",
      "14.508246632\n",
      "14.512805012\n"
     ]
    }
   ],
   "source": [
    "def lb(N):\n",
    "    lb= mc([[0,0]]*N,0,500,1000,0.2,0.9,1/15,0.5,1/3,0.5,N);\n",
    "    return lb;\n",
    "\n",
    "y= [lb(20000),lb(50000),lb(100000)]; "
   ]
  },
  {
   "cell_type": "code",
   "execution_count": 6,
   "metadata": {},
   "outputs": [
    {
     "name": "stdout",
     "output_type": "stream",
     "text": [
      "20.7233\n",
      "20.82542\n",
      "20.888073333333335\n",
      "20.95328\n",
      "21.002976\n",
      "21.119846\n",
      "21.169105\n",
      "21.184108\n",
      "21.18744\n",
      "21.18573\n"
     ]
    }
   ],
   "source": [
    "def lb(N):\n",
    "    lb= mc([[0,0]]*N,0,500,1000,0.3,0.75,0.2,0.8,0.3,0.6,N);\n",
    "    return lb;\n",
    "\n",
    "y= [lb(10),lb(20),lb(30),lb(40),lb(50),lb(100),lb(200),lb(300),lb(400),lb(500)];\n",
    "\n",
    "#The upper bound is 21.387242178866277"
   ]
  },
  {
   "cell_type": "code",
   "execution_count": 29,
   "metadata": {},
   "outputs": [
    {
     "name": "stdout",
     "output_type": "stream",
     "text": [
      "20.73388\n",
      "20.82258\n",
      "20.87802\n",
      "20.93655\n",
      "20.99834\n",
      "21.103274\n",
      "21.139594\n",
      "21.15557\n",
      "21.1642825\n",
      "21.1637424\n"
     ]
    }
   ],
   "source": [
    "def lb(N):\n",
    "    lb= mc([[0,0]]*N,0,500,1000,0.3,0.75,0.2,0.8,0.3,0.6,N);\n",
    "    return lb;\n",
    "\n",
    "y= [lb(10),lb(20),lb(30),lb(40),lb(50),lb(100),lb(200),lb(300),lb(400),lb(500)];"
   ]
  },
  {
   "cell_type": "code",
   "execution_count": 8,
   "metadata": {},
   "outputs": [
    {
     "name": "stdout",
     "output_type": "stream",
     "text": [
      "Number of processors:  16\n"
     ]
    }
   ],
   "source": [
    "import multiprocessing as mp\n",
    "print(\"Number of processors: \", mp.cpu_count())"
   ]
  },
  {
   "cell_type": "code",
   "execution_count": 20,
   "metadata": {},
   "outputs": [
    {
     "data": {
      "text/plain": [
       "[[2, 9, 8, 2, 9],\n",
       " [0, 0, 7, 8, 1],\n",
       " [9, 0, 8, 8, 6],\n",
       " [3, 6, 7, 8, 9],\n",
       " [8, 2, 9, 7, 8]]"
      ]
     },
     "execution_count": 20,
     "metadata": {},
     "output_type": "execute_result"
    }
   ],
   "source": [
    "np.random.RandomState(100)\n",
    "arr = np.random.randint(0, 10, size=[200000, 5])\n",
    "data = arr.tolist()\n",
    "data[:5]"
   ]
  },
  {
   "cell_type": "code",
   "execution_count": 25,
   "metadata": {},
   "outputs": [
    {
     "name": "stdout",
     "output_type": "stream",
     "text": [
      "[1, 2, 3, 3, 3, 4, 2, 3, 2, 1, 2]\n"
     ]
    }
   ],
   "source": [
    "def howmany_within_range(row, minimum, maximum):\n",
    "    \"\"\"Returns how many numbers lie within `maximum` and `minimum` in a given `row`\"\"\"\n",
    "    count = 0\n",
    "    for n in row:\n",
    "        if minimum <= n <= maximum:\n",
    "            count = count + 1\n",
    "    return count\n",
    "\n",
    "results = []\n",
    "for row in data:\n",
    "    results.append(howmany_within_range(row, minimum=4, maximum=8))\n",
    "\n",
    "print(results[:11])"
   ]
  },
  {
   "cell_type": "code",
   "execution_count": null,
   "metadata": {},
   "outputs": [],
   "source": []
  }
 ],
 "metadata": {
  "kernelspec": {
   "display_name": "Python 3",
   "language": "python",
   "name": "python3"
  },
  "language_info": {
   "codemirror_mode": {
    "name": "ipython",
    "version": 3
   },
   "file_extension": ".py",
   "mimetype": "text/x-python",
   "name": "python",
   "nbconvert_exporter": "python",
   "pygments_lexer": "ipython3",
   "version": "3.6.8"
  }
 },
 "nbformat": 4,
 "nbformat_minor": 2
}
